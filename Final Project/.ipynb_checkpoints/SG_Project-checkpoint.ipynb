{
 "cells": [
  {
   "cell_type": "code",
   "execution_count": 39,
   "id": "845a02cd",
   "metadata": {},
   "outputs": [],
   "source": [
    "import pandas as pd\n",
    "import numpy as np\n",
    "from functions import disparity_filter,disparity_filter_alpha_cut\n",
    "from matplotlib import pyplot as plt\n",
    "import networkx as nx\n",
    "import math\n",
    "import random\n",
    "from collections import Counter\n",
    "from tabulate import tabulate\n",
    "import re\n",
    "import urllib.request\n",
    "from urllib.error import HTTPError\n",
    "#import imdb\n",
    "from community import community_louvain\n",
    "import networkx.algorithms.community as nx_comm\n",
    "from nltk.probability import FreqDist\n",
    "import nltk\n",
    "from nltk.stem import WordNetLemmatizer\n",
    "from nltk.tokenize import RegexpTokenizer\n",
    "from sklearn.preprocessing import MultiLabelBinarizer\n",
    "from sklearn.feature_extraction.text import TfidfVectorizer\n",
    "from sklearn.model_selection import train_test_split\n",
    "from sklearn.naive_bayes import MultinomialNB\n",
    "from sklearn.multioutput import ClassifierChain\n",
    "from sklearn.metrics import accuracy_score\n",
    "from sklearn.metrics import hamming_loss"
   ]
  },
  {
   "cell_type": "markdown",
   "id": "97cfd978",
   "metadata": {},
   "source": [
    "# 1. Preparing the Network"
   ]
  },
  {
   "cell_type": "code",
   "execution_count": 25,
   "id": "41aa51d5",
   "metadata": {},
   "outputs": [],
   "source": [
    "links = pd.read_csv('D:\\DTU\\Large Files\\Social Graphs\\Project\\ml-latest-small\\\\links.csv')\n",
    "movies = pd.read_csv('D:\\DTU\\Large Files\\Social Graphs\\Project\\ml-latest-small\\\\movies.csv')\n",
    "ratings = pd.read_csv('D:\\DTU\\Large Files\\Social Graphs\\Project\\ml-latest-small\\\\ratings.csv')\n",
    "tags = pd.read_csv('D:\\DTU\\Large Files\\Social Graphs\\Project\\ml-latest-small\\\\tags.csv')"
   ]
  },
  {
   "cell_type": "markdown",
   "id": "393ab704",
   "metadata": {},
   "source": [
    "### Include the High Rankings"
   ]
  },
  {
   "cell_type": "code",
   "execution_count": 26,
   "id": "8eb86223",
   "metadata": {},
   "outputs": [],
   "source": [
    "ratings = ratings[ratings['rating'].isin([4,5])]"
   ]
  },
  {
   "cell_type": "code",
   "execution_count": 9,
   "id": "357f62b2",
   "metadata": {},
   "outputs": [],
   "source": [
    "userIds = ratings['userId'].unique()\n",
    "movieIds = ratings['movieId'].unique()"
   ]
  },
  {
   "cell_type": "code",
   "execution_count": 10,
   "id": "6819b900",
   "metadata": {},
   "outputs": [],
   "source": [
    "# Create both type of dictionaries\n",
    "users_movies_dict = {}\n",
    "\n",
    "for u in userIds:\n",
    "    users_movies_dict[u] = list(ratings[ratings['userId']==u]['movieId'])\n",
    "    \n",
    "movies_users_dict = {}\n",
    "\n",
    "for m in movieIds:\n",
    "    movies_users_dict[m] = list(ratings[ratings['movieId']==m]['userId'])\n",
    "\n"
   ]
  },
  {
   "cell_type": "code",
   "execution_count": 11,
   "id": "65f72423",
   "metadata": {},
   "outputs": [],
   "source": [
    "nodes_w = {}\n",
    "\n",
    "\n",
    "for u in userIds:\n",
    "    for n1 in users_movies_dict[u] :\n",
    "        for n2 in users_movies_dict[u]:\n",
    "            if n1 > n2:\n",
    "                if (n1,n2) in nodes_w:\n",
    "                    nodes_w[(n1,n2)] += 1\n",
    "                else:\n",
    "                    nodes_w[(n1,n2)] = 1            "
   ]
  },
  {
   "cell_type": "code",
   "execution_count": 8,
   "id": "1c358d7d",
   "metadata": {},
   "outputs": [
    {
     "name": "stdout",
     "output_type": "stream",
     "text": [
      "Number of Nodes: 9742\n",
      "Number of Edges: 2347504\n"
     ]
    }
   ],
   "source": [
    "print('Number of Nodes:',len(movies))\n",
    "print('Number of Edges:',len(nodes_w))"
   ]
  },
  {
   "cell_type": "code",
   "execution_count": 9,
   "id": "e3ec2f20",
   "metadata": {},
   "outputs": [],
   "source": [
    "edges_w = [(k[0],k[1],v) for k,v in nodes_w.items()]"
   ]
  },
  {
   "cell_type": "code",
   "execution_count": 10,
   "id": "15f50d76",
   "metadata": {},
   "outputs": [],
   "source": [
    "G = nx.Graph()\n",
    "G.add_weighted_edges_from(edges_w)"
   ]
  },
  {
   "cell_type": "code",
   "execution_count": 11,
   "id": "18337d42",
   "metadata": {},
   "outputs": [],
   "source": [
    "G = disparity_filter(G)\n",
    "G= disparity_filter_alpha_cut(G,weight='weight',alpha_t=0.4, cut_mode='or')"
   ]
  },
  {
   "cell_type": "code",
   "execution_count": 15,
   "id": "f0d0d50b",
   "metadata": {},
   "outputs": [],
   "source": [
    "# nx.write_gml(G, \"D:\\\\DTU\\\\Large Files\\\\Social Graphs\\\\G_project.edgelist\")"
   ]
  },
  {
   "cell_type": "code",
   "execution_count": 14,
   "id": "f6c9b2e5",
   "metadata": {},
   "outputs": [],
   "source": [
    "G = nx.read_gml( \"D:\\\\DTU\\\\Large Files\\\\Social Graphs\\\\G_project.edgelist\")"
   ]
  },
  {
   "cell_type": "markdown",
   "id": "e8b822f6",
   "metadata": {},
   "source": [
    "#### Filter Dataframes"
   ]
  },
  {
   "cell_type": "markdown",
   "id": "efae402a",
   "metadata": {},
   "source": [
    "Since we used a filtering algorithm, some of the nodes are removed from the network and we have to remove them from all of our dataframes as well."
   ]
  },
  {
   "cell_type": "code",
   "execution_count": 40,
   "id": "ff867573",
   "metadata": {},
   "outputs": [],
   "source": [
    "nodes_filtered = list(G.nodes)\n",
    "nodes_filtered = [int(i) for i in nodes_filtered]\n",
    "\n",
    "links = links[links['movieId'].isin( nodes_filtered )]\n",
    "movies = movies[movies['movieId'].isin( nodes_filtered )]\n",
    "ratings = ratings[ratings['movieId'].isin( nodes_filtered )]\n",
    "tags = tags[tags['movieId'].isin( nodes_filtered )]"
   ]
  },
  {
   "cell_type": "code",
   "execution_count": 42,
   "id": "bb46c411",
   "metadata": {},
   "outputs": [],
   "source": [
    "#Write to csv\n",
    "\n",
    "# links.to_csv('D:\\DTU\\Large Files\\Social Graphs\\Project\\ml-latest-small\\\\filtered_links.csv', index=False)\n",
    "# movies.to_csv('D:\\DTU\\Large Files\\Social Graphs\\Project\\ml-latest-small\\\\filtered_movies.csv', index=False)\n",
    "# ratings.to_csv('D:\\DTU\\Large Files\\Social Graphs\\Project\\ml-latest-small\\\\filtered_ratings.csv', index=False)\n",
    "# tags.to_csv('D:\\DTU\\Large Files\\Social Graphs\\Project\\ml-latest-small\\\\filtered_tags.csv', index=False)"
   ]
  },
  {
   "cell_type": "markdown",
   "id": "7e1995d0",
   "metadata": {},
   "source": [
    "#### Year of the Movie"
   ]
  },
  {
   "cell_type": "code",
   "execution_count": 43,
   "id": "35a11ab8",
   "metadata": {},
   "outputs": [],
   "source": [
    "years = []\n",
    "\n",
    "for m in movies['title']:\n",
    "    try:\n",
    "        year = re.findall('\\((\\d\\d\\d\\d)\\)', str(m))[0]\n",
    "    except:\n",
    "        year = 0\n",
    "    years.append(year)\n",
    "         \n",
    "movies['year'] = years\n",
    "movies['year'] = movies['year'].astype(int)"
   ]
  },
  {
   "cell_type": "markdown",
   "id": "d53e1247",
   "metadata": {},
   "source": [
    "#### Average Rating"
   ]
  },
  {
   "cell_type": "code",
   "execution_count": 44,
   "id": "d3135954",
   "metadata": {},
   "outputs": [],
   "source": [
    "movies_avg_rating = ratings.groupby('movieId')['rating'].mean().reset_index()\n",
    "movies['average_rating'] = list(movies_avg_rating['rating'])"
   ]
  },
  {
   "cell_type": "markdown",
   "id": "144f51ea",
   "metadata": {},
   "source": [
    "#### Degree"
   ]
  },
  {
   "cell_type": "code",
   "execution_count": 45,
   "id": "f43531a7",
   "metadata": {},
   "outputs": [],
   "source": [
    "movies['degree'] = [G.degree(n) for n in sorted(list(G.nodes()))]"
   ]
  },
  {
   "cell_type": "code",
   "execution_count": null,
   "id": "2ba3f50d",
   "metadata": {},
   "outputs": [],
   "source": [
    "movies['genres_split'] = movies['genres'].str.split('|')"
   ]
  },
  {
   "cell_type": "markdown",
   "id": "7c24d967",
   "metadata": {},
   "source": [
    "# Web Scraping"
   ]
  },
  {
   "cell_type": "markdown",
   "id": "3b718b56",
   "metadata": {},
   "source": [
    "## Storylines"
   ]
  },
  {
   "cell_type": "code",
   "execution_count": 1,
   "id": "292fc94b",
   "metadata": {},
   "outputs": [],
   "source": [
    "### Scraping storylines\n",
    "# Takes a long time to run (about 80min) - Instead read movies_2.csv\n",
    "\n",
    "## See what info imdb package has of the movies\n",
    "#ia.get_movie_infoset()\n",
    "\n",
    "## Create new empty column for storylines\n",
    "movies[\"Storyline\"] = \"\"\n",
    "ia = imdb.IMDb()\n",
    "\n",
    "## Going trhough all movies \n",
    "for mid in movies[\"movieId\"]:\n",
    "    # Get imdbId\n",
    "    imdbid = links.loc[links[\"movieId\"]==mid, \"imdbId\"].item()\n",
    "    try:\n",
    "        movie = ia.get_movie(\"0\"+str(imdbid), info = 'plot')\n",
    "        movie.infoset2keys\n",
    "        storyline = movie['plot'][0]\n",
    "    except:\n",
    "        storyline = \"\"\n",
    "    # Add storyline to movies dataframe\n",
    "    movies.loc[movies[\"movieId\"]==mid, \"Storyline\"] = storyline\n",
    "\n",
    "### Save movies dataframe to csv\n",
    "#movies.to_csv('movies_2.csv', index=False)\n",
    "\n",
    "# + Country and Amount of sale (revenue) and Duration\n",
    "# Goofs? amount"
   ]
  },
  {
   "cell_type": "code",
   "execution_count": 46,
   "id": "de8d5475",
   "metadata": {},
   "outputs": [],
   "source": [
    "### Reading movies data set with storylines\n",
    "movies_ws = pd.read_csv('movies_2.csv')"
   ]
  },
  {
   "cell_type": "markdown",
   "id": "b6a618cb",
   "metadata": {},
   "source": [
    "## Country"
   ]
  },
  {
   "cell_type": "code",
   "execution_count": 65,
   "id": "aeabfe1f",
   "metadata": {},
   "outputs": [
    {
     "name": "stdout",
     "output_type": "stream",
     "text": [
      "1 hr 41 min (101 min)\n"
     ]
    },
    {
     "data": {
      "text/plain": [
       "101"
      ]
     },
     "execution_count": 65,
     "metadata": {},
     "output_type": "execute_result"
    }
   ],
   "source": [
    "ia = imdb.IMDb()\n",
    "imdbid = links.loc[links[\"movieId\"]==3, \"imdbId\"].item()\n",
    "#infoneeded = 'release dates' #til country\n",
    "infoneeded = 'technical' #til duration\n",
    "movie = ia.get_movie(\"0\"+str(imdbid), info = infoneeded)\n",
    "#movie.infoset2keys\n",
    "print(movie[infoneeded]['runtime'][0])\n",
    "int(movie[infoneeded]['runtime'][0].split('(')[1].split(\" \")[0])\n",
    "#country = movie[infoneeded][0].split(':')[0]\n",
    "#country"
   ]
  },
  {
   "cell_type": "code",
   "execution_count": 2,
   "id": "b1b86a8c",
   "metadata": {},
   "outputs": [],
   "source": [
    "### Scraping Country\n",
    "# Takes a long time to run (about 80min) - Instead read movies_wc.csv\n",
    "\n",
    "## Create new empty column for storylines\n",
    "movies_ws[\"Country\"] = \"\"\n",
    "ia = imdb.IMDb()\n",
    "infoneeded = 'release dates' # For country (where first released)\n",
    "\n",
    "## Going through all movies \n",
    "for mid in movies_ws[\"movieId\"]:\n",
    "    # Get imdbId\n",
    "    imdbid = links.loc[links[\"movieId\"]==mid, \"imdbId\"].item()\n",
    "    try:\n",
    "        movie = ia.get_movie(\"0\"+str(imdbid), info = infoneeded)\n",
    "        country = movie[infoneeded][0].split(':')[0]\n",
    "    except:\n",
    "        country = \"\"\n",
    "    # Add storyline to movies dataframe\n",
    "    movies_ws.loc[movies_ws[\"movieId\"]==mid, \"Country\"] = country\n",
    "\n",
    "### Save movies dataframe to csv\n",
    "movies_ws.to_csv('movies_wc.csv', index=False)\n"
   ]
  },
  {
   "cell_type": "code",
   "execution_count": 66,
   "id": "3f8b80ca",
   "metadata": {},
   "outputs": [],
   "source": [
    "### Reading movies data set with country\n",
    "movies_wc = pd.read_csv('movies_wc.csv')"
   ]
  },
  {
   "cell_type": "markdown",
   "id": "0af871d1",
   "metadata": {},
   "source": [
    "## Runtime"
   ]
  },
  {
   "cell_type": "code",
   "execution_count": 3,
   "id": "58fe4b93",
   "metadata": {},
   "outputs": [],
   "source": [
    "### Scraping Runtime\n",
    "# Takes a long time to run (about 115min) - Instead read movies_final.csv\n",
    "\n",
    "## Create new empty column for storylines\n",
    "movies_wc[\"Runtime\"] = \"\"\n",
    "ia = imdb.IMDb()\n",
    "infoneeded = 'technical' #til duration\n",
    "\n",
    "## Going trhough all movies \n",
    "for mid in movies_wc[\"movieId\"]:\n",
    "    # Get imdbId\n",
    "    imdbid = links.loc[links[\"movieId\"]==mid, \"imdbId\"].item()\n",
    "    try:\n",
    "        movie = ia.get_movie(\"0\"+str(imdbid), info = infoneeded)\n",
    "        runtime = int(movie[infoneeded]['runtime'][0].split('(')[1].split(\" \")[0])\n",
    "    except:\n",
    "        runtime = 0\n",
    "    # Add storyline to movies dataframe\n",
    "    movies_wc.loc[movies_wc[\"movieId\"]==mid, \"Runtime\"] = runtime\n",
    "\n",
    "### Save movies dataframe to csv\n",
    "movies_wc.to_csv('movies_final.csv', index=False)"
   ]
  },
  {
   "cell_type": "markdown",
   "id": "0288fde6",
   "metadata": {},
   "source": [
    "## Genres"
   ]
  },
  {
   "cell_type": "code",
   "execution_count": 29,
   "id": "045dcc9d",
   "metadata": {},
   "outputs": [],
   "source": [
    "movies['genres_split'] = movies['genres'].str.split('|')\n",
    "movies_genres_df = movies.explode('genres_split')\n",
    "movies_genres_df = movies_genres_df[['movieId','title','genres_split','year','average_rating','degree','Runtime','Country','Storyline']]"
   ]
  },
  {
   "cell_type": "code",
   "execution_count": 30,
   "id": "9d70b078",
   "metadata": {},
   "outputs": [],
   "source": [
    "# Write to csv\n",
    "# movies_genres_df.to_csv('D:\\DTU\\Large Files\\Social Graphs\\Project\\ml-latest-small\\\\movies_genres_df.csv', index=False)"
   ]
  },
  {
   "cell_type": "markdown",
   "id": "17fed1dd",
   "metadata": {},
   "source": [
    "## Load all the Datasets"
   ]
  },
  {
   "cell_type": "code",
   "execution_count": 4,
   "id": "4a06c66c",
   "metadata": {},
   "outputs": [],
   "source": [
    "movies = pd.read_csv('D:\\DTU\\Large Files\\Social Graphs\\Project\\ml-latest-small\\\\movies_final.csv')\n",
    "movies_genres_df  = pd.read_csv('D:\\DTU\\Large Files\\Social Graphs\\Project\\ml-latest-small\\\\movies_genres_df.csv')\n",
    "G = nx.read_gml( \"D:\\\\DTU\\\\Large Files\\\\Social Graphs\\\\G_project.edgelist\")\n",
    "links = pd.read_csv('D:\\DTU\\Large Files\\Social Graphs\\Project\\ml-latest-small\\\\filtered_links.csv')\n",
    "ratings = pd.read_csv('D:\\DTU\\Large Files\\Social Graphs\\Project\\ml-latest-small\\\\filtered_ratings.csv')\n",
    "tags = pd.read_csv('D:\\DTU\\Large Files\\Social Graphs\\Project\\ml-latest-small\\\\filtered_tags.csv')\n",
    "\n",
    "G = nx.relabel_nodes(G, lambda x: int(x))\n",
    "movies['genres_split'] = movies['genres'].str.split('|')"
   ]
  },
  {
   "cell_type": "markdown",
   "id": "65266b5b",
   "metadata": {},
   "source": [
    "# 2. Network Analysis"
   ]
  },
  {
   "cell_type": "code",
   "execution_count": 5,
   "id": "92f1b2aa",
   "metadata": {},
   "outputs": [
    {
     "name": "stdout",
     "output_type": "stream",
     "text": [
      "Number of Nodes: 5760\n",
      "Number of Edges: 1472512\n"
     ]
    }
   ],
   "source": [
    "N = G.number_of_nodes()\n",
    "L = G.number_of_edges()\n",
    "print('Number of Nodes:',N)\n",
    "print('Number of Edges:',L)"
   ]
  },
  {
   "cell_type": "markdown",
   "id": "9cbf8acf",
   "metadata": {},
   "source": [
    "As we can see, by implementing the disparity filter, out of 9742 nodes, 3982 nodes had 0 edges and thus removed from the network."
   ]
  },
  {
   "cell_type": "markdown",
   "id": "213de917",
   "metadata": {},
   "source": [
    "#### Power Law"
   ]
  },
  {
   "cell_type": "code",
   "execution_count": 6,
   "id": "a27dc10c",
   "metadata": {},
   "outputs": [
    {
     "name": "stdout",
     "output_type": "stream",
     "text": [
      "Degree Exponent:\n",
      "Calculating best minimal value for power law fit\n",
      "Total Degree: 3.7905687135021355\n"
     ]
    }
   ],
   "source": [
    "import powerlaw\n",
    "\n",
    "print('Degree Exponent:')\n",
    "print('Total Degree:',powerlaw.Fit([G.degree(n) for n in G.nodes()]).alpha)"
   ]
  },
  {
   "cell_type": "markdown",
   "id": "027d9565",
   "metadata": {},
   "source": [
    "#### Degree Distribution"
   ]
  },
  {
   "cell_type": "code",
   "execution_count": 11,
   "id": "f5e1d442",
   "metadata": {
    "scrolled": true
   },
   "outputs": [
    {
     "data": {
      "image/png": "[encoded data removed]",
      "text/plain": [
       "<Figure size 720x360 with 1 Axes>"
      ]
     },
     "metadata": {
      "needs_background": "light"
     },
     "output_type": "display_data"
    }
   ],
   "source": [
    "degrees = [G.degree(n) for n in G.nodes()]\n",
    "\n",
    "n,bins = np.histogram(degrees,bins=20)\n",
    "\n",
    "sum_degrees = np.sum(n)\n",
    "prob = n/sum_degrees\n",
    "max_prob = np.max(prob)\n",
    "\n",
    "center = (bins[:-1] + bins[1:]) / 2\n",
    "\n",
    "fig = plt.figure(figsize = (10, 5))\n",
    "\n",
    "plt.bar(center,prob,width=150,  edgecolor='black',color='darkgreen')\n",
    "plt.title(\"Degree Distribution\")\n",
    "plt.xlabel(\"D\")\n",
    "plt.ylabel(\"Probability\")\n",
    "plt.show()\n"
   ]
  },
  {
   "cell_type": "code",
   "execution_count": 20,
   "id": "bc1663c7",
   "metadata": {},
   "outputs": [],
   "source": [
    "BA = nx.Graph()\n",
    "BA.add_edges_from([(1, 2)])\n",
    "\n",
    "def add_nodes_BA(G,n):\n",
    "    \n",
    "    starting_node = np.max(list(G.nodes()))+1\n",
    "\n",
    "    for source in range(starting_node,n+1):\n",
    "\n",
    "        all_nodes = []\n",
    "\n",
    "        for e in list(G.edges()):\n",
    "            all_nodes.append(e[0]) \n",
    "            all_nodes.append(e[1]) \n",
    "\n",
    "        target = random.choice(all_nodes)\n",
    "\n",
    "        G.add_edges_from([(source,target)])\n",
    "#----------------------------------------------    \n",
    "    \n",
    "add_nodes_BA(G=BA,n=N)\n",
    "\n"
   ]
  },
  {
   "cell_type": "code",
   "execution_count": 23,
   "id": "d38067a2",
   "metadata": {
    "scrolled": false
   },
   "outputs": [
    {
     "data": {
      "image/png": "[encoded data removed]",
      "text/plain": [
       "<Figure size 720x360 with 1 Axes>"
      ]
     },
     "metadata": {
      "needs_background": "light"
     },
     "output_type": "display_data"
    }
   ],
   "source": [
    "BA_degrees = [BA.degree(n) for n in BA.nodes()]\n",
    "BA_n,BA_bins = np.histogram(BA_degrees,bins=40)\n",
    "BA_sum_degrees = np.sum(BA_n)\n",
    "BA_prob = BA_n/BA_sum_degrees\n",
    "BA_max_prob = np.max(BA_prob)\n",
    "BA_center = (BA_bins[:-1] + BA_bins[1:]) / 2\n",
    "\n",
    "fig = plt.figure(figsize = (10, 5))\n",
    "\n",
    "plt.bar(BA_center,BA_prob,width=2,edgecolor='black',color='darksalmon')\n",
    "plt.title(\"Distribution of the Barabasi-Albert Network\")\n",
    "plt.xlabel(\"D\")\n",
    "plt.ylabel(\"Probability\")\n",
    "plt.xlim((0,30))\n",
    "plt.show()"
   ]
  },
  {
   "cell_type": "markdown",
   "id": "0c20f51f",
   "metadata": {},
   "source": [
    "#### Average Degree "
   ]
  },
  {
   "cell_type": "markdown",
   "id": "a6e055c0",
   "metadata": {},
   "source": [
    "Our network:"
   ]
  },
  {
   "cell_type": "code",
   "execution_count": 17,
   "id": "ca58a603",
   "metadata": {
    "scrolled": false
   },
   "outputs": [
    {
     "name": "stdout",
     "output_type": "stream",
     "text": [
      "Mean Degrees: 511.2888888888889\n",
      "Standard Deviation of Degrees: 546.4780860086288\n",
      "Minimum of Degrees: 1\n",
      "Maximum of Degrees: 4067\n",
      "Median of Degrees: 329.0\n"
     ]
    }
   ],
   "source": [
    "K = np.mean(degrees)\n",
    "print('Mean Degrees:',K)\n",
    "\n",
    "K_std = np.std(degrees)\n",
    "print('Standard Deviation of Degrees:',K_std)\n",
    "\n",
    "K_min = np.min(degrees)\n",
    "print('Minimum of Degrees:',K_min)\n",
    "\n",
    "K_max = np.max(degrees)\n",
    "print('Maximum of Degrees:',K_max)\n",
    "\n",
    "K_median = np.median(degrees)\n",
    "print('Median of Degrees:',K_median)"
   ]
  },
  {
   "cell_type": "markdown",
   "id": "95b1c5f5",
   "metadata": {},
   "source": [
    "Barabasi-Albert network:"
   ]
  },
  {
   "cell_type": "code",
   "execution_count": 22,
   "id": "a555b43b",
   "metadata": {},
   "outputs": [
    {
     "name": "stdout",
     "output_type": "stream",
     "text": [
      "Mean Degrees: 1.9996527777777777\n",
      "Standard Deviation of Degrees: 3.4367802101341978\n",
      "Minimum of Degrees: 1\n",
      "Maximum of Degrees: 98\n",
      "Median of Degrees: 1.0\n"
     ]
    }
   ],
   "source": [
    "K = np.mean(BA_degrees)\n",
    "print('Mean Degrees:',K)\n",
    "\n",
    "K_std = np.std(BA_degrees)\n",
    "print('Standard Deviation of Degrees:',K_std)\n",
    "\n",
    "K_min = np.min(BA_degrees)\n",
    "print('Minimum of Degrees:',K_min)\n",
    "\n",
    "K_max = np.max(BA_degrees)\n",
    "print('Maximum of Degrees:',K_max)\n",
    "\n",
    "K_median = np.median(BA_degrees)\n",
    "print('Median of Degrees:',K_median)"
   ]
  },
  {
   "cell_type": "markdown",
   "id": "8872086e",
   "metadata": {},
   "source": [
    "#### Giant Connected Component"
   ]
  },
  {
   "cell_type": "code",
   "execution_count": 9,
   "id": "5589e3bd",
   "metadata": {},
   "outputs": [
    {
     "name": "stdout",
     "output_type": "stream",
     "text": [
      "Number of connected components:  1\n"
     ]
    }
   ],
   "source": [
    "Gcc = sorted(nx.connected_components(G), key=len, reverse=True)\n",
    "print('Number of connected components: ',len(Gcc))"
   ]
  },
  {
   "cell_type": "markdown",
   "id": "e7eae779",
   "metadata": {},
   "source": [
    "We can see that all the nodes in the network are connected together."
   ]
  },
  {
   "cell_type": "markdown",
   "id": "224a3741",
   "metadata": {},
   "source": [
    "#### Clustering Coefficient"
   ]
  },
  {
   "cell_type": "code",
   "execution_count": 21,
   "id": "12cc7a17",
   "metadata": {
    "scrolled": true
   },
   "outputs": [
    {
     "name": "stdout",
     "output_type": "stream",
     "text": [
      "Average Clustering Coefficient: 0.706984368838248\n"
     ]
    }
   ],
   "source": [
    "avg_cluster = nx.average_clustering(G)\n",
    "print('Average Clustering Coefficient:',avg_cluster)"
   ]
  },
  {
   "cell_type": "markdown",
   "id": "7c889a2e",
   "metadata": {},
   "source": [
    "#### Finding the Regime"
   ]
  },
  {
   "cell_type": "code",
   "execution_count": 23,
   "id": "79705438",
   "metadata": {},
   "outputs": [],
   "source": [
    "def define_regime(K,N):\n",
    "    limit = math.log(N)\n",
    "    if K<1:\n",
    "        print(\"The Network is in Sub-Critical Regime\")\n",
    "    elif K>1 and K<limit:\n",
    "        print(\"The Network is in Super-Critical Regime\")\n",
    "    else:\n",
    "        print(\"The Network is in Fully Connected Regime\")"
   ]
  },
  {
   "cell_type": "code",
   "execution_count": 24,
   "id": "95115e18",
   "metadata": {},
   "outputs": [
    {
     "name": "stdout",
     "output_type": "stream",
     "text": [
      "The Network is in Fully Connected Regime\n"
     ]
    }
   ],
   "source": [
    "define_regime(K,N)"
   ]
  },
  {
   "cell_type": "markdown",
   "id": "ec79b6a6",
   "metadata": {},
   "source": [
    "#### Average Distance"
   ]
  },
  {
   "cell_type": "code",
   "execution_count": 25,
   "id": "d7c05c07",
   "metadata": {},
   "outputs": [
    {
     "name": "stdout",
     "output_type": "stream",
     "text": [
      "Average Distance based on the formula: 1.3882929791565044\n"
     ]
    }
   ],
   "source": [
    "Average_Distance_Formula = math.log(N) / math.log(K)\n",
    "\n",
    "print('Average Distance based on the formula:',Average_Distance_Formula)"
   ]
  },
  {
   "cell_type": "markdown",
   "id": "9e29f7d8",
   "metadata": {},
   "source": [
    "The average distance based on the formula indicates that in order to connect one node to another, on average they can be connected without any intermediary node or with just one node."
   ]
  },
  {
   "cell_type": "code",
   "execution_count": 26,
   "id": "64f4a071",
   "metadata": {},
   "outputs": [
    {
     "name": "stdout",
     "output_type": "stream",
     "text": [
      "Average Distance: 1.9344208822905211\n"
     ]
    }
   ],
   "source": [
    "Average_Distance = nx.average_shortest_path_length(G)\n",
    "print('Average Distance:',Average_Distance)"
   ]
  },
  {
   "cell_type": "markdown",
   "id": "b09ee736",
   "metadata": {},
   "source": [
    "As we can see there is not much difference between the theoretical number and the real one. The real average path for this network is almost 2"
   ]
  },
  {
   "cell_type": "markdown",
   "id": "ee916376",
   "metadata": {},
   "source": [
    "#### Highest Betweenness Centrality"
   ]
  },
  {
   "cell_type": "code",
   "execution_count": 196,
   "id": "934ee30a",
   "metadata": {},
   "outputs": [
    {
     "data": {
      "text/plain": [
       "[0.1689529432193089,\n",
       " 0.6094808126410834,\n",
       " 0.3861781559298489,\n",
       " 0.6014933148115992,\n",
       " 0.5591248480639,\n",
       " 0.17537766973432886,\n",
       " 0.4538982462233026,\n",
       " 0.15870810904670948,\n",
       " 0.08629970480986282,\n",
       " 0.2630665046014933,\n",
       " 0.07414481680847369,\n",
       " 0.18232332002083693,\n",
       " 0.29692654974822014,\n",
       " 0.692481333564855,\n",
       " 0.11946518492793887,\n",
       " 0.13283556172946692,\n",
       " 0.5981941309255079,\n",
       " 0.09168258378190658,\n",
       " 0.3073450251779823,\n",
       " 0.3047404063205417,\n",
       " 0.45685014759506853,\n",
       " 0.5223129015454071,\n",
       " 0.5210974127452682,\n",
       " 0.19430456676506336,\n",
       " 0.08907796492446604,\n",
       " 0.2066330960236152,\n",
       " 0.3478034380968918,\n",
       " 0.3398159402674075,\n",
       " 0.6527174856745962,\n",
       " 0.24743879145685013,\n",
       " 0.6007987497829483,\n",
       " 0.1800659836777218,\n",
       " 0.26515019968744574,\n",
       " 0.01788504948775829,\n",
       " 0.43792325056433407,\n",
       " 0.3936447299878451,\n",
       " 0.07292932800833478,\n",
       " 0.09116166001041846,\n",
       " 0.13717659315853445,\n",
       " 0.21375238756728598,\n",
       " 0.09654453898246222,\n",
       " 0.2054176072234763,\n",
       " 0.04323667303351276,\n",
       " 0.021184233373849625,\n",
       " 0.24813335648550094,\n",
       " 0.42663656884875845,\n",
       " 0.4445216183365167,\n",
       " 0.6636568848758465,\n",
       " 0.4341031429067546,\n",
       " 0.1326619204723042,\n",
       " 0.4879319326271922,\n",
       " 0.49678763674249,\n",
       " 0.41691265844764713,\n",
       " 0.4802917173120333,\n",
       " 0.6040979336690397,\n",
       " 0.5500955026914395,\n",
       " 0.6016669560687619,\n",
       " 0.35631185969786416,\n",
       " 0.5191873589164785,\n",
       " 0.19951380447994443,\n",
       " 0.5787463101232853,\n",
       " 0.16374370550442785,\n",
       " 0.5592984893210626,\n",
       " 0.5212710540024309,\n",
       " 0.25004341031429067,\n",
       " 0.4238583087341552,\n",
       " 0.2665393297447473,\n",
       " 0.12397985761416912,\n",
       " 0.014759506858829657,\n",
       " 0.35266539329744745,\n",
       " 0.366903976384789,\n",
       " 0.1699947907622851,\n",
       " 0.24587602014238583,\n",
       " 0.1698211495051224,\n",
       " 0.28859176940441045,\n",
       " 0.418128147247786,\n",
       " 0.1972564681368293,\n",
       " 0.016669560687619378,\n",
       " 0.12675811772877235,\n",
       " 0.39972217398853965,\n",
       " 0.287723563118597,\n",
       " 0.3194999131793714,\n",
       " 0.21097412745268274,\n",
       " 0.19256815419343634,\n",
       " 0.5976732071540197,\n",
       " 0.05834346240666782,\n",
       " 0.10731029692654974,\n",
       " 0.1326619204723042,\n",
       " 0.016148636916131272,\n",
       " 0.13926028824448689,\n",
       " 0.3781906581003646,\n",
       " 0.1125195346414308,\n",
       " 0.10817850321236325,\n",
       " 0.20941135613821843,\n",
       " 0.07796492446605313,\n",
       " 0.06442090640736238,\n",
       " 0.32262545580830004,\n",
       " 0.3566591422121896,\n",
       " 0.18023962493488452,\n",
       " 0.334259420038201,\n",
       " 0.39989581524570234,\n",
       " 0.458933842681021,\n",
       " 0.1689529432193089,\n",
       " 0.25021705157145335,\n",
       " 0.20923771488105572,\n",
       " 0.19048445910748393,\n",
       " 0.24813335648550094,\n",
       " 0.04219482549053655,\n",
       " 0.3854835909011981,\n",
       " 0.3382531689529432,\n",
       " 0.6794582392776524,\n",
       " 0.2837298142038548,\n",
       " 0.3797534294148289,\n",
       " 0.02708803611738149,\n",
       " 0.02639347108873068,\n",
       " 0.36916131272790415,\n",
       " 0.2922382358048272,\n",
       " 0.4153498871331828,\n",
       " 0.19239451293627363,\n",
       " 0.027782601146032294,\n",
       " 0.3731550616426463,\n",
       " 0.2717485674596284,\n",
       " 0.22035075533946863,\n",
       " 0.33547490883833997,\n",
       " 0.4372286855356832,\n",
       " 0.12154888001389129,\n",
       " 0.5341205070324708,\n",
       " 0.31654801180760544,\n",
       " 0.17381489841986456,\n",
       " 0.06424726515019968,\n",
       " 0.5007813856572321,\n",
       " 0.28529258551831915,\n",
       " 0.17555131099149157,\n",
       " 0.03142906754644904,\n",
       " 0.03142906754644904,\n",
       " 0.09984372286855356,\n",
       " 0.2927591595763153,\n",
       " 0.19499913179371417,\n",
       " 0.12918909532905018,\n",
       " 0.27904150026046187,\n",
       " 0.3146379579788157,\n",
       " 0.18423337384962665,\n",
       " 0.3566591422121896,\n",
       " 0.22226080916825836,\n",
       " 0.27695780517450946,\n",
       " 0.04288939051918736,\n",
       " 0.22173988539677025,\n",
       " 0.09359263761069629,\n",
       " 0.28581350928980725,\n",
       " 0.2470915089425247,\n",
       " 0.04532036811946518,\n",
       " 0.05070324709150894,\n",
       " 0.2054176072234763,\n",
       " 0.25646813682931063,\n",
       " 0.2887654106615732,\n",
       " 0.026567112345893384,\n",
       " 0.04532036811946518,\n",
       " 0.5099843722868553,\n",
       " 0.39763847890258724,\n",
       " 0.18475429762111475,\n",
       " 0.010244834172599408,\n",
       " 0.009202986629623197,\n",
       " 0.07727035943740232,\n",
       " 0.011807605487063725,\n",
       " 0.15558256641778084,\n",
       " 0.03542281646119118,\n",
       " 0.04861955200555652,\n",
       " 0.010244834172599408,\n",
       " 0.039069282861607914,\n",
       " 0.2806042715749262,\n",
       " 0.13960757075881228,\n",
       " 0.1785032123632575,\n",
       " 0.15523528390345545,\n",
       " 0.01128668171557562,\n",
       " 0.3481507206112172,\n",
       " 0.0468831394339295,\n",
       " 0.02639347108873068,\n",
       " 0.04184754297621115,\n",
       " 0.01232852925855183,\n",
       " 0.01232852925855183,\n",
       " 0.13075186664351449,\n",
       " 0.03611738148984198,\n",
       " 0.06216357006424726,\n",
       " 0.014238583087341551,\n",
       " 0.013370376801528042,\n",
       " 0.07640215315158881,\n",
       " 0.24813335648550094,\n",
       " 0.19413092550790068,\n",
       " 0.010939399201250217,\n",
       " 0.02708803611738149,\n",
       " 0.038722000347282515,\n",
       " 0.0849105747525612,\n",
       " 0.022747004688313942,\n",
       " 0.03438096891821497,\n",
       " 0.1969091856225039,\n",
       " 0.11460322972738322,\n",
       " 0.5988886959541586,\n",
       " 0.2054176072234763,\n",
       " 0.3642993575273485,\n",
       " 0.09741274526827573,\n",
       " 0.049487758291370025,\n",
       " 0.02639347108873068,\n",
       " 0.013370376801528042,\n",
       " 0.013023094287202639,\n",
       " 0.42142733113387737,\n",
       " 0.23354749088383397,\n",
       " 0.11147768709845458,\n",
       " 0.46553221045320364,\n",
       " 0.41621809341899635,\n",
       " 0.018232332002083695,\n",
       " 0.021531515888175028,\n",
       " 0.05921166869248133,\n",
       " 0.17607223476297967,\n",
       " 0.11199861086994269,\n",
       " 0.019447820802222605,\n",
       " 0.05747525612085431,\n",
       " 0.23007466574057994,\n",
       " 0.24101406494183017,\n",
       " 0.06251085257857267,\n",
       " 0.2811251953464143,\n",
       " 0.014412224344504253,\n",
       " 0.022052439659663133,\n",
       " 0.020489668345198817,\n",
       " 0.15645077270359437,\n",
       " 0.4608438965098107,\n",
       " 0.27035943740232676,\n",
       " 0.3297447473519708,\n",
       " 0.30873415523528386,\n",
       " 0.0649418301788505,\n",
       " 0.18475429762111475,\n",
       " 0.03351276263240146,\n",
       " 0.031255426289286334,\n",
       " 0.07084563292238236,\n",
       " 0.06442090640736238,\n",
       " 0.17398853967702724,\n",
       " 0.035249175204028475,\n",
       " 0.015280430630317763,\n",
       " 0.10904670949817676,\n",
       " 0.3941656537593332,\n",
       " 0.06164264629275915,\n",
       " 0.04341031429067546,\n",
       " 0.061295363778433753,\n",
       " 0.07674943566591422,\n",
       " 0.1500260461885744,\n",
       " 0.12397985761416912,\n",
       " 0.023788852231290153,\n",
       " 0.023788852231290153,\n",
       " 0.010765757944087514,\n",
       " 0.05799617989234242,\n",
       " 0.05174509463448515,\n",
       " 0.21965619031081784,\n",
       " 0.33721132140996696,\n",
       " 0.07223476297968397,\n",
       " 0.08126410835214447,\n",
       " 0.3922555999305435,\n",
       " 0.018232332002083695,\n",
       " 0.15870810904670948,\n",
       " 0.2149678763674249,\n",
       " 0.7061989928807084,\n",
       " 0.020489668345198817,\n",
       " 0.030908143774960928,\n",
       " 0.030908143774960928,\n",
       " 0.030908143774960928,\n",
       " 0.1778086473346067,\n",
       " 0.15766626150373328,\n",
       " 0.03559645771835388,\n",
       " 0.03108178503212363,\n",
       " 0.03594374023267928,\n",
       " 0.3033512762632401,\n",
       " 0.3670776176419517,\n",
       " 0.08317416218093418,\n",
       " 0.05556520229206459,\n",
       " 0.49453030039937484,\n",
       " 0.5568675117207849,\n",
       " 0.12554262892863344,\n",
       " 0.5367251258899114,\n",
       " 0.08925160618162875,\n",
       " 0.11668692481333565,\n",
       " 0.23198471956936967,\n",
       " 0.319152630665046,\n",
       " 0.2809515540892516,\n",
       " 0.23129015454071886,\n",
       " 0.32401458586560167,\n",
       " 0.03507553394686577,\n",
       " 0.2531689529432193,\n",
       " 0.12536898767147073,\n",
       " 0.24813335648550094,\n",
       " 0.2333738496266713,\n",
       " 0.1488105573884355,\n",
       " 0.13665566938704635,\n",
       " 0.03542281646119118,\n",
       " 0.44834172599409616,\n",
       " 0.13839208195867336,\n",
       " 0.10418475429762111,\n",
       " 0.39260288244486885,\n",
       " 0.19482549053655146,\n",
       " 0.26688661225907273,\n",
       " 0.3797534294148289,\n",
       " 0.025004341031429067,\n",
       " 0.0566070498350408,\n",
       " 0.3825316895294322,\n",
       " 0.44938357353707237,\n",
       " 0.2733113387740927,\n",
       " 0.20263934710887305,\n",
       " 0.19256815419343634,\n",
       " 0.08734155235283902,\n",
       " 0.3840944608438965,\n",
       " 0.03490189268970307,\n",
       " 0.1984719569369682,\n",
       " 0.23198471956936967,\n",
       " 0.15922903281819759,\n",
       " 0.14811599235978468,\n",
       " 0.0941135613821844,\n",
       " 0.03577009897551658,\n",
       " 0.037680152804306304,\n",
       " 0.20229206459454765,\n",
       " 0.11738148984198644,\n",
       " 0.1317937141864907,\n",
       " 0.04132661920472304,\n",
       " 0.12502170515714534,\n",
       " 0.040632054176072234,\n",
       " 0.0760548706372634,\n",
       " 0.32835561729466917,\n",
       " 0.32679284598020486,\n",
       " 0.1038374717832957,\n",
       " 0.292932800833478,\n",
       " 0.2720958499739538,\n",
       " 0.4242055912484806,\n",
       " 0.01788504948775829,\n",
       " 0.37072408404236845,\n",
       " 0.22364993922555998,\n",
       " 0.20507032470915088,\n",
       " 0.05018232332002083,\n",
       " 0.21878798402500432,\n",
       " 0.4828963361694738,\n",
       " 0.3462406667824275,\n",
       " 0.1310991491578399,\n",
       " 0.17537766973432886,\n",
       " 0.13422469178676852,\n",
       " 0.03889564160444521,\n",
       " 0.061816287549921856,\n",
       " 0.2062858135092898,\n",
       " 0.15471436013196735,\n",
       " 0.026219829831567978,\n",
       " 0.0567806910922035,\n",
       " 0.055912484806389995,\n",
       " 0.0472304219482549,\n",
       " 0.2076749435665914,\n",
       " 0.21791977773919083,\n",
       " 0.2505643340857788,\n",
       " 0.023962493488452856,\n",
       " 0.2767841639173467,\n",
       " 0.3047404063205417,\n",
       " 0.04097933669039763,\n",
       " 0.23320020836950858,\n",
       " 0.07970133703768015,\n",
       " 0.04184754297621115,\n",
       " 0.04184754297621115,\n",
       " 0.2243445042542108,\n",
       " 0.24222955374196908,\n",
       " 0.12484806389998263,\n",
       " 0.34450425421080044,\n",
       " 0.2733113387740927,\n",
       " 0.017364125716270183,\n",
       " 0.24813335648550094,\n",
       " 0.28859176940441045,\n",
       " 0.11581871852752212,\n",
       " 0.04323667303351276,\n",
       " 0.1800659836777218,\n",
       " 0.12606355270012154,\n",
       " 0.11338774092724431,\n",
       " 0.1684320194478208,\n",
       " 0.04427852057648897,\n",
       " 0.04445216183365167,\n",
       " 0.04445216183365167,\n",
       " 0.04445216183365167,\n",
       " 0.04445216183365167,\n",
       " 0.04445216183365167,\n",
       " 0.04914047577704462,\n",
       " 0.14794235110262197,\n",
       " 0.11911790241361346,\n",
       " 0.015106789373155061,\n",
       " 0.1590553915610349,\n",
       " 0.015280430630317763,\n",
       " 0.016495919430456675,\n",
       " 0.018232332002083695,\n",
       " 0.09689182149678763,\n",
       " 0.20559124848063898,\n",
       " 0.00850842160097239,\n",
       " 0.08074318458065635,\n",
       " 0.15471436013196735,\n",
       " 0.01597499565896857,\n",
       " 0.01597499565896857,\n",
       " 0.019100538287897203,\n",
       " 0.01597499565896857,\n",
       " 0.01597499565896857,\n",
       " 0.01597499565896857,\n",
       " 0.1778086473346067,\n",
       " 0.01597499565896857,\n",
       " 0.09307171383920819,\n",
       " 0.04618857440527869,\n",
       " 0.016843201944782078,\n",
       " 0.016669560687619378,\n",
       " 0.016669560687619378,\n",
       " 0.5551310991491578,\n",
       " 0.14620593853099495,\n",
       " 0.006772009029345372,\n",
       " 0.027435318631706892,\n",
       " 0.18232332002083693,\n",
       " 0.026914394860218786,\n",
       " 0.24691786768536203,\n",
       " 0.026567112345893384,\n",
       " 0.17572495224865428,\n",
       " 0.22364993922555998,\n",
       " 0.020489668345198817,\n",
       " 0.31481159923597846,\n",
       " 0.10244834172599408,\n",
       " 0.03003993748914742,\n",
       " 0.3460670255252648,\n",
       " 0.03924292411877062,\n",
       " 0.4137871158187185,\n",
       " 0.051397812120159744,\n",
       " 0.4893210626844938,\n",
       " 0.27591595763153326,\n",
       " 0.22278173293974646,\n",
       " 0.24014585865601665,\n",
       " 0.25230074665740576,\n",
       " 0.2814724778607397,\n",
       " 0.24014585865601665,\n",
       " 0.32575099843722866,\n",
       " 0.27244313248827917,\n",
       " 0.2347629796839729,\n",
       " 0.36238930369855876,\n",
       " 0.33460670255252645,\n",
       " 0.27817329397464835,\n",
       " 0.1972564681368293,\n",
       " 0.25334259420038197,\n",
       " 0.31481159923597846,\n",
       " 0.02239972217398854,\n",
       " 0.052439659663135955,\n",
       " 0.1508942524743879,\n",
       " 0.151415176245876,\n",
       " 0.022920645945476645,\n",
       " 0.04827226949123111,\n",
       " 0.26775481854488625,\n",
       " 0.05556520229206459,\n",
       " 0.041673901719048445,\n",
       " 0.2809515540892516,\n",
       " 0.020489668345198817,\n",
       " 0.04028477166174683,\n",
       " 0.023962493488452856,\n",
       " 0.12380621635700642,\n",
       " 0.5480118076054871,\n",
       " 0.20316027088036115,\n",
       " 0.14707414481680847,\n",
       " 0.33408577878103835,\n",
       " 0.02465705851710366,\n",
       " 0.10835214446952596,\n",
       " 0.13231463795797882,\n",
       " 0.15176245876020142,\n",
       " 0.22000347282514324,\n",
       " 0.02535162354575447,\n",
       " 0.35579093592637606,\n",
       " 0.02535162354575447,\n",
       " 0.25230074665740576,\n",
       " 0.02535162354575447,\n",
       " 0.04636221566244139,\n",
       " 0.15645077270359437,\n",
       " 0.2717485674596284,\n",
       " 0.23215836082653238,\n",
       " 0.026219829831567978,\n",
       " 0.17503038722000347,\n",
       " 0.1508942524743879,\n",
       " 0.44469525959367945,\n",
       " 0.026914394860218786,\n",
       " 0.31533252300746656,\n",
       " 0.05313422469178677,\n",
       " 0.14863691613127278,\n",
       " 0.29588470220524393,\n",
       " 0.3021357874631012,\n",
       " 0.28442437923250563,\n",
       " 0.0928980725820455,\n",
       " 0.027956242403194997,\n",
       " 0.2625455808300052,\n",
       " 0.33721132140996696,\n",
       " 0.2925855183191526,\n",
       " 0.07258204549400937,\n",
       " 0.22851189442611564,\n",
       " 0.052439659663135955,\n",
       " 0.02934537246049661,\n",
       " 0.32679284598020486,\n",
       " 0.029692654974822017,\n",
       " 0.25334259420038197,\n",
       " 0.16721653064768188,\n",
       " 0.08820975863865253,\n",
       " 0.3656884875846501,\n",
       " 0.21323146379579785,\n",
       " 0.38096891821496787,\n",
       " 0.2555999305434971,\n",
       " 0.28911269317589855,\n",
       " 0.3854835909011981,\n",
       " 0.030908143774960928,\n",
       " 0.26046188574405277,\n",
       " 0.1495051224170863,\n",
       " 0.18440701510678936,\n",
       " 0.038722000347282515,\n",
       " 0.14759506858829657,\n",
       " 0.04219482549053655,\n",
       " 0.13057822538635178,\n",
       " 0.26844938357353704,\n",
       " 0.26063552700121545,\n",
       " 0.3023094287202639,\n",
       " 0.09689182149678763,\n",
       " 0.0567806910922035,\n",
       " 0.05573884354922729,\n",
       " 0.2833825316895294,\n",
       " 0.26897030734502514,\n",
       " 0.059385309949644034,\n",
       " 0.08768883486716443,\n",
       " 0.08352144469525959,\n",
       " 0.1693002257336343,\n",
       " 0.07918041326619205,\n",
       " 0.07136655669387046,\n",
       " 0.3755860392429241,\n",
       " 0.07084563292238236,\n",
       " 0.02430977600277826,\n",
       " 0.40996700816113907,\n",
       " 0.02430977600277826,\n",
       " 0.045494009376627884,\n",
       " 0.06824101406494182,\n",
       " 0.11425594721305782,\n",
       " 0.05382878972043757,\n",
       " 0.3483243618683799,\n",
       " 0.26515019968744574,\n",
       " 0.02430977600277826,\n",
       " 0.11147768709845458,\n",
       " 0.02448341725994096,\n",
       " 0.07049835040805695,\n",
       " 0.12554262892863344,\n",
       " 0.009550269143948601,\n",
       " 0.17624587602014238,\n",
       " 0.02465705851710366,\n",
       " 0.09324535509637089,\n",
       " 0.1132140996700816,\n",
       " 0.01597499565896857,\n",
       " 0.04775134571974301,\n",
       " 0.1132140996700816,\n",
       " 0.02465705851710366,\n",
       " 0.1679110956763327,\n",
       " 0.1698211495051224,\n",
       " 0.13509289807258204,\n",
       " 0.08560513978121201,\n",
       " 0.11981246744226427,\n",
       " 0.1969091856225039,\n",
       " 0.04479944434797708,\n",
       " 0.03247091508942525,\n",
       " 0.28546622677548183,\n",
       " 0.019447820802222605,\n",
       " 0.03108178503212363,\n",
       " 0.012675811772877235,\n",
       " 0.04827226949123111,\n",
       " 0.23163743705504425,\n",
       " 0.07987497829484284,\n",
       " 0.014412224344504253,\n",
       " 0.02257336343115124,\n",
       " 0.4578919951380448,\n",
       " 0.043063031776350055,\n",
       " 0.1798923424205591,\n",
       " 0.12953637784337557,\n",
       " 0.4321930890779649,\n",
       " 0.17259940961972564,\n",
       " 0.14464316721653064,\n",
       " 0.3941656537593332,\n",
       " 0.43861781559298485,\n",
       " 0.2752213926028824,\n",
       " 0.2856398680326445,\n",
       " 0.375065115471436,\n",
       " 0.14429588470220522,\n",
       " 0.3368640388956416,\n",
       " 0.2665393297447473,\n",
       " 0.1870116339642299,\n",
       " 0.2269491231116513,\n",
       " 0.3002257336343115,\n",
       " 0.12380621635700642,\n",
       " 0.3941656537593332,\n",
       " 0.012849453030039936,\n",
       " 0.040632054176072234,\n",
       " 0.03924292411877062,\n",
       " 0.28911269317589855,\n",
       " 0.22347629796839727,\n",
       " 0.1312727904150026,\n",
       " 0.4011113040458413,\n",
       " 0.18996353533599583,\n",
       " 0.2429241187706199,\n",
       " 0.1515888175030387,\n",
       " 0.11564507727035943,\n",
       " 0.24622330265671122,\n",
       " 0.19881923945129362,\n",
       " 0.25733634311512416,\n",
       " 0.10609480812641083,\n",
       " 0.26775481854488625,\n",
       " 0.07987497829484284,\n",
       " 0.08959888869595416,\n",
       " 0.15401979510331654,\n",
       " 0.22955374196909184,\n",
       " 0.03959020663309602,\n",
       " 0.03959020663309602,\n",
       " 0.03959020663309602,\n",
       " 0.1488105573884355,\n",
       " 0.04219482549053655,\n",
       " 0.03959020663309602,\n",
       " 0.2995311686056607,\n",
       " 0.26098280951554087,\n",
       " 0.121722521271054,\n",
       " 0.06407362389303699,\n",
       " 0.10922035075533947,\n",
       " 0.22469178676853618,\n",
       " 0.2455287376280604,\n",
       " 0.039763847890258726,\n",
       " 0.22069803785379405,\n",
       " 0.10922035075533947,\n",
       " 0.11460322972738322,\n",
       " 0.039763847890258726,\n",
       " 0.07362389303698558,\n",
       " 0.0665046014933148,\n",
       " 0.30873415523528386,\n",
       " 0.16513283556172945,\n",
       " 0.10088557041152978,\n",
       " 0.22903281819760374,\n",
       " 0.04028477166174683,\n",
       " 0.05157145337732245,\n",
       " 0.19881923945129362,\n",
       " 0.06685188400764021,\n",
       " 0.37246049661399544,\n",
       " 0.2816461191179024,\n",
       " 0.3403368640388956,\n",
       " 0.011633964229901024,\n",
       " 0.016148636916131272,\n",
       " 0.009897551658274006,\n",
       " 0.009897551658274006,\n",
       " 0.14290675464490363,\n",
       " 0.05504427852057649,\n",
       " 0.11460322972738322,\n",
       " 0.009897551658274006,\n",
       " 0.016843201944782078,\n",
       " 0.01232852925855183,\n",
       " 0.11668692481333565,\n",
       " 0.2470915089425247,\n",
       " 0.3693349539850668,\n",
       " 0.024136134745615555,\n",
       " 0.030908143774960928,\n",
       " 0.10852578572668865,\n",
       " 0.02239972217398854,\n",
       " 0.02239972217398854,\n",
       " 0.27904150026046187,\n",
       " 0.28754992186143424,\n",
       " 0.19482549053655146,\n",
       " 0.16391734676159053,\n",
       " 0.02239972217398854,\n",
       " 0.2915436707761764,\n",
       " 0.21357874631012327,\n",
       " 0.24240319499913177,\n",
       " 0.02239972217398854,\n",
       " 0.16461191179024134,\n",
       " 0.03490189268970307,\n",
       " 0.04132661920472304,\n",
       " 0.11234589338426809,\n",
       " 0.24848063899982634,\n",
       " 0.16270185796145162,\n",
       " 0.12311165132835561,\n",
       " 0.030560861260635525,\n",
       " 0.15349887133182843,\n",
       " 0.2147942351102622,\n",
       " 0.20003472825143254,\n",
       " 0.05851710366383052,\n",
       " 0.02239972217398854,\n",
       " 0.21114776870984545,\n",
       " 0.16183365167563812,\n",
       " 0.2071540197951033,\n",
       " 0.02257336343115124,\n",
       " 0.2634137871158187,\n",
       " 0.02257336343115124,\n",
       " 0.09116166001041846,\n",
       " 0.1218961625282167,\n",
       " 0.06737280777912831,\n",
       " 0.04931411703420732,\n",
       " 0.022747004688313942,\n",
       " 0.022747004688313942,\n",
       " 0.10210105921166869,\n",
       " 0.1033165480118076,\n",
       " 0.20055565202292064,\n",
       " 0.19517277305087688,\n",
       " 0.11616600104184753,\n",
       " 0.18510158013544017,\n",
       " 0.19517277305087688,\n",
       " 0.25282167042889386,\n",
       " 0.1979510331654801,\n",
       " 0.25334259420038197,\n",
       " 0.19517277305087688,\n",
       " 0.17364125716270185,\n",
       " 0.30092029866296227,\n",
       " 0.06407362389303699,\n",
       " 0.12432714012849452,\n",
       " 0.1953464143080396,\n",
       " 0.06789373155061643,\n",
       " 0.237020316027088,\n",
       " 0.1953464143080396,\n",
       " 0.1953464143080396,\n",
       " 0.10731029692654974,\n",
       " 0.19326271922208715,\n",
       " 0.27591595763153326,\n",
       " 0.187532557735718,\n",
       " 0.23788852231290153,\n",
       " 0.09584997395381142,\n",
       " 0.19552005556520227,\n",
       " 0.19552005556520227,\n",
       " 0.2153151588817503,\n",
       " 0.07831220698037854,\n",
       " 0.2068067372807779,\n",
       " 0.27747872894599757,\n",
       " 0.19569369682236498,\n",
       " 0.11147768709845458,\n",
       " 0.21357874631012327,\n",
       " 0.19569369682236498,\n",
       " 0.1958673380795277,\n",
       " 0.09133530126758117,\n",
       " 0.19604097933669037,\n",
       " 0.19604097933669037,\n",
       " 0.21271054002430975,\n",
       " 0.1121722521271054,\n",
       " 0.19117902413613475,\n",
       " 0.19621462059385308,\n",
       " 0.19430456676506336,\n",
       " 0.20246570585171036,\n",
       " 0.20177114082305955,\n",
       " 0.19621462059385308,\n",
       " 0.19986108699426983,\n",
       " 0.0470567806910922,\n",
       " 0.0944608438965098,\n",
       " 0.19100538287897204,\n",
       " 0.1979510331654801,\n",
       " 0.20107657579440874,\n",
       " 0.1963882618510158,\n",
       " 0.16304914047577704,\n",
       " 0.18093418996353533,\n",
       " 0.1963882618510158,\n",
       " 0.15714533773224518,\n",
       " 0.20246570585171036,\n",
       " 0.1981246744226428,\n",
       " 0.19656190310817848,\n",
       " 0.19656190310817848,\n",
       " 0.23059558951206804,\n",
       " 0.19656190310817848,\n",
       " 0.1989928807084563,\n",
       " 0.20125021705157145,\n",
       " 0.18996353533599583,\n",
       " 0.1967355443653412,\n",
       " 0.1967355443653412,\n",
       " 0.1967355443653412,\n",
       " 0.1967355443653412,\n",
       " 0.19083174162180933,\n",
       " 0.17207848584823754,\n",
       " 0.1967355443653412,\n",
       " 0.1967355443653412,\n",
       " 0.1967355443653412,\n",
       " 0.1967355443653412,\n",
       " 0.1967355443653412,\n",
       " 0.1967355443653412,\n",
       " 0.1967355443653412,\n",
       " 0.1967355443653412,\n",
       " 0.1967355443653412,\n",
       " 0.1969091856225039,\n",
       " 0.21132140996700816,\n",
       " 0.1958673380795277,\n",
       " 0.21132140996700816,\n",
       " 0.18926897030734502,\n",
       " 0.2054176072234763,\n",
       " 0.1969091856225039,\n",
       " 0.2075013023094287,\n",
       " 0.16287549921861433,\n",
       " 0.19604097933669037,\n",
       " 0.1969091856225039,\n",
       " 0.1969091856225039,\n",
       " 0.1969091856225039,\n",
       " 0.1969091856225039,\n",
       " 0.2069803785379406,\n",
       " 0.1969091856225039,\n",
       " 0.18926897030734502,\n",
       " 0.1969091856225039,\n",
       " 0.1969091856225039,\n",
       " 0.1969091856225039,\n",
       " 0.1969091856225039,\n",
       " 0.1969091856225039,\n",
       " 0.1969091856225039,\n",
       " 0.1969091856225039,\n",
       " 0.17225212710540022,\n",
       " 0.1969091856225039,\n",
       " 0.20107657579440874,\n",
       " 0.1969091856225039,\n",
       " 0.1969091856225039,\n",
       " 0.20246570585171036,\n",
       " 0.1969091856225039,\n",
       " 0.1969091856225039,\n",
       " 0.1969091856225039,\n",
       " 0.1969091856225039,\n",
       " 0.20211842333738494,\n",
       " 0.1969091856225039,\n",
       " 0.2170515714533773,\n",
       " 0.1969091856225039,\n",
       " 0.1970828268796666,\n",
       " 0.1970828268796666,\n",
       " 0.1970828268796666,\n",
       " 0.1972564681368293,\n",
       " 0.19881923945129362,\n",
       " 0.1972564681368293,\n",
       " 0.197430109393992,\n",
       " 0.197430109393992,\n",
       " 0.197430109393992,\n",
       " 0.1976037506511547,\n",
       " 0.1970828268796666,\n",
       " 0.1979510331654801,\n",
       " 0.1979510331654801,\n",
       " 0.1979510331654801,\n",
       " 0.19829831567980552,\n",
       " 0.19829831567980552,\n",
       " 0.16304914047577704,\n",
       " 0.19829831567980552,\n",
       " 0.19187358916478553,\n",
       " 0.21375238756728598,\n",
       " 0.19829831567980552,\n",
       " 0.16322278173293975,\n",
       " 0.1984719569369682,\n",
       " 0.1984719569369682,\n",
       " 0.20003472825143254,\n",
       " 0.1984719569369682,\n",
       " 0.1984719569369682,\n",
       " 0.1984719569369682,\n",
       " 0.1984719569369682,\n",
       " 0.21166869248133355,\n",
       " 0.1984719569369682,\n",
       " 0.1984719569369682,\n",
       " 0.19169994790762285,\n",
       " 0.1984719569369682,\n",
       " 0.1984719569369682,\n",
       " 0.19169994790762285,\n",
       " 0.1986455981941309,\n",
       " 0.1986455981941309,\n",
       " 0.1986455981941309,\n",
       " 0.17329397464837645,\n",
       " 0.1986455981941309,\n",
       " 0.1986455981941309,\n",
       " 0.1979510331654801,\n",
       " 0.19378364299357526,\n",
       " 0.19881923945129362,\n",
       " 0.19916652196561901,\n",
       " 0.19934016322278172,\n",
       " 0.19621462059385308,\n",
       " 0.16426462927591595,\n",
       " 0.19361000173641255,\n",
       " 0.20072929328008332,\n",
       " 0.19934016322278172,\n",
       " 0.19934016322278172,\n",
       " 0.19934016322278172,\n",
       " 0.19934016322278172,\n",
       " 0.19934016322278172,\n",
       " 0.1878798402500434,\n",
       " 0.20524396596631359,\n",
       " 0.23094287202639346,\n",
       " 0.16218093418996352,\n",
       " 0.1976037506511547,\n",
       " 0.19951380447994443,\n",
       " 0.20402847716617467,\n",
       " 0.23094287202639346,\n",
       " 0.20611217225212708,\n",
       " 0.19951380447994443,\n",
       " 0.16478555304740405,\n",
       " 0.19447820802222607,\n",
       " 0.19951380447994443,\n",
       " 0.19968744573710712,\n",
       " 0.19968744573710712,\n",
       " 0.2250390692828616,\n",
       " 0.19968744573710712,\n",
       " 0.14603229727383224,\n",
       " 0.19968744573710712,\n",
       " 0.19968744573710712,\n",
       " 0.20611217225212708,\n",
       " 0.19968744573710712,\n",
       " 0.19968744573710712,\n",
       " 0.19968744573710712,\n",
       " 0.19968744573710712,\n",
       " 0.20437575968050006,\n",
       " 0.19968744573710712,\n",
       " 0.19291543670776176,\n",
       " 0.19968744573710712,\n",
       " 0.19968744573710712,\n",
       " 0.19968744573710712,\n",
       " 0.19968744573710712,\n",
       " 0.20072929328008332,\n",
       " 0.19968744573710712,\n",
       " 0.20611217225212708,\n",
       " 0.19968744573710712,\n",
       " 0.19968744573710712,\n",
       " 0.20246570585171036,\n",
       " 0.19968744573710712,\n",
       " 0.19968744573710712,\n",
       " 0.023094287202639344,\n",
       " 0.012675811772877235,\n",
       " 0.012675811772877235,\n",
       " 0.012675811772877235,\n",
       " 0.012675811772877235,\n",
       " 0.01979510331654801,\n",
       " 0.027956242403194997,\n",
       " 0.012675811772877235,\n",
       " 0.012675811772877235,\n",
       " 0.013891300573016147,\n",
       " 0.012675811772877235,\n",
       " 0.03507553394686577,\n",
       " 0.012675811772877235,\n",
       " 0.030560861260635525,\n",
       " 0.012675811772877235,\n",
       " 0.011981246744226428,\n",
       " 0.0656363952075013,\n",
       " 0.016148636916131272,\n",
       " 0.012675811772877235,\n",
       " 0.024136134745615555,\n",
       " 0.046535856919604095,\n",
       " 0.046535856919604095,\n",
       " 0.05226601840597325,\n",
       " 0.0470567806910922,\n",
       " 0.05018232332002083,\n",
       " 0.0468831394339295,\n",
       " 0.0472304219482549,\n",
       " 0.04896683451988192,\n",
       " 0.0472304219482549,\n",
       " 0.0472304219482549,\n",
       " 0.11894426115645076,\n",
       " 0.06772009029345372,\n",
       " 0.0472304219482549,\n",
       " 0.0472304219482549,\n",
       " 0.0472304219482549,\n",
       " 0.07032470915089424,\n",
       " 0.0472304219482549,\n",
       " 0.050008682062858134,\n",
       " 0.1125195346414308,\n",
       " 0.019274179545059906,\n",
       " 0.019274179545059906,\n",
       " 0.019274179545059906,\n",
       " 0.019274179545059906,\n",
       " 0.019274179545059906,\n",
       " 0.019274179545059906,\n",
       " 0.13023094287202638,\n",
       " 0.019274179545059906,\n",
       " 0.019274179545059906,\n",
       " 0.1224170862997048,\n",
       " 0.019274179545059906,\n",
       " 0.08786247612432714,\n",
       " 0.019274179545059906,\n",
       " 0.019274179545059906,\n",
       " 0.019274179545059906,\n",
       " 0.019274179545059906,\n",
       " 0.019274179545059906,\n",
       " 0.019274179545059906,\n",
       " 0.019274179545059906,\n",
       " 0.019274179545059906,\n",
       " 0.019274179545059906,\n",
       " 0.019274179545059906,\n",
       " 0.019274179545059906,\n",
       " 0.019274179545059906,\n",
       " 0.02465705851710366,\n",
       " 0.019274179545059906,\n",
       " 0.019274179545059906,\n",
       " 0.019274179545059906,\n",
       " 0.019274179545059906,\n",
       " 0.016322278173293972,\n",
       " 0.01788504948775829,\n",
       " 0.07657579440875151,\n",
       " 0.22521271054002429,\n",
       " 0.6035770098975516,\n",
       " 0.6775481854488626,\n",
       " 0.5356832783469352,\n",
       " 0.019274179545059906,\n",
       " 0.5014759506858829,\n",
       " 0.08768883486716443,\n",
       " 0.4631012328529258,\n",
       " 0.025872547317242575,\n",
       " 0.0093766278867859,\n",
       " 0.04931411703420732,\n",
       " 0.03142906754644904,\n",
       " 0.22451814551137347,\n",
       " 0.03108178503212363,\n",
       " 0.028477166174683103,\n",
       " 0.1319673554436534,\n",
       " 0.05764889737801701,\n",
       " 0.31342246917867683,\n",
       " 0.06511547143601319,\n",
       " 0.13682931064420906,\n",
       " 0.1132140996700816,\n",
       " 0.05921166869248133,\n",
       " 0.02170515714533773,\n",
       " 0.36256294495572144,\n",
       " ...]"
      ]
     },
     "execution_count": 196,
     "metadata": {},
     "output_type": "execute_result"
    }
   ],
   "source": [
    "degree_centrality_val = list(nx.degree_centrality(G).values())\n",
    "degree_centrality_val"
   ]
  },
  {
   "cell_type": "code",
   "execution_count": null,
   "id": "84c2815d",
   "metadata": {},
   "outputs": [],
   "source": [
    "betweenness_centrality_val = list(nx.betweenness_centrality(marvel_DG).values())"
   ]
  },
  {
   "cell_type": "markdown",
   "id": "9da06b42",
   "metadata": {},
   "source": [
    "#### Highest Degree Nodes"
   ]
  },
  {
   "cell_type": "code",
   "execution_count": 166,
   "id": "bbe3f9a6",
   "metadata": {
    "scrolled": true
   },
   "outputs": [
    {
     "data": {
      "image/png": "[encoded data removed]",
      "text/plain": [
       "<Figure size 720x360 with 1 Axes>"
      ]
     },
     "metadata": {
      "needs_background": "light"
     },
     "output_type": "display_data"
    }
   ],
   "source": [
    "G_nodes = list(G.nodes())\n",
    "\n",
    "nodes_deg = {}\n",
    "for n in G_nodes:\n",
    "    nodes_deg[n] = G.degree(n)\n",
    "    \n",
    "nodes_deg_counter = Counter(nodes_deg)\n",
    "\n",
    "    \n",
    "\n",
    "top_movies_m = []\n",
    "top_movies_r = []\n",
    "top_movies_d = []\n",
    "\n",
    "for k, v in nodes_deg_counter.most_common(10):\n",
    "    \n",
    "    title = str(movies[movies['movieId']==k]['title'].values[0])\n",
    "    average_rating = str(movies[movies['movieId']==k]['average_rating'].values[0])\n",
    "    \n",
    "    top_movies_m.append(title)\n",
    "    top_movies_r.append(average_rating)\n",
    "    top_movies_d.append(v)\n",
    "    \n",
    "    \n",
    "\n",
    "fig, ax = plt.subplots(figsize=(10, 5))\n",
    "\n",
    "\n",
    "# Save the chart so we can loop through the bars below.\n",
    "bars = ax.bar(\n",
    "    x=top_movies_m,\n",
    "    height=top_movies_d,\n",
    "    edgecolor='black',\n",
    "    color='royalblue'\n",
    ")\n",
    "\n",
    "# Axis formatting.\n",
    "ax.spines['top'].set_visible(False)\n",
    "ax.spines['right'].set_visible(False)\n",
    "ax.spines['left'].set_visible(False)\n",
    "ax.spines['bottom'].set_color('#DDDDDD')\n",
    "ax.tick_params(bottom=False, left=False)\n",
    "ax.set_axisbelow(True)\n",
    "ax.yaxis.grid(True, color='#EEEEEE')\n",
    "ax.xaxis.grid(False)\n",
    "\n",
    "# Grab the color of the bars so we can make the\n",
    "# text the same color.\n",
    "bar_color = bars[0].get_facecolor()\n",
    "\n",
    "# Add text annotations to the top of the bars.\n",
    "# Note, you'll have to adjust this slightly (the 0.3)\n",
    "# with different data.\n",
    "for bar in bars:\n",
    "  ax.text(\n",
    "      bar.get_x() + bar.get_width() / 2,\n",
    "      bar.get_height() + 70,\n",
    "      round(bar.get_height(), 1),\n",
    "      horizontalalignment='center',\n",
    "      color='darkblue',\n",
    "      weight='bold'\n",
    "  )\n",
    "\n",
    "ax.tick_params(axis='x', rotation=90,labelsize=8)\n",
    "ax.set_title(\"Top 10 Movies with Highest Degrees\")\n",
    "ax.set_ylabel(\"Degree\")\n",
    "plt.show()\n"
   ]
  },
  {
   "cell_type": "code",
   "execution_count": 158,
   "id": "e74d4d16",
   "metadata": {},
   "outputs": [],
   "source": [
    "def edges_genres(movieId):\n",
    "    \n",
    "    movies_pulp_fiction = []\n",
    "    for e in G.edges():\n",
    "        if e[0]==movieId:\n",
    "            movies_pulp_fiction.append(e[1])\n",
    "\n",
    "        if e[1]==movieId:\n",
    "            movies_pulp_fiction.append(e[0])\n",
    "            \n",
    "    genres_pulp_fiction = []\n",
    "    for i in movies_pulp_fiction:\n",
    "        genres_i = movies[movies['movieId']==i]['genres_split']\n",
    "        for g in genres_i:\n",
    "            for k in g:\n",
    "                genres_pulp_fiction.append(k)\n",
    "                \n",
    "    genres_pulp_fiction_count = Counter(genres_pulp_fiction)\n",
    "\n",
    "    genres_pulp_fiction_count_percent = sorted([(i, genres_pulp_fiction_count[i] / len(genres_pulp_fiction) * 100.0) for i in genres_pulp_fiction_count],key = lambda x: x[1],reverse=True)\n",
    "    \n",
    "    movie_title = movies[movies['movieId']==movieId]['title'].to_string(index=False)\n",
    "    genres = movies[movies['movieId']==movieId]['genres_split'].to_string(index=False)\n",
    "\n",
    "    return movie_title,genres_pulp_fiction_count_percent,genres\n",
    "              "
   ]
  },
  {
   "cell_type": "code",
   "execution_count": 163,
   "id": "8f273cbb",
   "metadata": {},
   "outputs": [
    {
     "name": "stdout",
     "output_type": "stream",
     "text": [
      "Pulp Fiction (1994)\n",
      "[('Drama', 22.323200668546956), ('Comedy', 14.67669487099133), ('Thriller', 9.046275984539852), ('Action', 8.691110414708033), ('Romance', 7.521153243497336), ('Crime', 6.06915282565549), ('Adventure', 5.870677948396532), ('Sci-Fi', 4.53358403844145), ('Fantasy', 3.3009505902016087), ('Horror', 3.0189073435704588), ('Mystery', 2.924892928026742), ('Animation', 2.517497127337303), ('Children', 2.130993418990912), ('War', 2.026532957275671), ('Documentary', 1.5251227410425154), ('Musical', 1.462446464013371), ('IMAX', 0.9505902016086911), ('Western', 0.8670218322364984), ('Film-Noir', 0.4700720777185835), ('(no genres listed)', 0.07312232320066855)]\n",
      "[Comedy, Crime, Drama, Thriller]\n",
      "Star Wars: Episode IV - A New Hope (1977)\n",
      "[('Drama', 20.316595030925676), ('Comedy', 14.571758045916763), ('Action', 9.372051577733515), ('Thriller', 8.774504665059231), ('Romance', 7.023797043715274), ('Adventure', 6.772198343641891), ('Crime', 5.640004193311668), ('Sci-Fi', 4.895691372261243), ('Fantasy', 3.5643149177062585), ('Children', 2.830485375825558), ('Mystery', 2.830485375825558), ('Animation', 2.788552259146661), ('Horror', 2.778068979976937), ('War', 1.9813397630778908), ('Documentary', 1.9498899255687179), ('Musical', 1.551525317119195), ('IMAX', 0.9959115211238075), ('Western', 0.8386623335779432), ('Film-Noir', 0.44029772512842014), ('(no genres listed)', 0.08386623335779432)]\n",
      "[Action, Adventure, Sci-Fi]\n",
      "Matrix, The (1999)\n",
      "[('Drama', 20.626440393882252), ('Comedy', 14.592499476220405), ('Action', 9.344227948879112), ('Thriller', 8.851875130944899), ('Romance', 7.186256023465326), ('Adventure', 6.557720511208884), ('Crime', 5.897758223339618), ('Sci-Fi', 5.007332914309658), ('Fantasy', 3.540750052377959), ('Horror', 3.0693484181856276), ('Mystery', 2.912214540121517), ('Animation', 2.80745862141211), ('Children', 2.587471192122355), ('War', 1.9798868636077938), ('Musical', 1.3094489838675885), ('Documentary', 1.2675466163838256), ('IMAX', 1.152315105803478), ('Western', 0.754242614707731), ('Film-Noir', 0.45045045045045046), ('(no genres listed)', 0.10475591870940709)]\n",
      "[Action, Sci-Fi, Thriller]\n"
     ]
    }
   ],
   "source": [
    "# Pulp Fiction\n",
    "movie_title,genres_pulp_fiction_count_percent,genres = edges_genres(296)\n",
    "print(movie_title)\n",
    "print(genres_pulp_fiction_count_percent)\n",
    "print(genres)\n",
    "\n",
    "# Star Wars: Episode IV - A New Hope (1977)\n",
    "movie_title,genres_pulp_fiction_count_percent,genres = edges_genres(260)\n",
    "print(movie_title)\n",
    "print(genres_pulp_fiction_count_percent)\n",
    "print(genres)\n",
    "\n",
    "\n",
    "# Matrix, The (1999)\n",
    "movie_title,genres_pulp_fiction_count_percent,genres = edges_genres(2571)\n",
    "print(movie_title)\n",
    "print(genres_pulp_fiction_count_percent)\n",
    "print(genres)"
   ]
  },
  {
   "cell_type": "code",
   "execution_count": 180,
   "id": "dbc56288",
   "metadata": {
    "scrolled": false
   },
   "outputs": [
    {
     "name": "stdout",
     "output_type": "stream",
     "text": [
      "Mean of Ratings: 4.26\n",
      "Pulp Fiction (1994) : 4.62\n",
      "Star Wars: Episode IV - A New Hope (1977) : 4.59\n",
      "Matrix, The (1999) : 4.6\n",
      "Raiders of the Lost Ark (Indiana Jones and the Raiders of the Lost Ark) (1981) : 4.48\n",
      "Godfather, The (1972) : 4.67\n",
      "Reservoir Dogs (1992) : 4.5\n",
      "Silence of the Lambs, The (1991) : 4.49\n",
      "Fight Club (1999) : 4.62\n",
      "Toy Story (1995) : 4.36\n",
      "Star Wars: Episode VI - Return of the Jedi (1983) : 4.53\n"
     ]
    }
   ],
   "source": [
    "print('Mean of Ratings:',np.round_(np.mean(movies['average_rating']),2))\n",
    "for r,m in zip(top_movies_r, top_movies_m):\n",
    "    print(m,':',np.round_(float(r),2))"
   ]
  },
  {
   "cell_type": "markdown",
   "id": "d166a0e7",
   "metadata": {},
   "source": [
    "#### Highest Degree Nodes in Each Genre "
   ]
  },
  {
   "cell_type": "code",
   "execution_count": 189,
   "id": "938d531a",
   "metadata": {},
   "outputs": [
    {
     "data": {
      "text/html": [
       "<div>\n",
       "<style scoped>\n",
       "    .dataframe tbody tr th:only-of-type {\n",
       "        vertical-align: middle;\n",
       "    }\n",
       "\n",
       "    .dataframe tbody tr th {\n",
       "        vertical-align: top;\n",
       "    }\n",
       "\n",
       "    .dataframe thead th {\n",
       "        text-align: right;\n",
       "    }\n",
       "</style>\n",
       "<table border=\"1\" class=\"dataframe\">\n",
       "  <thead>\n",
       "    <tr style=\"text-align: right;\">\n",
       "      <th></th>\n",
       "      <th>genres_split</th>\n",
       "      <th>title</th>\n",
       "    </tr>\n",
       "  </thead>\n",
       "  <tbody>\n",
       "    <tr>\n",
       "      <th>13291</th>\n",
       "      <td>(no genres listed)</td>\n",
       "      <td>The OA</td>\n",
       "    </tr>\n",
       "    <tr>\n",
       "      <th>13370</th>\n",
       "      <td>(no genres listed)</td>\n",
       "      <td>T2 3-D: Battle Across Time (1996)</td>\n",
       "    </tr>\n",
       "    <tr>\n",
       "      <th>13358</th>\n",
       "      <td>(no genres listed)</td>\n",
       "      <td>Cosmos</td>\n",
       "    </tr>\n",
       "    <tr>\n",
       "      <th>427</th>\n",
       "      <td>Action</td>\n",
       "      <td>Star Wars: Episode IV - A New Hope (1977)</td>\n",
       "    </tr>\n",
       "    <tr>\n",
       "      <th>3542</th>\n",
       "      <td>Action</td>\n",
       "      <td>Matrix, The (1999)</td>\n",
       "    </tr>\n",
       "    <tr>\n",
       "      <th>1696</th>\n",
       "      <td>Action</td>\n",
       "      <td>Raiders of the Lost Ark (Indiana Jones and the...</td>\n",
       "    </tr>\n",
       "    <tr>\n",
       "      <th>428</th>\n",
       "      <td>Adventure</td>\n",
       "      <td>Star Wars: Episode IV - A New Hope (1977)</td>\n",
       "    </tr>\n",
       "    <tr>\n",
       "      <th>1697</th>\n",
       "      <td>Adventure</td>\n",
       "      <td>Raiders of the Lost Ark (Indiana Jones and the...</td>\n",
       "    </tr>\n",
       "    <tr>\n",
       "      <th>0</th>\n",
       "      <td>Adventure</td>\n",
       "      <td>Toy Story (1995)</td>\n",
       "    </tr>\n",
       "    <tr>\n",
       "      <th>1</th>\n",
       "      <td>Animation</td>\n",
       "      <td>Toy Story (1995)</td>\n",
       "    </tr>\n",
       "    <tr>\n",
       "      <th>5483</th>\n",
       "      <td>Animation</td>\n",
       "      <td>Shrek (2001)</td>\n",
       "    </tr>\n",
       "    <tr>\n",
       "      <th>918</th>\n",
       "      <td>Animation</td>\n",
       "      <td>Aladdin (1992)</td>\n",
       "    </tr>\n",
       "    <tr>\n",
       "      <th>2</th>\n",
       "      <td>Children</td>\n",
       "      <td>Toy Story (1995)</td>\n",
       "    </tr>\n",
       "    <tr>\n",
       "      <th>1592</th>\n",
       "      <td>Children</td>\n",
       "      <td>E.T. the Extra-Terrestrial (1982)</td>\n",
       "    </tr>\n",
       "    <tr>\n",
       "      <th>5484</th>\n",
       "      <td>Children</td>\n",
       "      <td>Shrek (2001)</td>\n",
       "    </tr>\n",
       "    <tr>\n",
       "      <th>479</th>\n",
       "      <td>Comedy</td>\n",
       "      <td>Pulp Fiction (1994)</td>\n",
       "    </tr>\n",
       "    <tr>\n",
       "      <th>3</th>\n",
       "      <td>Comedy</td>\n",
       "      <td>Toy Story (1995)</td>\n",
       "    </tr>\n",
       "    <tr>\n",
       "      <th>960</th>\n",
       "      <td>Comedy</td>\n",
       "      <td>Fargo (1996)</td>\n",
       "    </tr>\n",
       "    <tr>\n",
       "      <th>480</th>\n",
       "      <td>Crime</td>\n",
       "      <td>Pulp Fiction (1994)</td>\n",
       "    </tr>\n",
       "    <tr>\n",
       "      <th>1230</th>\n",
       "      <td>Crime</td>\n",
       "      <td>Godfather, The (1972)</td>\n",
       "    </tr>\n",
       "    <tr>\n",
       "      <th>1577</th>\n",
       "      <td>Crime</td>\n",
       "      <td>Reservoir Dogs (1992)</td>\n",
       "    </tr>\n",
       "    <tr>\n",
       "      <th>6535</th>\n",
       "      <td>Documentary</td>\n",
       "      <td>Bowling for Columbine (2002)</td>\n",
       "    </tr>\n",
       "    <tr>\n",
       "      <th>8027</th>\n",
       "      <td>Documentary</td>\n",
       "      <td>Super Size Me (2004)</td>\n",
       "    </tr>\n",
       "    <tr>\n",
       "      <th>8090</th>\n",
       "      <td>Documentary</td>\n",
       "      <td>Fahrenheit 9/11 (2004)</td>\n",
       "    </tr>\n",
       "    <tr>\n",
       "      <th>481</th>\n",
       "      <td>Drama</td>\n",
       "      <td>Pulp Fiction (1994)</td>\n",
       "    </tr>\n",
       "    <tr>\n",
       "      <th>1231</th>\n",
       "      <td>Drama</td>\n",
       "      <td>Godfather, The (1972)</td>\n",
       "    </tr>\n",
       "    <tr>\n",
       "      <th>3987</th>\n",
       "      <td>Drama</td>\n",
       "      <td>Fight Club (1999)</td>\n",
       "    </tr>\n",
       "    <tr>\n",
       "      <th>4</th>\n",
       "      <td>Fantasy</td>\n",
       "      <td>Toy Story (1995)</td>\n",
       "    </tr>\n",
       "    <tr>\n",
       "      <th>1864</th>\n",
       "      <td>Fantasy</td>\n",
       "      <td>Groundhog Day (1993)</td>\n",
       "    </tr>\n",
       "    <tr>\n",
       "      <th>6035</th>\n",
       "      <td>Fantasy</td>\n",
       "      <td>Lord of the Rings: The Fellowship of the Ring,...</td>\n",
       "    </tr>\n",
       "    <tr>\n",
       "      <th>2315</th>\n",
       "      <td>Film-Noir</td>\n",
       "      <td>L.A. Confidential (1997)</td>\n",
       "    </tr>\n",
       "    <tr>\n",
       "      <th>1827</th>\n",
       "      <td>Film-Noir</td>\n",
       "      <td>Chinatown (1974)</td>\n",
       "    </tr>\n",
       "    <tr>\n",
       "      <th>5888</th>\n",
       "      <td>Film-Noir</td>\n",
       "      <td>Mulholland Drive (2001)</td>\n",
       "    </tr>\n",
       "    <tr>\n",
       "      <th>931</th>\n",
       "      <td>Horror</td>\n",
       "      <td>Silence of the Lambs, The (1991)</td>\n",
       "    </tr>\n",
       "    <tr>\n",
       "      <th>1734</th>\n",
       "      <td>Horror</td>\n",
       "      <td>Alien (1979)</td>\n",
       "    </tr>\n",
       "    <tr>\n",
       "      <th>3765</th>\n",
       "      <td>Horror</td>\n",
       "      <td>Sixth Sense, The (1999)</td>\n",
       "    </tr>\n",
       "    <tr>\n",
       "      <th>10926</th>\n",
       "      <td>IMAX</td>\n",
       "      <td>Inception (2010)</td>\n",
       "    </tr>\n",
       "    <tr>\n",
       "      <th>600</th>\n",
       "      <td>IMAX</td>\n",
       "      <td>Lion King, The (1994)</td>\n",
       "    </tr>\n",
       "    <tr>\n",
       "      <th>10006</th>\n",
       "      <td>IMAX</td>\n",
       "      <td>Dark Knight, The (2008)</td>\n",
       "    </tr>\n",
       "    <tr>\n",
       "      <th>921</th>\n",
       "      <td>Musical</td>\n",
       "      <td>Aladdin (1992)</td>\n",
       "    </tr>\n",
       "    <tr>\n",
       "      <th>1326</th>\n",
       "      <td>Musical</td>\n",
       "      <td>Wizard of Oz, The (1939)</td>\n",
       "    </tr>\n",
       "    <tr>\n",
       "      <th>1553</th>\n",
       "      <td>Musical</td>\n",
       "      <td>Willy Wonka &amp; the Chocolate Factory (1971)</td>\n",
       "    </tr>\n",
       "    <tr>\n",
       "      <th>1578</th>\n",
       "      <td>Mystery</td>\n",
       "      <td>Reservoir Dogs (1992)</td>\n",
       "    </tr>\n",
       "    <tr>\n",
       "      <th>97</th>\n",
       "      <td>Mystery</td>\n",
       "      <td>Seven (a.k.a. Se7en) (1995)</td>\n",
       "    </tr>\n",
       "    <tr>\n",
       "      <th>5406</th>\n",
       "      <td>Mystery</td>\n",
       "      <td>Memento (2000)</td>\n",
       "    </tr>\n",
       "    <tr>\n",
       "      <th>584</th>\n",
       "      <td>Romance</td>\n",
       "      <td>Forrest Gump (1994)</td>\n",
       "    </tr>\n",
       "    <tr>\n",
       "      <th>3851</th>\n",
       "      <td>Romance</td>\n",
       "      <td>American Beauty (1999)</td>\n",
       "    </tr>\n",
       "    <tr>\n",
       "      <th>1865</th>\n",
       "      <td>Romance</td>\n",
       "      <td>Groundhog Day (1993)</td>\n",
       "    </tr>\n",
       "    <tr>\n",
       "      <th>429</th>\n",
       "      <td>Sci-Fi</td>\n",
       "      <td>Star Wars: Episode IV - A New Hope (1977)</td>\n",
       "    </tr>\n",
       "    <tr>\n",
       "      <th>3543</th>\n",
       "      <td>Sci-Fi</td>\n",
       "      <td>Matrix, The (1999)</td>\n",
       "    </tr>\n",
       "    <tr>\n",
       "      <th>1725</th>\n",
       "      <td>Sci-Fi</td>\n",
       "      <td>Star Wars: Episode VI - Return of the Jedi (1983)</td>\n",
       "    </tr>\n",
       "    <tr>\n",
       "      <th>482</th>\n",
       "      <td>Thriller</td>\n",
       "      <td>Pulp Fiction (1994)</td>\n",
       "    </tr>\n",
       "    <tr>\n",
       "      <th>3544</th>\n",
       "      <td>Thriller</td>\n",
       "      <td>Matrix, The (1999)</td>\n",
       "    </tr>\n",
       "    <tr>\n",
       "      <th>1579</th>\n",
       "      <td>Thriller</td>\n",
       "      <td>Reservoir Dogs (1992)</td>\n",
       "    </tr>\n",
       "    <tr>\n",
       "      <th>585</th>\n",
       "      <td>War</td>\n",
       "      <td>Forrest Gump (1994)</td>\n",
       "    </tr>\n",
       "    <tr>\n",
       "      <th>2795</th>\n",
       "      <td>War</td>\n",
       "      <td>Saving Private Ryan (1998)</td>\n",
       "    </tr>\n",
       "    <tr>\n",
       "      <th>1719</th>\n",
       "      <td>War</td>\n",
       "      <td>Apocalypse Now (1979)</td>\n",
       "    </tr>\n",
       "    <tr>\n",
       "      <th>1706</th>\n",
       "      <td>Western</td>\n",
       "      <td>Good, the Bad and the Ugly, The (Buono, il bru...</td>\n",
       "    </tr>\n",
       "    <tr>\n",
       "      <th>1867</th>\n",
       "      <td>Western</td>\n",
       "      <td>Unforgiven (1992)</td>\n",
       "    </tr>\n",
       "    <tr>\n",
       "      <th>4820</th>\n",
       "      <td>Western</td>\n",
       "      <td>Blazing Saddles (1974)</td>\n",
       "    </tr>\n",
       "  </tbody>\n",
       "</table>\n",
       "</div>"
      ],
      "text/plain": [
       "             genres_split                                              title\n",
       "13291  (no genres listed)                                             The OA\n",
       "13370  (no genres listed)                  T2 3-D: Battle Across Time (1996)\n",
       "13358  (no genres listed)                                             Cosmos\n",
       "427                Action          Star Wars: Episode IV - A New Hope (1977)\n",
       "3542               Action                                 Matrix, The (1999)\n",
       "1696               Action  Raiders of the Lost Ark (Indiana Jones and the...\n",
       "428             Adventure          Star Wars: Episode IV - A New Hope (1977)\n",
       "1697            Adventure  Raiders of the Lost Ark (Indiana Jones and the...\n",
       "0               Adventure                                   Toy Story (1995)\n",
       "1               Animation                                   Toy Story (1995)\n",
       "5483            Animation                                       Shrek (2001)\n",
       "918             Animation                                     Aladdin (1992)\n",
       "2                Children                                   Toy Story (1995)\n",
       "1592             Children                  E.T. the Extra-Terrestrial (1982)\n",
       "5484             Children                                       Shrek (2001)\n",
       "479                Comedy                                Pulp Fiction (1994)\n",
       "3                  Comedy                                   Toy Story (1995)\n",
       "960                Comedy                                       Fargo (1996)\n",
       "480                 Crime                                Pulp Fiction (1994)\n",
       "1230                Crime                              Godfather, The (1972)\n",
       "1577                Crime                              Reservoir Dogs (1992)\n",
       "6535          Documentary                       Bowling for Columbine (2002)\n",
       "8027          Documentary                               Super Size Me (2004)\n",
       "8090          Documentary                             Fahrenheit 9/11 (2004)\n",
       "481                 Drama                                Pulp Fiction (1994)\n",
       "1231                Drama                              Godfather, The (1972)\n",
       "3987                Drama                                  Fight Club (1999)\n",
       "4                 Fantasy                                   Toy Story (1995)\n",
       "1864              Fantasy                               Groundhog Day (1993)\n",
       "6035              Fantasy  Lord of the Rings: The Fellowship of the Ring,...\n",
       "2315            Film-Noir                           L.A. Confidential (1997)\n",
       "1827            Film-Noir                                   Chinatown (1974)\n",
       "5888            Film-Noir                            Mulholland Drive (2001)\n",
       "931                Horror                   Silence of the Lambs, The (1991)\n",
       "1734               Horror                                       Alien (1979)\n",
       "3765               Horror                            Sixth Sense, The (1999)\n",
       "10926                IMAX                                   Inception (2010)\n",
       "600                  IMAX                              Lion King, The (1994)\n",
       "10006                IMAX                            Dark Knight, The (2008)\n",
       "921               Musical                                     Aladdin (1992)\n",
       "1326              Musical                           Wizard of Oz, The (1939)\n",
       "1553              Musical         Willy Wonka & the Chocolate Factory (1971)\n",
       "1578              Mystery                              Reservoir Dogs (1992)\n",
       "97                Mystery                        Seven (a.k.a. Se7en) (1995)\n",
       "5406              Mystery                                     Memento (2000)\n",
       "584               Romance                                Forrest Gump (1994)\n",
       "3851              Romance                             American Beauty (1999)\n",
       "1865              Romance                               Groundhog Day (1993)\n",
       "429                Sci-Fi          Star Wars: Episode IV - A New Hope (1977)\n",
       "3543               Sci-Fi                                 Matrix, The (1999)\n",
       "1725               Sci-Fi  Star Wars: Episode VI - Return of the Jedi (1983)\n",
       "482              Thriller                                Pulp Fiction (1994)\n",
       "3544             Thriller                                 Matrix, The (1999)\n",
       "1579             Thriller                              Reservoir Dogs (1992)\n",
       "585                   War                                Forrest Gump (1994)\n",
       "2795                  War                         Saving Private Ryan (1998)\n",
       "1719                  War                              Apocalypse Now (1979)\n",
       "1706              Western  Good, the Bad and the Ugly, The (Buono, il bru...\n",
       "1867              Western                                  Unforgiven (1992)\n",
       "4820              Western                             Blazing Saddles (1974)"
      ]
     },
     "execution_count": 189,
     "metadata": {},
     "output_type": "execute_result"
    }
   ],
   "source": [
    "genre_unique = np.unique(movies_genres_df['genres_split'] )\n",
    "\n",
    "genre_vs_degree_top = pd.DataFrame({'genres_split' : [],'degree':[],'count':[]})\n",
    "\n",
    "for g in genre_unique:\n",
    "    res = movies_genres_df[movies_genres_df['genres_split'] == g].sort_values(by=['degree'],ascending=False).head(3)\n",
    "    genre_vs_degree_top = pd.concat([genre_vs_degree_top,res])\n",
    "    \n",
    "genre_vs_degree_top[['genres_split','title']]"
   ]
  },
  {
   "cell_type": "markdown",
   "id": "e64605fb",
   "metadata": {},
   "source": [
    "#### Highest Average Rating Nodes"
   ]
  },
  {
   "cell_type": "code",
   "execution_count": 28,
   "id": "133cda71",
   "metadata": {
    "scrolled": true
   },
   "outputs": [
    {
     "name": "stdout",
     "output_type": "stream",
     "text": [
      "Title                                          Rating      Degree\n",
      "---------------------------------------------  --------  --------\n",
      "Tom and Huck (1995)                            [5.0]            1\n",
      "Now and Then (1995)                            [5.0]            1\n",
      "Cry, the Beloved Country (1995)                [5.0]            1\n",
      "Lamerica (1994)                                [5.0]            1\n",
      "Home for the Holidays (1995)                   [5.0]            1\n",
      "Angels and Insects (1995)                      [5.0]            1\n",
      "Heidi Fleiss: Hollywood Madam (1995)           [5.0]            1\n",
      "Anne Frank Remembered (1995)                   [5.0]            1\n",
      "Chungking Express (Chung Hing sam lam) (1994)  [5.0]            1\n",
      "Awfully Big Adventure, An (1995)               [5.0]            1\n"
     ]
    }
   ],
   "source": [
    "movies_avg_rating_dict = movies_avg_rating.set_index('movieId').T.to_dict('list')\n",
    "\n",
    "movie_deg_counter = Counter(movies_avg_rating_dict)\n",
    "\n",
    "\n",
    "movie_rating_deg = []\n",
    "for k, v in movie_deg_counter.most_common(10):\n",
    "    \n",
    "    title = str(movies[movies['movieId']==k]['title'].values[0])\n",
    "    deg = G.degree(n)\n",
    "    \n",
    "    movie_rating_deg.append([title,v,deg])\n",
    "\n",
    "print(tabulate(movie_rating_deg, headers=['Title', 'Rating','Degree']))"
   ]
  },
  {
   "cell_type": "markdown",
   "id": "02dad629",
   "metadata": {},
   "source": [
    "We can see that the highest rated movies are those with the lowest degree. That is because if a movie is famous and a lot of people have seen it, then it would definitely have some lower ratings as well and these ratings would diminish the overal degree."
   ]
  },
  {
   "cell_type": "code",
   "execution_count": 195,
   "id": "e7f90a10",
   "metadata": {},
   "outputs": [
    {
     "name": "stdout",
     "output_type": "stream",
     "text": [
      "0.05106013969249014\n"
     ]
    }
   ],
   "source": [
    "corr_deg_rat = np.corrcoef(movies['degree'],movies['average_rating'])[0,1]\n",
    "\n",
    "print(corr_deg_rat)"
   ]
  },
  {
   "cell_type": "markdown",
   "id": "deb8bed3",
   "metadata": {},
   "source": [
    "Here we can see that there is no relation between rating and degree"
   ]
  },
  {
   "cell_type": "markdown",
   "id": "f981826f",
   "metadata": {},
   "source": [
    "#### Year VS Degree & Rating"
   ]
  },
  {
   "cell_type": "code",
   "execution_count": 94,
   "id": "65dbebc8",
   "metadata": {
    "scrolled": true
   },
   "outputs": [
    {
     "data": {
      "image/png": "[encoded data removed]",
      "text/plain": [
       "<Figure size 1440x360 with 2 Axes>"
      ]
     },
     "metadata": {
      "needs_background": "light"
     },
     "output_type": "display_data"
    }
   ],
   "source": [
    "year_vs_deg = movies.groupby('year')['degree'].mean().reset_index()\n",
    "year_vs_deg = year_vs_deg[ year_vs_deg['year'] != 0 ]\n",
    "\n",
    "fig = plt.figure(figsize = (20, 5))\n",
    "\n",
    "plt.subplot(121)\n",
    "\n",
    "plt.plot(year_vs_deg['year'],year_vs_deg['degree'],'-o', color = 'darkviolet')\n",
    "#plt.xticks(rotation=90)\n",
    "plt.title(\"Average Degree Through Years\")\n",
    "plt.ylabel(\"Average Degree\")\n",
    "plt.xlabel(\"Year\")\n",
    "\n",
    "plt.subplot(122)\n",
    "\n",
    "year_vs_deg = movies.groupby('year')['average_rating'].mean().reset_index()\n",
    "year_vs_deg = year_vs_deg[ year_vs_deg['year'] != 0 ]\n",
    "\n",
    "plt.plot(year_vs_deg['year'],year_vs_deg['average_rating'],'-o', color = 'orangered')\n",
    "#plt.xticks(rotation=90)\n",
    "plt.title(\"Average Rating Through Years\")\n",
    "plt.ylabel(\"Average Rating\")\n",
    "plt.xlabel(\"Year\")\n",
    "plt.show()"
   ]
  },
  {
   "cell_type": "markdown",
   "id": "58cd85b2",
   "metadata": {},
   "source": [
    "#### Genres vs Degree"
   ]
  },
  {
   "cell_type": "code",
   "execution_count": 190,
   "id": "89a65032",
   "metadata": {},
   "outputs": [
    {
     "data": {
      "image/png": "[encoded data removed]",
      "text/plain": [
       "<Figure size 1080x360 with 1 Axes>"
      ]
     },
     "metadata": {
      "needs_background": "light"
     },
     "output_type": "display_data"
    }
   ],
   "source": [
    "genre_vs_deg = movies_genres_df.groupby('genres_split')['degree'].mean().reset_index()\n",
    "    \n",
    "\n",
    "fig, ax = plt.subplots(figsize=(15, 5))\n",
    "\n",
    "\n",
    "# Save the chart so we can loop through the bars below.\n",
    "bars = ax.bar(\n",
    "    x=genre_vs_deg['genres_split'],\n",
    "    height=genre_vs_deg['degree'],\n",
    "    edgecolor='black',\n",
    "    color='lightgreen'\n",
    ")\n",
    "\n",
    "# Axis formatting.\n",
    "ax.spines['top'].set_visible(False)\n",
    "ax.spines['right'].set_visible(False)\n",
    "ax.spines['left'].set_visible(False)\n",
    "ax.spines['bottom'].set_color('#DDDDDD')\n",
    "ax.tick_params(bottom=False, left=False)\n",
    "ax.set_axisbelow(True)\n",
    "ax.yaxis.grid(True, color='#EEEEEE')\n",
    "ax.xaxis.grid(False)\n",
    "\n",
    "# Grab the color of the bars so we can make the\n",
    "# text the same color.\n",
    "bar_color = bars[0].get_facecolor()\n",
    "\n",
    "# Add text annotations to the top of the bars.\n",
    "# Note, you'll have to adjust this slightly (the 0.3)\n",
    "# with different data.\n",
    "for bar in bars:\n",
    "  ax.text(\n",
    "      bar.get_x() + bar.get_width() / 2,\n",
    "      bar.get_height() + 10,\n",
    "      round(bar.get_height(), 1),\n",
    "      horizontalalignment='center',\n",
    "      color='black',\n",
    "      weight='bold'\n",
    "  )\n",
    "\n",
    "ax.tick_params(axis='x', rotation=90,labelsize=8)\n",
    "ax.set_title(\"Average Degree of Genres\")\n",
    "ax.set_ylabel(\"Degree\")\n",
    "plt.show()\n"
   ]
  },
  {
   "cell_type": "markdown",
   "id": "ee7d79bf",
   "metadata": {},
   "source": [
    "### Genre vs Runtime"
   ]
  },
  {
   "cell_type": "code",
   "execution_count": 152,
   "id": "3d11f8fe",
   "metadata": {},
   "outputs": [
    {
     "data": {
      "image/png": "[encoded data removed]",
      "text/plain": [
       "<Figure size 1080x576 with 1 Axes>"
      ]
     },
     "metadata": {
      "needs_background": "light"
     },
     "output_type": "display_data"
    }
   ],
   "source": [
    "props = dict(boxes=\"lightcoral\", whiskers=\"darkorange\", medians=\"black\", caps=\"black\")\n",
    "axes = movies_genres_df.plot.box(column='Runtime',by='genres_split',figsize=(15,8), rot=90,showfliers=False,color=props, patch_artist=True)\n",
    "plt.grid(True)\n",
    "plt.title('Runtime Per Genre')\n",
    "plt.xlabel(\"Genre\")\n",
    "plt.ylabel(\"Runtime\")\n",
    "plt.show()\n"
   ]
  },
  {
   "cell_type": "markdown",
   "id": "b08a7408",
   "metadata": {},
   "source": [
    "### Genre vs Country"
   ]
  },
  {
   "cell_type": "code",
   "execution_count": 31,
   "id": "7b45346e",
   "metadata": {},
   "outputs": [],
   "source": [
    "genre_vs_country = movies_genres_df.groupby(['genres_split','Country']).count().reset_index()\n",
    "genre_vs_country = genre_vs_country[['genres_split','Country','title']]\n",
    "genre_vs_country.columns = ['genres_split','Country','count']"
   ]
  },
  {
   "cell_type": "code",
   "execution_count": 62,
   "id": "2c846b6f",
   "metadata": {},
   "outputs": [],
   "source": [
    "genre_unique = np.unique(genre_vs_country['genres_split'] )\n",
    "\n",
    "genre_vs_country_top = pd.DataFrame({'genres_split' : [],'Country':[],'count':[]})\n",
    "\n",
    "for g in genre_unique:\n",
    "    res = genre_vs_country[genre_vs_country['genres_split'] == g].sort_values(by=['count'],ascending=False).head(5)\n",
    "    genre_vs_country_top = pd.concat([genre_vs_country_top,res])\n",
    "    \n",
    "    \n",
    "Country_list = list(np.unique(genre_vs_country_top['Country']))\n",
    "genre_list = list(np.unique(genre_vs_country_top['genres_split']))"
   ]
  },
  {
   "cell_type": "code",
   "execution_count": 63,
   "id": "3296abed",
   "metadata": {},
   "outputs": [],
   "source": [
    "Country_dict ={}\n",
    "i=0\n",
    "for c in Country_list:\n",
    "    Country_dict[c] = i\n",
    "    i += 1\n",
    "    \n",
    "#-------------------------\n",
    "\n",
    "genre_dict ={}\n",
    "i=0\n",
    "for g in genre_list:\n",
    "    genre_dict[g] = i\n",
    "    i += 1\n",
    "    "
   ]
  },
  {
   "cell_type": "code",
   "execution_count": 64,
   "id": "ebff4ddd",
   "metadata": {},
   "outputs": [],
   "source": [
    "country_top_num = genre_vs_country_top['Country'].replace(Country_dict)\n",
    "genre_top_num = genre_vs_country_top['genres_split'].replace(genre_dict)\n",
    "\n",
    "genre_vs_country_top_num = pd.concat([genre_top_num,country_top_num],axis=1)\n",
    "\n",
    "xticks_genre = [i for i in range(len(genre_list))]\n",
    "xticks_Country = [i for i in range(len(Country_list))]"
   ]
  },
  {
   "cell_type": "code",
   "execution_count": 81,
   "id": "09a044a9",
   "metadata": {},
   "outputs": [
    {
     "data": {
      "image/png": "[encoded data removed]",
      "text/plain": [
       "<Figure size 720x360 with 1 Axes>"
      ]
     },
     "metadata": {
      "needs_background": "light"
     },
     "output_type": "display_data"
    }
   ],
   "source": [
    "fig = plt.figure(figsize = (10, 5))\n",
    "\n",
    "plt.scatter(genre_vs_country_top_num[\"genres_split\"],\n",
    "            genre_vs_country_top_num[\"Country\"],s=genre_vs_country_top['count']*0.45,c='teal')\n",
    "\n",
    "plt.xticks(xticks_genre, genre_list, rotation=90) \n",
    "plt.yticks(xticks_Country, Country_list)\n",
    "\n",
    "plt.grid()\n"
   ]
  },
  {
   "cell_type": "markdown",
   "id": "eef93064",
   "metadata": {},
   "source": [
    "#### Edges Between the Genres"
   ]
  },
  {
   "cell_type": "code",
   "execution_count": 47,
   "id": "a2fd5d73",
   "metadata": {},
   "outputs": [],
   "source": [
    "edges_between_genres = []\n",
    "for e in G.edges():\n",
    "    g0 = movies_genres_df[movies_genres_df['movieId']== e[0] ]['genres_split'].tolist()\n",
    "    g1 = movies_genres_df[movies_genres_df['movieId']== e[1] ]['genres_split'].tolist()  \n",
    "    \n",
    "    if set(g0) & set(g1) == set():\n",
    "        for i in g0:\n",
    "            for j in g1:\n",
    "                edges_between_genres.append((i,j))\n",
    "                edges_between_genres.append((j,i))\n",
    "                \n",
    "from collections import Counter\n",
    "count_edges_between_genres  = Counter(edges_between_genres)       "
   ]
  },
  {
   "cell_type": "code",
   "execution_count": 57,
   "id": "7acb00cc",
   "metadata": {},
   "outputs": [
    {
     "data": {
      "text/plain": [
       "[(('Comedy', 'Drama'), 211356),\n",
       " (('Drama', 'Comedy'), 211356),\n",
       " (('Action', 'Drama'), 126949),\n",
       " (('Drama', 'Action'), 126949),\n",
       " (('Comedy', 'Thriller'), 126598),\n",
       " (('Thriller', 'Comedy'), 126598),\n",
       " (('Adventure', 'Drama'), 113753),\n",
       " (('Drama', 'Adventure'), 113753),\n",
       " (('Comedy', 'Action'), 110816),\n",
       " (('Action', 'Comedy'), 110816)]"
      ]
     },
     "execution_count": 57,
     "metadata": {},
     "output_type": "execute_result"
    }
   ],
   "source": [
    "count_edges_between_genres.most_common(10)"
   ]
  },
  {
   "cell_type": "markdown",
   "id": "66f454f2",
   "metadata": {},
   "source": [
    "#### Similar Genres"
   ]
  },
  {
   "cell_type": "code",
   "execution_count": 74,
   "id": "35814b5e",
   "metadata": {},
   "outputs": [],
   "source": [
    "genres_together = []\n",
    "for index, row in movies.iterrows():\n",
    "    for i in row['genres_split']:\n",
    "        for j in row['genres_split']:\n",
    "            if i != j:\n",
    "                genres_together.append((i,j))\n",
    "                genres_together.append((j,i))\n",
    "            \n",
    "            \n",
    "count_genres_together  = Counter(genres_together)"
   ]
  },
  {
   "cell_type": "code",
   "execution_count": 75,
   "id": "06c3fbc9",
   "metadata": {},
   "outputs": [
    {
     "data": {
      "text/plain": [
       "[(('Comedy', 'Drama'), 1304),\n",
       " (('Drama', 'Comedy'), 1304),\n",
       " (('Drama', 'Romance'), 1296),\n",
       " (('Romance', 'Drama'), 1296),\n",
       " (('Comedy', 'Romance'), 1076),\n",
       " (('Romance', 'Comedy'), 1076),\n",
       " (('Drama', 'Thriller'), 1062),\n",
       " (('Thriller', 'Drama'), 1062),\n",
       " (('Action', 'Thriller'), 866),\n",
       " (('Thriller', 'Action'), 866)]"
      ]
     },
     "execution_count": 75,
     "metadata": {},
     "output_type": "execute_result"
    }
   ],
   "source": [
    "count_genres_together.most_common(10)"
   ]
  },
  {
   "cell_type": "markdown",
   "id": "4d60a06a",
   "metadata": {},
   "source": [
    "# 3. Community Detection"
   ]
  },
  {
   "cell_type": "code",
   "execution_count": 7,
   "id": "1bc755fa",
   "metadata": {},
   "outputs": [],
   "source": [
    "lemmatizer = WordNetLemmatizer()\n",
    "tokenizer = RegexpTokenizer(r'\\w+')"
   ]
  },
  {
   "cell_type": "code",
   "execution_count": 8,
   "id": "be11d765",
   "metadata": {},
   "outputs": [],
   "source": [
    "def first(x):\n",
    "    y=x[0]\n",
    "    return y \n",
    "\n",
    "\n",
    "movies1=movies.reset_index()\n",
    "movies1['genres_first']=[first(x) for x in movies1.genres_split]\n",
    "\n",
    "codes, uniques = pd.factorize(movies1.genres_first)\n",
    "movies2=pd.DataFrame([codes,movies1.movieId]).T.rename(columns={0: \"genre\", 1: \"movieId\"})\n",
    "\n",
    "nodes_attr = movies2.set_index('movieId').to_dict(orient = 'index')\n",
    "nx.set_node_attributes(G, nodes_attr)"
   ]
  },
  {
   "cell_type": "markdown",
   "id": "9f35f4ed",
   "metadata": {},
   "source": [
    "## TF-IDF on Tags"
   ]
  },
  {
   "cell_type": "code",
   "execution_count": 9,
   "id": "85ae9362",
   "metadata": {},
   "outputs": [
    {
     "data": {
      "image/png": "[encoded data removed]",
      "text/plain": [
       "<Figure size 432x288 with 1 Axes>"
      ]
     },
     "metadata": {},
     "output_type": "display_data"
    },
    {
     "name": "stdout",
     "output_type": "stream",
     "text": [
      "Modularity: 0.2076256643731186\n",
      "Number of communities in Film-network: 8\n",
      "Community number 0 has 1200 nodes\n",
      "Community number 1 has 1100 nodes\n",
      "Community number 2 has 690 nodes\n",
      "Community number 3 has 1987 nodes\n",
      "Community number 4 has 476 nodes\n",
      "Community number 5 has 150 nodes\n",
      "Community number 6 has 25 nodes\n",
      "Community number 7 has 132 nodes\n"
     ]
    }
   ],
   "source": [
    "## Finding communities with the Python Louvain-algorithm\n",
    "# First compute the best partition\n",
    "\n",
    "partition = community_louvain.best_partition(G)\n",
    "# Drawing DC-network with communities\n",
    "size = float(len(set(partition.values())))\n",
    "pos = nx.spring_layout(G)\n",
    "count = 0.\n",
    "for com in set(partition.values()) :\n",
    "    count = count + 1.\n",
    "    list_nodes = [nodes for nodes in partition.keys()\n",
    "                                if partition[nodes] == com]\n",
    "    nx.draw_networkx_nodes(G, pos, list_nodes, node_size = 20,\n",
    "                                node_color = str(count / size))\n",
    "nx.draw_networkx_edges(G,pos, alpha=0.5)\n",
    "plt.show()\n",
    "\n",
    "## Defining nodes for each community\n",
    "Films = []\n",
    "for i in range(len(np.unique(list(partition.values())))): \n",
    "    i_com = []\n",
    "    for j in range(len(list(partition.values()))):\n",
    "        if list(partition.values())[j] == i:\n",
    "            i_com.append(list(partition.keys())[j])\n",
    "    Films.append(i_com)\n",
    "\n",
    "## Modularity\n",
    "print(\"Modularity:\", nx_comm.modularity(G, Films))\n",
    "\n",
    "## Number and size of communities\n",
    "N_com = len(set(partition.values()))\n",
    "print(\"Number of communities in Film-network:\", N_com)\n",
    "for i in range(N_com):\n",
    "    res = 0\n",
    "    for k in partition:\n",
    "        if partition[k] == i:\n",
    "            res += 1\n",
    "    print(\"Community number\", i, \"has\", res, \"nodes\")"
   ]
  },
  {
   "cell_type": "code",
   "execution_count": 10,
   "id": "9b3ddd9d",
   "metadata": {},
   "outputs": [
    {
     "name": "stdout",
     "output_type": "stream",
     "text": [
      "TF-IDF words for community: 0\n",
      "{'boxing': 4131.850343317834, 'story': 4131.850343317834}\n",
      "TF-IDF words for community: 1\n",
      "{'funny': 2495.329850015803}\n",
      "TF-IDF words for community: 2\n",
      "{'highly': 2287.3856958478195, 'quotable': 2287.3856958478195}\n",
      "TF-IDF words for community: 3\n",
      "{'will': 1434.8146637590867, 'ferrell': 1434.8146637590867}\n",
      "TF-IDF words for community: 4\n",
      "{'mma': 989.8141738396018}\n",
      "TF-IDF words for community: 5\n",
      "{'tom': 311.9162312519754, 'hardy': 311.9162312519754}\n",
      "TF-IDF words for community: 6\n",
      "{'leonardo': 274.48628350173834, 'dicaprio': 274.48628350173834}\n",
      "TF-IDF words for community: 7\n",
      "{'drug': 51.986038541995896}\n"
     ]
    }
   ],
   "source": [
    "com_size = []\n",
    "for i in range(len(Films)):\n",
    "    com_size.append(len(Films[i]))\n",
    "# Getting index for the 10 largest communities\n",
    "com_index = sorted(range(len(com_size)), key=lambda i: -com_size[i])\n",
    "## Getting all text from each community\n",
    "dc_com_tokens = []\n",
    "for c_ind in com_index:\n",
    "    com_i_tokens = []\n",
    "    for i in range(len(Films[c_ind])):\n",
    "        com_i_tokens.extend(tokenizer.tokenize(tags.tag[c_ind])) \n",
    "    com_i_tokens = [w.lower() for w in com_i_tokens]\n",
    "    com_i_tokens = [lemmatizer.lemmatize(w) for w in com_i_tokens]\n",
    "    dc_com_tokens.append(com_i_tokens)\n",
    "\n",
    "## Calculating TF list for each community\n",
    "TF_com_list = []\n",
    "for i in range(len(dc_com_tokens)):\n",
    "    fdist = FreqDist(dc_com_tokens[i])\n",
    "    TF_com_list.append(fdist)\n",
    "    #print(f\"Top 5 words for community: {i}\")\n",
    "    #print(fdist.most_common(5))\n",
    "\n",
    "## Calculating IDF for all words in all lists\n",
    "# Total documents\n",
    "N = len(dc_com_tokens)\n",
    "# All unique words\n",
    "unique_words = list(set(dc_com_tokens[0]))\n",
    "for i in range(1,N):\n",
    "    com_i_u_w = set(dc_com_tokens[i])\n",
    "    unique_words.extend(list(com_i_u_w))\n",
    "IDF_dict = dict()\n",
    "for word in unique_words:\n",
    "    nd = 0\n",
    "    for i in range(N):\n",
    "        if word in dc_com_tokens[i]:\n",
    "            nd += 1\n",
    "    IDF_dict[word] = np.log(N/nd)\n",
    "\n",
    "## Calculating TF-IDF\n",
    "w = 1000\n",
    "c = 0\n",
    "TF_IDF_all_com = []\n",
    "for c in range(N):\n",
    "    TF_IDF = dict()\n",
    "    for w in range(len(list(TF_com_list[c].keys()))):\n",
    "        tf_idf = TF_com_list[c][list(TF_com_list[c].keys())[w]]*IDF_dict[list(TF_com_list[c].keys())[w]]\n",
    "        TF_IDF[list(TF_com_list[c].keys())[w]] = tf_idf\n",
    "    TF_IDF_all_com.append(TF_IDF)\n",
    "\n",
    "## Printing top 10 TF-IDF words for each community \n",
    "for c in range(N):\n",
    "    print(f\"TF-IDF words for community: {c}\")\n",
    "    print(dict(sorted(TF_IDF_all_com[c].items(), key=lambda item: -item[1])))"
   ]
  },
  {
   "cell_type": "markdown",
   "id": "e755a888",
   "metadata": {},
   "source": [
    "## TF-IDF on Storyline"
   ]
  },
  {
   "cell_type": "code",
   "execution_count": 12,
   "id": "4034c2cd",
   "metadata": {},
   "outputs": [],
   "source": [
    "#final_movie=pd.read_csv('movies_final.csv')\n",
    "final_movie = pd.read_csv('D:\\DTU\\Large Files\\Social Graphs\\Project\\ml-latest-small\\\\movies_final.csv')"
   ]
  },
  {
   "cell_type": "code",
   "execution_count": 14,
   "id": "af22490c",
   "metadata": {},
   "outputs": [
    {
     "name": "stdout",
     "output_type": "stream",
     "text": [
      "TF-IDF words for community: 0\n",
      "{'with': 8263.700686635668, 'his': 5509.133791090445, 'george': 4131.850343317834, 'bank': 4131.850343317834, 'must': 4131.850343317834, 'deal': 4131.850343317834, 'daughter': 4131.850343317834, 'pregnancy': 4131.850343317834, 'also': 4131.850343317834, 'wife': 4131.850343317834, 's': 3897.8154514686, 'not': 2754.5668955452225, 'only': 2754.5668955452225, 'but': 2754.5668955452225}\n",
      "TF-IDF words for community: 1\n",
      "{'cowboy': 2495.329850015803, 'doll': 2495.329850015803, 'is': 2495.329850015803, 'profoundly': 2495.329850015803, 'threatened': 2495.329850015803, 'jealous': 2495.329850015803, 'spaceman': 2495.329850015803, 'action': 2495.329850015803, 'figure': 2495.329850015803, 'supplants': 2495.329850015803, 'him': 2495.329850015803, 'top': 2495.329850015803, 'toy': 2495.329850015803, 'boy': 2495.329850015803, 'bedroom': 2495.329850015803, 'new': 1663.5532333438687, 'when': 1176.9951036140715, 'in': 1176.9951036140715, 's': 1176.9951036140715, 'a': 640.9506845977083, 'and': 564.0043550948827}\n",
      "TF-IDF words for community: 2\n",
      "{'game': 3049.8475944637594, 'kid': 2287.3856958478195, 'find': 2287.3856958478195, 'play': 2287.3856958478195, 'magical': 2287.3856958478195, 'board': 2287.3856958478195, 'release': 2287.3856958478195, 'trapped': 2287.3856958478195, 'decade': 2287.3856958478195, 'host': 2287.3856958478195, 'danger': 2287.3856958478195, 'that': 2287.3856958478195, 'can': 2287.3856958478195, 'be': 2287.3856958478195, 'stopped': 2287.3856958478195, 'by': 2287.3856958478195, 'finishing': 2287.3856958478195, 'two': 1524.9237972318797, 'they': 1524.9237972318797, 'man': 1524.9237972318797, 'for': 1524.9237972318797, 'only': 1524.9237972318797, 'when': 1078.9121783128987, 'in': 1078.9121783128987, 'it': 1078.9121783128987, 'and': 1034.0079843406183, 'of': 762.4618986159398, 'the': 762.4618986159398, 'a': 440.6535956609245}\n",
      "TF-IDF words for community: 3\n",
      "{'max': 2869.6293275181733, 'john': 1434.8146637590867, 'resolve': 1434.8146637590867, 'save': 1434.8146637590867, 'beloved': 1434.8146637590867, 'bait': 1434.8146637590867, 'shop': 1434.8146637590867, 'turning': 1434.8146637590867, 'into': 1434.8146637590867, 'italian': 1434.8146637590867, 'restaurant': 1434.8146637590867, 'just': 1434.8146637590867, 'female': 1434.8146637590867, 'owner': 1434.8146637590867, 'catch': 1434.8146637590867, 'attention': 1434.8146637590867, 'their': 956.5431091727245, 'from': 956.5431091727245, 'an': 956.5431091727245, 'new': 956.5431091727245, 'it': 676.772184578091, 's': 676.772184578091, 'to': 478.27155458636224, 'and': 324.30250417955756, 'a': 92.13666091092057}\n",
      "TF-IDF words for community: 4\n",
      "{'high': 989.8141738396018, 'end': 989.8141738396018, 'professional': 989.8141738396018, 'thief': 989.8141738396018, 'start': 989.8141738396018, 'feel': 989.8141738396018, 'heat': 989.8141738396018, 'lapd': 989.8141738396018, 'unknowingly': 989.8141738396018, 'leave': 989.8141738396018, 'clue': 989.8141738396018, 'at': 989.8141738396018, 'latest': 989.8141738396018, 'heist': 989.8141738396018, 'group': 659.8761158930679, 'the': 659.8761158930679, 'from': 659.8761158930679, 'they': 659.8761158930679, 'their': 659.8761158930679, 'when': 466.87472443358166, 'of': 329.93805794653395, 'to': 329.93805794653395, 'a': 127.12188577854549}\n",
      "TF-IDF words for community: 5\n",
      "{'ugly': 311.9162312519754, 'duckling': 311.9162312519754, 'having': 311.9162312519754, 'undergone': 311.9162312519754, 'remarkable': 311.9162312519754, 'change': 311.9162312519754, 'still': 311.9162312519754, 'harbor': 311.9162312519754, 'feeling': 311.9162312519754, 'her': 311.9162312519754, 'crush': 311.9162312519754, 'carefree': 311.9162312519754, 'playboy': 311.9162312519754, 'before': 311.9162312519754, 'business': 311.9162312519754, 'focused': 311.9162312519754, 'brother': 311.9162312519754, 'ha': 311.9162312519754, 'something': 311.9162312519754, 'say': 311.9162312519754, 'about': 311.9162312519754, 'an': 207.94415416798358, 'for': 207.94415416798358, 'but': 207.94415416798358, 'not': 207.94415416798358, 'his': 207.94415416798358, 'it': 147.12438795175893, 'to': 103.97207708399179, 'a': 40.05941778735677}\n",
      "TF-IDF words for community: 6\n",
      "{'former': 274.48628350173834, 'fireman': 274.48628350173834, 'take': 274.48628350173834, 'terrorist': 274.48628350173834, 'holding': 274.48628350173834, 'the': 274.48628350173834, 'vice': 274.48628350173834, 'president': 274.48628350173834, 'others': 274.48628350173834, 'hostage': 274.48628350173834, 'during': 274.48628350173834, 'seventh': 274.48628350173834, 'nhl': 274.48628350173834, 'stanley': 274.48628350173834, 'cup': 274.48628350173834, 'final': 274.48628350173834, 'on': 182.99085566782554, 'group': 182.99085566782554, 'of': 182.99085566782554, 'game': 182.99085566782554, 'and': 62.0404790604371, 'a': 35.25228765287396}\n",
      "TF-IDF words for community: 7\n",
      "{'best': 51.986038541995896, 'friend': 51.986038541995896, 'witness': 51.986038541995896, 'murder': 51.986038541995896, 'embark': 51.986038541995896, 'series': 51.986038541995896, 'of': 51.986038541995896, 'adventure': 51.986038541995896, 'order': 51.986038541995896, 'prove': 51.986038541995896, 'the': 51.986038541995896, 'innocence': 51.986038541995896, 'wrongly': 51.986038541995896, 'accused': 51.986038541995896, 'crime': 51.986038541995896, 'two': 34.657359027997266, 'on': 34.657359027997266, 'man': 34.657359027997266, 'in': 24.520731325293156, 'to': 17.328679513998633, 'and': 11.750090731143391, 'a': 6.676569631226129}\n"
     ]
    }
   ],
   "source": [
    "com_size = []\n",
    "for i in range(len(Films)):\n",
    "    com_size.append(len(Films[i]))\n",
    "# Getting index for the 10 largest communities\n",
    "com_index = sorted(range(len(com_size)), key=lambda i: -com_size[i])\n",
    "## Getting all text from each community\n",
    "dc_com_tokens = []\n",
    "for c_ind in com_index:\n",
    "    com_i_tokens = []\n",
    "    for i in range(len(Films[c_ind])):\n",
    "        com_i_tokens.extend(tokenizer.tokenize(final_movie.Storyline[c_ind])) \n",
    "    com_i_tokens = [w.lower() for w in com_i_tokens]\n",
    "    com_i_tokens = [lemmatizer.lemmatize(w) for w in com_i_tokens]\n",
    "    dc_com_tokens.append(com_i_tokens)\n",
    "\n",
    "## Calculating TF list for each community\n",
    "TF_com_list = []\n",
    "for i in range(len(dc_com_tokens)):\n",
    "    fdist = FreqDist(dc_com_tokens[i])\n",
    "    TF_com_list.append(fdist)\n",
    "    #print(f\"Top 5 words for community: {i}\")\n",
    "    #print(fdist.most_common(5))\n",
    "\n",
    "## Calculating IDF for all words in all lists\n",
    "# Total documents\n",
    "N = len(dc_com_tokens)\n",
    "# All unique words\n",
    "unique_words = list(set(dc_com_tokens[0]))\n",
    "for i in range(1,N):\n",
    "    com_i_u_w = set(dc_com_tokens[i])\n",
    "    unique_words.extend(list(com_i_u_w))\n",
    "IDF_dict = dict()\n",
    "for word in unique_words:\n",
    "    nd = 0\n",
    "    for i in range(N):\n",
    "        if word in dc_com_tokens[i]:\n",
    "            nd += 1\n",
    "    IDF_dict[word] = np.log(N/nd)\n",
    "\n",
    "## Calculating TF-IDF\n",
    "w = 1000\n",
    "c = 0\n",
    "TF_IDF_all_com = []\n",
    "for c in range(N):\n",
    "    TF_IDF = dict()\n",
    "    for w in range(len(list(TF_com_list[c].keys()))):\n",
    "        tf_idf = TF_com_list[c][list(TF_com_list[c].keys())[w]]*IDF_dict[list(TF_com_list[c].keys())[w]]\n",
    "        TF_IDF[list(TF_com_list[c].keys())[w]] = tf_idf\n",
    "    TF_IDF_all_com.append(TF_IDF)\n",
    "\n",
    "## Printing top 10 TF-IDF words for each community \n",
    "for c in range(N):\n",
    "    print(f\"TF-IDF words for community: {c}\")\n",
    "    print(dict(sorted(TF_IDF_all_com[c].items(), key=lambda item: -item[1])))"
   ]
  },
  {
   "cell_type": "markdown",
   "id": "4834786e",
   "metadata": {},
   "source": [
    "## Connection Between the Found Communities and the Genres"
   ]
  },
  {
   "cell_type": "code",
   "execution_count": 15,
   "id": "33a82c9b",
   "metadata": {},
   "outputs": [],
   "source": [
    "from itertools import groupby\n",
    "\n",
    "# Sort the nodes by their role (this is required for the groupby to work)\n",
    "sorted_by_role = sorted(G.nodes(data=True), key=lambda node_data: node_data[1][\"genre\"])\n",
    "# Group objects with same role together\n",
    "grouped = groupby(sorted_by_role, key=lambda node_data: node_data[1][\"genre\"])\n",
    "\n",
    "subgraphs = dict()\n",
    "for key, group in grouped:\n",
    "     nodes_in_group, _ = zip(*list(group))  # We don't care about the data here, only the node names\n",
    "     subgraphs[key] = G.subgraph(nodes_in_group)"
   ]
  },
  {
   "cell_type": "code",
   "execution_count": 16,
   "id": "02c054ea",
   "metadata": {},
   "outputs": [],
   "source": [
    "empty={}\n",
    "for x in subgraphs.keys():\n",
    "    sub={}\n",
    "    values=[]\n",
    "    keys=range(len(list(subgraphs[x].nodes)))\n",
    "    for i in range(len(list(subgraphs[x].nodes))):\n",
    "        values.append(len(subgraphs[x].edges(list(subgraphs[x].nodes)[i])))\n",
    "    for i in keys:\n",
    "        sub[i] = x\n",
    "    for z in range(len(list(subgraphs[x].nodes))):\n",
    "        sub[list(subgraphs[x].nodes)[z]]=sub.pop(z)\n",
    "        empty.update(sub)"
   ]
  },
  {
   "cell_type": "markdown",
   "id": "7243def6",
   "metadata": {},
   "source": [
    "We take a look at is there any connection between the created communities and the genres. The Dataframe show us there are no connection between them."
   ]
  },
  {
   "cell_type": "code",
   "execution_count": 17,
   "id": "981c2425",
   "metadata": {},
   "outputs": [
    {
     "data": {
      "text/html": [
       "<div>\n",
       "<style scoped>\n",
       "    .dataframe tbody tr th:only-of-type {\n",
       "        vertical-align: middle;\n",
       "    }\n",
       "\n",
       "    .dataframe tbody tr th {\n",
       "        vertical-align: top;\n",
       "    }\n",
       "\n",
       "    .dataframe thead th {\n",
       "        text-align: right;\n",
       "    }\n",
       "</style>\n",
       "<table border=\"1\" class=\"dataframe\">\n",
       "  <thead>\n",
       "    <tr style=\"text-align: right;\">\n",
       "      <th></th>\n",
       "      <th></th>\n",
       "      <th>number of genre</th>\n",
       "    </tr>\n",
       "    <tr>\n",
       "      <th>community</th>\n",
       "      <th>genre</th>\n",
       "      <th></th>\n",
       "    </tr>\n",
       "  </thead>\n",
       "  <tbody>\n",
       "    <tr>\n",
       "      <th rowspan=\"5\" valign=\"top\">0</th>\n",
       "      <th>3</th>\n",
       "      <td>362</td>\n",
       "    </tr>\n",
       "    <tr>\n",
       "      <th>1</th>\n",
       "      <td>237</td>\n",
       "    </tr>\n",
       "    <tr>\n",
       "      <th>2</th>\n",
       "      <td>197</td>\n",
       "    </tr>\n",
       "    <tr>\n",
       "      <th>10</th>\n",
       "      <td>113</td>\n",
       "    </tr>\n",
       "    <tr>\n",
       "      <th>4</th>\n",
       "      <td>80</td>\n",
       "    </tr>\n",
       "    <tr>\n",
       "      <th>...</th>\n",
       "      <th>...</th>\n",
       "      <td>...</td>\n",
       "    </tr>\n",
       "    <tr>\n",
       "      <th rowspan=\"5\" valign=\"top\">7</th>\n",
       "      <th>0</th>\n",
       "      <td>8</td>\n",
       "    </tr>\n",
       "    <tr>\n",
       "      <th>2</th>\n",
       "      <td>6</td>\n",
       "    </tr>\n",
       "    <tr>\n",
       "      <th>4</th>\n",
       "      <td>5</td>\n",
       "    </tr>\n",
       "    <tr>\n",
       "      <th>10</th>\n",
       "      <td>3</td>\n",
       "    </tr>\n",
       "    <tr>\n",
       "      <th>18</th>\n",
       "      <td>1</td>\n",
       "    </tr>\n",
       "  </tbody>\n",
       "</table>\n",
       "<p>114 rows × 1 columns</p>\n",
       "</div>"
      ],
      "text/plain": [
       "                 number of genre\n",
       "community genre                 \n",
       "0         3                  362\n",
       "          1                  237\n",
       "          2                  197\n",
       "          10                 113\n",
       "          4                   80\n",
       "...                          ...\n",
       "7         0                    8\n",
       "          2                    6\n",
       "          4                    5\n",
       "          10                   3\n",
       "          18                   1\n",
       "\n",
       "[114 rows x 1 columns]"
      ]
     },
     "execution_count": 17,
     "metadata": {},
     "output_type": "execute_result"
    }
   ],
   "source": [
    "part=pd.DataFrame.from_dict(partition,orient='index')\n",
    "genre=pd.DataFrame.from_dict(empty,orient='index')\n",
    "Genres=pd.DataFrame(pd.merge(part, genre, left_index=True, right_index=True).rename(columns={'0_x':'community','0_y':'genre'}).groupby('community').value_counts(),columns=['number of genre'])\n",
    "Genres"
   ]
  },
  {
   "cell_type": "markdown",
   "id": "da8d457b",
   "metadata": {},
   "source": [
    "# 4. Multilabel Classification"
   ]
  },
  {
   "cell_type": "markdown",
   "id": "ca7eb4ee",
   "metadata": {},
   "source": [
    "## Preparing the data"
   ]
  },
  {
   "cell_type": "code",
   "execution_count": 22,
   "id": "3b22dafe",
   "metadata": {},
   "outputs": [],
   "source": [
    "#### One hot encoding data\n",
    "\n",
    "## Taking only relevant columns\n",
    "final_movie = pd.read_csv('D:\\DTU\\Large Files\\Social Graphs\\Project\\ml-latest-small\\\\movies_final.csv')\n",
    "class_data = final_movie[[\"Storyline\", \"genres\"]]\n",
    "\n",
    "\n",
    "## Splitting genres into lists\n",
    "genres = []\n",
    "for i in range(len(class_data[\"genres\"])):\n",
    "    genres.append(class_data[\"genres\"][i].split(\"|\"))\n",
    "\n",
    "## One hot encoding\n",
    "one_hot = MultiLabelBinarizer()\n",
    "ohe_genres = pd.DataFrame(one_hot.fit_transform(genres), columns = one_hot.classes_)\n",
    "\n",
    "## Adding to dataframe\n",
    "class_data_ohe = pd.concat([class_data, ohe_genres], axis=1, join='inner')\n",
    "\n",
    "## Removing nan\n",
    "class_data_ohe = class_data_ohe.dropna()"
   ]
  },
  {
   "cell_type": "markdown",
   "id": "32b2268b",
   "metadata": {},
   "source": [
    "## Prepraing text processing"
   ]
  },
  {
   "cell_type": "code",
   "execution_count": 23,
   "id": "bfcbb279",
   "metadata": {},
   "outputs": [
    {
     "name": "stderr",
     "output_type": "stream",
     "text": [
      "[nltk_data] Downloading package stopwords to\n",
      "[nltk_data]     C:\\Users\\Nima\\AppData\\Roaming\\nltk_data...\n",
      "[nltk_data]   Package stopwords is already up-to-date!\n"
     ]
    }
   ],
   "source": [
    "### Stem and stopwords\n",
    "stemmer = nltk.stem.SnowballStemmer('english')\n",
    "nltk.download('stopwords')\n",
    "stop_words = set(nltk.corpus.stopwords.words('english'))"
   ]
  },
  {
   "cell_type": "code",
   "execution_count": 24,
   "id": "7c4757b0",
   "metadata": {},
   "outputs": [],
   "source": [
    "### Preprocess function\n",
    "def preprocessing(text):\n",
    "   tokens = [word for word in nltk.word_tokenize(text) if (len(word) > 1) ] \n",
    "   tokens = map(str.lower, tokens)\n",
    "   stems = [stemmer.stem(item) for item in tokens if (item not in stop_words)]\n",
    "   return stems"
   ]
  },
  {
   "cell_type": "code",
   "execution_count": 27,
   "id": "87df2ddd",
   "metadata": {},
   "outputs": [],
   "source": [
    "vectorizer_tf = TfidfVectorizer(tokenizer=preprocessing, stop_words=None, max_df=0.75, max_features=2000, lowercase=False, ngram_range=(1,3))\n",
    "# Initial parameters:\n",
    "# max_feature=1000\n",
    "# n_gram =(1,2)\n",
    "# max_df=0.75"
   ]
  },
  {
   "cell_type": "markdown",
   "id": "7d3976c4",
   "metadata": {},
   "source": [
    "## Creating train and test data sets"
   ]
  },
  {
   "cell_type": "code",
   "execution_count": 28,
   "id": "cd448211",
   "metadata": {},
   "outputs": [],
   "source": [
    "Xfeatures = vectorizer_tf.fit_transform(class_data_ohe.Storyline).toarray()"
   ]
  },
  {
   "cell_type": "code",
   "execution_count": 29,
   "id": "f098cde5",
   "metadata": {},
   "outputs": [],
   "source": [
    "y = class_data_ohe[['(no genres listed)', 'Action', 'Adventure',\n",
    "       'Animation', 'Children', 'Comedy', 'Crime', 'Documentary', 'Drama',\n",
    "       'Fantasy', 'Film-Noir', 'Horror', 'IMAX', 'Musical', 'Mystery',\n",
    "       'Romance', 'Sci-Fi', 'Thriller', 'War', 'Western']]"
   ]
  },
  {
   "cell_type": "code",
   "execution_count": 32,
   "id": "a1c33133",
   "metadata": {},
   "outputs": [],
   "source": [
    "X_train,X_test,y_train,y_test = train_test_split(Xfeatures,y,test_size=0.3,random_state=42)"
   ]
  },
  {
   "cell_type": "markdown",
   "id": "ecd7c2b6",
   "metadata": {},
   "source": [
    "## Building model"
   ]
  },
  {
   "cell_type": "code",
   "execution_count": 33,
   "id": "9325160c",
   "metadata": {},
   "outputs": [],
   "source": [
    "def build_model(model,mlb_estimator,xtrain,ytrain,xtest,ytest):\n",
    "    clf = mlb_estimator(model)\n",
    "    clf.fit(xtrain,ytrain)\n",
    "    clf_predictions = clf.predict(xtest)\n",
    "    acc = accuracy_score(ytest,clf_predictions)\n",
    "    ham = hamming_loss(ytest,clf_predictions)\n",
    "    result = {\"accuracy:\":acc,\"hamming_score\":ham}\n",
    "    return result, clf"
   ]
  },
  {
   "cell_type": "code",
   "execution_count": 40,
   "id": "b2a2a555",
   "metadata": {},
   "outputs": [
    {
     "data": {
      "text/plain": [
       "{'accuracy:': 0.1568287037037037, 'hamming_score': 0.10081018518518518}"
      ]
     },
     "execution_count": 40,
     "metadata": {},
     "output_type": "execute_result"
    }
   ],
   "source": [
    "### Model 2\n",
    "clf_chain_model, clf_chain = build_model(MultinomialNB(),ClassifierChain,X_train,y_train,X_test,y_test)\n",
    "clf_chain_model"
   ]
  },
  {
   "cell_type": "markdown",
   "id": "85c3af66",
   "metadata": {},
   "source": [
    "### Evaluation"
   ]
  },
  {
   "cell_type": "code",
   "execution_count": 42,
   "id": "2dd3cd80",
   "metadata": {},
   "outputs": [
    {
     "data": {
      "text/plain": [
       "array([[0., 0., 0., ..., 1., 0., 0.],\n",
       "       [0., 0., 0., ..., 0., 0., 0.],\n",
       "       [0., 0., 0., ..., 0., 0., 0.],\n",
       "       ...,\n",
       "       [0., 0., 0., ..., 1., 0., 0.],\n",
       "       [0., 0., 0., ..., 0., 0., 0.],\n",
       "       [0., 0., 0., ..., 0., 0., 0.]])"
      ]
     },
     "execution_count": 42,
     "metadata": {},
     "output_type": "execute_result"
    }
   ],
   "source": [
    "clf_predictions"
   ]
  },
  {
   "cell_type": "code",
   "execution_count": 44,
   "id": "2392fd8b",
   "metadata": {},
   "outputs": [
    {
     "ename": "IndexError",
     "evalue": "invalid index to scalar variable.",
     "output_type": "error",
     "traceback": [
      "\u001b[1;31m---------------------------------------------------------------------------\u001b[0m",
      "\u001b[1;31mIndexError\u001b[0m                                Traceback (most recent call last)",
      "\u001b[1;32m~\\AppData\\Local\\Temp/ipykernel_19296/2269665085.py\u001b[0m in \u001b[0;36m<module>\u001b[1;34m\u001b[0m\n\u001b[0;32m     12\u001b[0m         \u001b[1;32mif\u001b[0m\u001b[1;33m(\u001b[0m\u001b[0my_test\u001b[0m\u001b[1;33m.\u001b[0m\u001b[0mto_numpy\u001b[0m\u001b[1;33m(\u001b[0m\u001b[1;33m)\u001b[0m\u001b[1;33m[\u001b[0m\u001b[0mi\u001b[0m\u001b[1;33m]\u001b[0m\u001b[1;33m[\u001b[0m\u001b[0mj\u001b[0m\u001b[1;33m]\u001b[0m \u001b[1;33m==\u001b[0m \u001b[1;36m1\u001b[0m \u001b[1;32mand\u001b[0m \u001b[0mclf_predictions\u001b[0m\u001b[1;33m[\u001b[0m\u001b[0mi\u001b[0m\u001b[1;33m]\u001b[0m\u001b[1;33m[\u001b[0m\u001b[1;36m0\u001b[0m\u001b[1;33m]\u001b[0m\u001b[1;33m[\u001b[0m\u001b[0mj\u001b[0m\u001b[1;33m]\u001b[0m \u001b[1;33m==\u001b[0m \u001b[1;36m1\u001b[0m\u001b[1;33m)\u001b[0m\u001b[1;33m:\u001b[0m\u001b[1;33m\u001b[0m\u001b[1;33m\u001b[0m\u001b[0m\n\u001b[0;32m     13\u001b[0m             \u001b[0mTP_each\u001b[0m \u001b[1;33m+=\u001b[0m \u001b[1;36m1\u001b[0m\u001b[1;33m\u001b[0m\u001b[1;33m\u001b[0m\u001b[0m\n\u001b[1;32m---> 14\u001b[1;33m         \u001b[1;32mif\u001b[0m\u001b[1;33m(\u001b[0m\u001b[0my_test\u001b[0m\u001b[1;33m.\u001b[0m\u001b[0mto_numpy\u001b[0m\u001b[1;33m(\u001b[0m\u001b[1;33m)\u001b[0m\u001b[1;33m[\u001b[0m\u001b[0mi\u001b[0m\u001b[1;33m]\u001b[0m\u001b[1;33m[\u001b[0m\u001b[0mj\u001b[0m\u001b[1;33m]\u001b[0m \u001b[1;33m==\u001b[0m \u001b[1;36m0\u001b[0m \u001b[1;32mand\u001b[0m \u001b[0mclf_predictions\u001b[0m\u001b[1;33m[\u001b[0m\u001b[0mi\u001b[0m\u001b[1;33m]\u001b[0m\u001b[1;33m[\u001b[0m\u001b[1;36m0\u001b[0m\u001b[1;33m]\u001b[0m\u001b[1;33m[\u001b[0m\u001b[0mj\u001b[0m\u001b[1;33m]\u001b[0m \u001b[1;33m==\u001b[0m \u001b[1;36m0\u001b[0m\u001b[1;33m)\u001b[0m\u001b[1;33m:\u001b[0m\u001b[1;33m\u001b[0m\u001b[1;33m\u001b[0m\u001b[0m\n\u001b[0m\u001b[0;32m     15\u001b[0m             \u001b[0mTN_each\u001b[0m \u001b[1;33m+=\u001b[0m \u001b[1;36m1\u001b[0m\u001b[1;33m\u001b[0m\u001b[1;33m\u001b[0m\u001b[0m\n\u001b[0;32m     16\u001b[0m         \u001b[1;32mif\u001b[0m\u001b[1;33m(\u001b[0m\u001b[0my_test\u001b[0m\u001b[1;33m.\u001b[0m\u001b[0mto_numpy\u001b[0m\u001b[1;33m(\u001b[0m\u001b[1;33m)\u001b[0m\u001b[1;33m[\u001b[0m\u001b[0mi\u001b[0m\u001b[1;33m]\u001b[0m\u001b[1;33m[\u001b[0m\u001b[0mj\u001b[0m\u001b[1;33m]\u001b[0m \u001b[1;33m==\u001b[0m \u001b[1;36m0\u001b[0m \u001b[1;32mand\u001b[0m \u001b[0mclf_predictions\u001b[0m\u001b[1;33m[\u001b[0m\u001b[0mi\u001b[0m\u001b[1;33m]\u001b[0m\u001b[1;33m[\u001b[0m\u001b[1;36m0\u001b[0m\u001b[1;33m]\u001b[0m\u001b[1;33m[\u001b[0m\u001b[0mj\u001b[0m\u001b[1;33m]\u001b[0m \u001b[1;33m==\u001b[0m \u001b[1;36m1\u001b[0m\u001b[1;33m)\u001b[0m\u001b[1;33m:\u001b[0m\u001b[1;33m\u001b[0m\u001b[1;33m\u001b[0m\u001b[0m\n",
      "\u001b[1;31mIndexError\u001b[0m: invalid index to scalar variable."
     ]
    }
   ],
   "source": [
    "## Calculating two different evaluation scores \n",
    "clf_predictions = clf_chain.predict(X_test)\n",
    "TP_each = 0\n",
    "TN_each = 0\n",
    "FP_each = 0\n",
    "FN_each = 0\n",
    "T_exact = 0\n",
    "for i in range(1728):\n",
    "    if((y_test.to_numpy()[i] == clf_predictions[i].toarray()).all()):\n",
    "        T_exact += 1\n",
    "    for j in range(20):\n",
    "        if(y_test.to_numpy()[i][j] == 1 and clf_predictions[i].toarray()[0][j] == 1):\n",
    "            TP_each += 1\n",
    "        if(y_test.to_numpy()[i][j] == 0 and clf_predictions[i].toarray()[0][j] == 0):\n",
    "            TN_each += 1\n",
    "        if(y_test.to_numpy()[i][j] == 0 and clf_predictions[i].toarray()[0][j] == 1):\n",
    "            FP_each += 1 \n",
    "        if(y_test.to_numpy()[i][j] == 1 and clf_predictions[i].toarray()[0][j] == 0):\n",
    "            FN_each += 1   \n",
    "print(\"Clf model predictions\")\n",
    "print(\"Exact matches, accuracy:\", T_exact/1728)\n",
    "print(\"Each genre-match, accuracy:\", (TP_each+TN_each)/(TP_each+TN_each+FP_each+FN_each))\n",
    "print(\"Each genre-match, precision:\", (TP_each)/(TP_each+FP_each))\n",
    "print(\"Each genre-match, recall:\", (TP_each)/(TP_each+FN_each))\n",
    "print(\"Each genre-match, F1:\", (2*TP_each)/(2*TP_each+FP_each+FN_each))\n",
    "base_predictions = np.zeros((1728,20))\n",
    "TP_each_b = 0\n",
    "TN_each_b = 0\n",
    "FP_each_b = 0\n",
    "FN_each_b = 0\n",
    "T_exact_b = 0\n",
    "for i in range(1728):\n",
    "    if((y_test.to_numpy()[i] == base_predictions[i]).all()):\n",
    "        T_exact_b += 1\n",
    "    for j in range(20):\n",
    "        if(y_test.to_numpy()[i][j] == 1 and base_predictions[i][j] == 1):\n",
    "            TP_each_b += 1\n",
    "        if(y_test.to_numpy()[i][j] == 0 and base_predictions[i][j] == 0):\n",
    "            TN_each_b += 1\n",
    "        if(y_test.to_numpy()[i][j] == 0 and base_predictions[i][j] == 1):\n",
    "            FP_each_b += 1\n",
    "        if(y_test.to_numpy()[i][j] == 1 and base_predictions[i][j] == 0):\n",
    "            FN_each_b += 1\n",
    "print(\"\")\n",
    "print(\"Baseline zero-model predictions\")\n",
    "print(\"Exact matches, accuracy:\", T_exact_b/1728)\n",
    "print(\"Each genre-match, accuracy:\", (TP_each_b+TN_each_b)/(TP_each_b+TN_each_b+FP_each_b+FN_each_b))\n",
    "print(\"Each genre-match, precision: '0', none predicted positive\")\n",
    "print(\"Each genre-match, recall:\", (TP_each_b)/(TP_each_b+FN_each_b))\n",
    "print(\"Each genre-match, F1:\", (2*TP_each_b)/(2*TP_each_b+FP_each_b+FN_each_b))\n",
    "base1_predictions = np.ones((1728,20))\n",
    "TP_each_b1 = 0\n",
    "TN_each_b1 = 0\n",
    "FP_each_b1 = 0\n",
    "FN_each_b1 = 0\n",
    "T_exact_b1 = 0\n",
    "for i in range(1728):\n",
    "    if((y_test.to_numpy()[i] == base1_predictions[i]).all()):\n",
    "        T_exact_b1 += 1\n",
    "    for j in range(20):\n",
    "        if(y_test.to_numpy()[i][j] == 1 and base1_predictions[i][j] == 1):\n",
    "            TP_each_b1 += 1\n",
    "        if(y_test.to_numpy()[i][j] == 0 and base1_predictions[i][j] == 0):\n",
    "            TN_each_b1 += 1\n",
    "        if(y_test.to_numpy()[i][j] == 0 and base1_predictions[i][j] == 1):\n",
    "            FP_each_b1 += 1\n",
    "        if(y_test.to_numpy()[i][j] == 1 and base1_predictions[i][j] == 0):\n",
    "            FN_each_b1 += 1\n",
    "print(\"\")\n",
    "print(\"Baseline ones-model predictions\")\n",
    "print(\"Exact matches, accuracy:\", T_exact_b1/1728)\n",
    "print(\"Each genre-match, accuracy:\", (TP_each_b1+TN_each_b1)/(TP_each_b1+TN_each_b1+FP_each_b1+FN_each_b1))\n",
    "print(\"Each genre-match, precision:\", (TP_each_b1)/(TP_each_b1+FP_each_b1))\n",
    "print(\"Each genre-match, recall:\", (TP_each_b1)/(TP_each_b1+FN_each_b1))\n",
    "print(\"Each genre-match, F1:\", (2*TP_each_b1)/(2*TP_each_b1+FP_each_b1+FN_each_b1))"
   ]
  },
  {
   "cell_type": "markdown",
   "id": "8f9d10dd",
   "metadata": {},
   "source": [
    "## Prediction example"
   ]
  },
  {
   "cell_type": "code",
   "execution_count": null,
   "id": "90471d20",
   "metadata": {},
   "outputs": [],
   "source": [
    "ex1 = class_data_ohe['Storyline'].iloc[0]\n",
    "vec_example = vectorizer_tf.transform([ex1])\n",
    "clf_chain.predict(vec_example).toarray()"
   ]
  },
  {
   "cell_type": "code",
   "execution_count": null,
   "id": "49609487",
   "metadata": {},
   "outputs": [],
   "source": [
    "class_data_ohe.loc[0]"
   ]
  }
 ],
 "metadata": {
  "kernelspec": {
   "display_name": "Python 3 (ipykernel)",
   "language": "python",
   "name": "python3"
  },
  "language_info": {
   "codemirror_mode": {
    "name": "ipython",
    "version": 3
   },
   "file_extension": ".py",
   "mimetype": "text/x-python",
   "name": "python",
   "nbconvert_exporter": "python",
   "pygments_lexer": "ipython3",
   "version": "3.10.0"
  },
  "vscode": {
   "interpreter": {
    "hash": "0f8b8cbab426f04b260accaa8dc73a62bd3e882c794e5f99d5fd470f25f28dd2"
   }
  }
 },
 "nbformat": 4,
 "nbformat_minor": 5
}
