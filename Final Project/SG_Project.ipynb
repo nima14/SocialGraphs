{
 "cells": [
  {
   "cell_type": "code",
   "execution_count": 1,
   "id": "845a02cd",
   "metadata": {},
   "outputs": [],
   "source": [
    "import pandas as pd\n",
    "import numpy as np\n",
    "from functions import disparity_filter,disparity_filter_alpha_cut\n",
    "from matplotlib import pyplot as plt\n",
    "import networkx as nx\n",
    "import networkx.algorithms.community as nx_comm\n",
    "import math\n",
    "import random\n",
    "from collections import Counter\n",
    "from tabulate import tabulate\n",
    "import re\n",
    "import urllib.request\n",
    "from urllib.error import HTTPError\n",
    "#import imdb\n",
    "from community import community_louvain\n",
    "import nltk\n",
    "from nltk.probability import FreqDist\n",
    "from nltk.stem import WordNetLemmatizer\n",
    "from nltk.tokenize import RegexpTokenizer\n",
    "from sklearn.preprocessing import MultiLabelBinarizer\n",
    "from sklearn.feature_extraction.text import TfidfVectorizer\n",
    "from sklearn.model_selection import train_test_split\n",
    "from sklearn.naive_bayes import MultinomialNB\n",
    "from sklearn.multioutput import ClassifierChain\n",
    "from sklearn.metrics import accuracy_score\n",
    "from sklearn.metrics import hamming_loss"
   ]
  },
  {
   "cell_type": "markdown",
   "id": "97cfd978",
   "metadata": {},
   "source": [
    "# 1. Preparing the Network"
   ]
  },
  {
   "cell_type": "code",
   "execution_count": 25,
   "id": "41aa51d5",
   "metadata": {},
   "outputs": [],
   "source": [
    "links = pd.read_csv('D:\\DTU\\Large Files\\Social Graphs\\Project\\ml-latest-small\\\\links.csv')\n",
    "movies = pd.read_csv('D:\\DTU\\Large Files\\Social Graphs\\Project\\ml-latest-small\\\\movies.csv')\n",
    "ratings = pd.read_csv('D:\\DTU\\Large Files\\Social Graphs\\Project\\ml-latest-small\\\\ratings.csv')\n",
    "tags = pd.read_csv('D:\\DTU\\Large Files\\Social Graphs\\Project\\ml-latest-small\\\\tags.csv')"
   ]
  },
  {
   "cell_type": "markdown",
   "id": "393ab704",
   "metadata": {},
   "source": [
    "### Include the High Rankings"
   ]
  },
  {
   "cell_type": "markdown",
   "id": "7f065f2f",
   "metadata": {},
   "source": [
    "The data has all the ratings from 1 to 5 but we are only interested in ratings 4 and 5 since this is kind of a recommendation network and if a user has rated a movie low then he/she would not recommend it."
   ]
  },
  {
   "cell_type": "code",
   "execution_count": 26,
   "id": "8eb86223",
   "metadata": {},
   "outputs": [],
   "source": [
    "ratings = ratings[ratings['rating'].isin([4,5])]"
   ]
  },
  {
   "cell_type": "markdown",
   "id": "280dda33",
   "metadata": {},
   "source": [
    "### Creating Raw Network"
   ]
  },
  {
   "cell_type": "code",
   "execution_count": 9,
   "id": "357f62b2",
   "metadata": {},
   "outputs": [],
   "source": [
    "userIds = ratings['userId'].unique()\n",
    "movieIds = ratings['movieId'].unique()"
   ]
  },
  {
   "cell_type": "code",
   "execution_count": 10,
   "id": "6819b900",
   "metadata": {},
   "outputs": [],
   "source": [
    "# Create both type of dictionaries\n",
    "users_movies_dict = {}\n",
    "\n",
    "for u in userIds:\n",
    "    users_movies_dict[u] = list(ratings[ratings['userId']==u]['movieId'])\n",
    "    \n",
    "movies_users_dict = {}\n",
    "\n",
    "for m in movieIds:\n",
    "    movies_users_dict[m] = list(ratings[ratings['movieId']==m]['userId'])\n",
    "\n"
   ]
  },
  {
   "cell_type": "code",
   "execution_count": 11,
   "id": "65f72423",
   "metadata": {},
   "outputs": [],
   "source": [
    "nodes_w = {}\n",
    "\n",
    "\n",
    "for u in userIds:\n",
    "    for n1 in users_movies_dict[u] :\n",
    "        for n2 in users_movies_dict[u]:\n",
    "            if n1 > n2:\n",
    "                if (n1,n2) in nodes_w:\n",
    "                    nodes_w[(n1,n2)] += 1\n",
    "                else:\n",
    "                    nodes_w[(n1,n2)] = 1            "
   ]
  },
  {
   "cell_type": "markdown",
   "id": "171eebfe",
   "metadata": {},
   "source": [
    "Basic Information about raw network"
   ]
  },
  {
   "cell_type": "code",
   "execution_count": 8,
   "id": "1c358d7d",
   "metadata": {},
   "outputs": [
    {
     "name": "stdout",
     "output_type": "stream",
     "text": [
      "Number of Nodes: 9742\n",
      "Number of Edges: 2347504\n"
     ]
    }
   ],
   "source": [
    "print('Number of Nodes:',len(movies))\n",
    "print('Number of Edges:',len(nodes_w))"
   ]
  },
  {
   "cell_type": "code",
   "execution_count": 9,
   "id": "e3ec2f20",
   "metadata": {},
   "outputs": [],
   "source": [
    "edges_w = [(k[0],k[1],v) for k,v in nodes_w.items()]"
   ]
  },
  {
   "cell_type": "code",
   "execution_count": 10,
   "id": "15f50d76",
   "metadata": {},
   "outputs": [],
   "source": [
    "G = nx.Graph()\n",
    "G.add_weighted_edges_from(edges_w)"
   ]
  },
  {
   "cell_type": "markdown",
   "id": "87b4dac9",
   "metadata": {},
   "source": [
    "### Filtering the Network"
   ]
  },
  {
   "cell_type": "markdown",
   "id": "68698781",
   "metadata": {},
   "source": [
    "Since the network is highly densed, here we use disparity_filter to get the high wighted edges and reduce the number of edges."
   ]
  },
  {
   "cell_type": "code",
   "execution_count": 11,
   "id": "18337d42",
   "metadata": {},
   "outputs": [],
   "source": [
    "G = disparity_filter(G)\n",
    "G= disparity_filter_alpha_cut(G,weight='weight',alpha_t=0.4, cut_mode='or')"
   ]
  },
  {
   "cell_type": "code",
   "execution_count": 15,
   "id": "f0d0d50b",
   "metadata": {},
   "outputs": [],
   "source": [
    "# nx.write_gml(G, \"D:\\\\DTU\\\\Large Files\\\\Social Graphs\\\\G_project.edgelist\")"
   ]
  },
  {
   "cell_type": "code",
   "execution_count": 14,
   "id": "f6c9b2e5",
   "metadata": {},
   "outputs": [],
   "source": [
    "G = nx.read_gml( \"D:\\\\DTU\\\\Large Files\\\\Social Graphs\\\\G_project.edgelist\")"
   ]
  },
  {
   "cell_type": "markdown",
   "id": "e8b822f6",
   "metadata": {},
   "source": [
    "#### Filter Dataframes"
   ]
  },
  {
   "cell_type": "markdown",
   "id": "efae402a",
   "metadata": {},
   "source": [
    "Since we used a filtering algorithm, some of the nodes are removed from the network and we have to remove them from all of our dataframes as well."
   ]
  },
  {
   "cell_type": "code",
   "execution_count": 40,
   "id": "ff867573",
   "metadata": {},
   "outputs": [],
   "source": [
    "nodes_filtered = list(G.nodes)\n",
    "nodes_filtered = [int(i) for i in nodes_filtered]\n",
    "\n",
    "links = links[links['movieId'].isin( nodes_filtered )]\n",
    "movies = movies[movies['movieId'].isin( nodes_filtered )]\n",
    "ratings = ratings[ratings['movieId'].isin( nodes_filtered )]\n",
    "tags = tags[tags['movieId'].isin( nodes_filtered )]"
   ]
  },
  {
   "cell_type": "code",
   "execution_count": 42,
   "id": "bb46c411",
   "metadata": {},
   "outputs": [],
   "source": [
    "#Write to csv\n",
    "\n",
    "# links.to_csv('D:\\DTU\\Large Files\\Social Graphs\\Project\\ml-latest-small\\\\filtered_links.csv', index=False)\n",
    "# movies.to_csv('D:\\DTU\\Large Files\\Social Graphs\\Project\\ml-latest-small\\\\filtered_movies.csv', index=False)\n",
    "# ratings.to_csv('D:\\DTU\\Large Files\\Social Graphs\\Project\\ml-latest-small\\\\filtered_ratings.csv', index=False)\n",
    "# tags.to_csv('D:\\DTU\\Large Files\\Social Graphs\\Project\\ml-latest-small\\\\filtered_tags.csv', index=False)"
   ]
  },
  {
   "cell_type": "markdown",
   "id": "d18c3758",
   "metadata": {},
   "source": [
    "### Adding Attributes"
   ]
  },
  {
   "cell_type": "markdown",
   "id": "7e1995d0",
   "metadata": {},
   "source": [
    "#### Year of the Movie"
   ]
  },
  {
   "cell_type": "markdown",
   "id": "3b14c497",
   "metadata": {},
   "source": [
    "The years are in the title of each movie in parentheses, so by using regex we get the year for each movie."
   ]
  },
  {
   "cell_type": "code",
   "execution_count": 43,
   "id": "35a11ab8",
   "metadata": {},
   "outputs": [],
   "source": [
    "years = []\n",
    "\n",
    "for m in movies['title']:\n",
    "    try:\n",
    "        year = re.findall('\\((\\d\\d\\d\\d)\\)', str(m))[0]\n",
    "    except:\n",
    "        year = 0\n",
    "    years.append(year)\n",
    "         \n",
    "movies['year'] = years\n",
    "movies['year'] = movies['year'].astype(int)"
   ]
  },
  {
   "cell_type": "markdown",
   "id": "d53e1247",
   "metadata": {},
   "source": [
    "#### Average Rating"
   ]
  },
  {
   "cell_type": "markdown",
   "id": "b5555a56",
   "metadata": {},
   "source": [
    "We can add the average rating of each movie and add it as a column to our main data frame. As we are considering the high ranks (4 & 5), then the average ratings are all above 4."
   ]
  },
  {
   "cell_type": "code",
   "execution_count": 44,
   "id": "d3135954",
   "metadata": {},
   "outputs": [],
   "source": [
    "movies_avg_rating = ratings.groupby('movieId')['rating'].mean().reset_index()\n",
    "movies['average_rating'] = list(movies_avg_rating['rating'])"
   ]
  },
  {
   "cell_type": "markdown",
   "id": "144f51ea",
   "metadata": {},
   "source": [
    "#### Degree"
   ]
  },
  {
   "cell_type": "code",
   "execution_count": 45,
   "id": "f43531a7",
   "metadata": {},
   "outputs": [],
   "source": [
    "movies['degree'] = [G.degree(n) for n in sorted(list(G.nodes()))]"
   ]
  },
  {
   "cell_type": "markdown",
   "id": "345942ee",
   "metadata": {},
   "source": [
    "#### Genres"
   ]
  },
  {
   "cell_type": "markdown",
   "id": "ae174efe",
   "metadata": {},
   "source": [
    "One movie can belong to different genres. They are all in the same column separeted by '|' so we try to get get a list of genres for each movie and put it into a column called 'genres_split'"
   ]
  },
  {
   "cell_type": "code",
   "execution_count": null,
   "id": "2ba3f50d",
   "metadata": {},
   "outputs": [],
   "source": [
    "movies['genres_split'] = movies['genres'].str.split('|')"
   ]
  },
  {
   "cell_type": "markdown",
   "id": "7c24d967",
   "metadata": {},
   "source": [
    "### Web Scraping"
   ]
  },
  {
   "cell_type": "markdown",
   "id": "a333c9d3",
   "metadata": {},
   "source": [
    "In order to enrich our data, we need to do web scraping to get the storyline (summary), country and runtime (duration of the movie) of each movie. Here we can use their IMDbId and get help from IMDB package to fetch the data."
   ]
  },
  {
   "cell_type": "markdown",
   "id": "3b718b56",
   "metadata": {},
   "source": [
    "#### Storylines"
   ]
  },
  {
   "cell_type": "code",
   "execution_count": 1,
   "id": "292fc94b",
   "metadata": {},
   "outputs": [],
   "source": [
    "### Scraping storylines\n",
    "# Takes a long time to run (about 80min) - Instead read movies_2.csv\n",
    "\n",
    "## See what info imdb package has of the movies\n",
    "#ia.get_movie_infoset()\n",
    "\n",
    "## Create new empty column for storylines\n",
    "movies[\"Storyline\"] = \"\"\n",
    "ia = imdb.IMDb()\n",
    "\n",
    "## Going trhough all movies \n",
    "for mid in movies[\"movieId\"]:\n",
    "    # Get imdbId\n",
    "    imdbid = links.loc[links[\"movieId\"]==mid, \"imdbId\"].item()\n",
    "    try:\n",
    "        movie = ia.get_movie(\"0\"+str(imdbid), info = 'plot')\n",
    "        movie.infoset2keys\n",
    "        storyline = movie['plot'][0]\n",
    "    except:\n",
    "        storyline = \"\"\n",
    "    # Add storyline to movies dataframe\n",
    "    movies.loc[movies[\"movieId\"]==mid, \"Storyline\"] = storyline\n",
    "\n",
    "### Save movies dataframe to csv\n",
    "#movies.to_csv('movies_2.csv', index=False)\n",
    "\n",
    "# + Country and Amount of sale (revenue) and Duration\n",
    "# Goofs? amount"
   ]
  },
  {
   "cell_type": "code",
   "execution_count": 46,
   "id": "de8d5475",
   "metadata": {},
   "outputs": [],
   "source": [
    "### Reading movies data set with storylines\n",
    "movies_ws = pd.read_csv('movies_2.csv')"
   ]
  },
  {
   "cell_type": "markdown",
   "id": "b6a618cb",
   "metadata": {},
   "source": [
    "#### Country"
   ]
  },
  {
   "cell_type": "code",
   "execution_count": 65,
   "id": "aeabfe1f",
   "metadata": {},
   "outputs": [
    {
     "name": "stdout",
     "output_type": "stream",
     "text": [
      "1 hr 41 min (101 min)\n"
     ]
    },
    {
     "data": {
      "text/plain": [
       "101"
      ]
     },
     "execution_count": 65,
     "metadata": {},
     "output_type": "execute_result"
    }
   ],
   "source": [
    "ia = imdb.IMDb()\n",
    "imdbid = links.loc[links[\"movieId\"]==3, \"imdbId\"].item()\n",
    "#infoneeded = 'release dates' #til country\n",
    "infoneeded = 'technical' #til duration\n",
    "movie = ia.get_movie(\"0\"+str(imdbid), info = infoneeded)\n",
    "#movie.infoset2keys\n",
    "print(movie[infoneeded]['runtime'][0])\n",
    "int(movie[infoneeded]['runtime'][0].split('(')[1].split(\" \")[0])\n",
    "#country = movie[infoneeded][0].split(':')[0]\n",
    "#country"
   ]
  },
  {
   "cell_type": "code",
   "execution_count": 2,
   "id": "b1b86a8c",
   "metadata": {},
   "outputs": [],
   "source": [
    "### Scraping Country\n",
    "# Takes a long time to run (about 80min) - Instead read movies_wc.csv\n",
    "\n",
    "## Create new empty column for storylines\n",
    "movies_ws[\"Country\"] = \"\"\n",
    "ia = imdb.IMDb()\n",
    "infoneeded = 'release dates' # For country (where first released)\n",
    "\n",
    "## Going through all movies \n",
    "for mid in movies_ws[\"movieId\"]:\n",
    "    # Get imdbId\n",
    "    imdbid = links.loc[links[\"movieId\"]==mid, \"imdbId\"].item()\n",
    "    try:\n",
    "        movie = ia.get_movie(\"0\"+str(imdbid), info = infoneeded)\n",
    "        country = movie[infoneeded][0].split(':')[0]\n",
    "    except:\n",
    "        country = \"\"\n",
    "    # Add storyline to movies dataframe\n",
    "    movies_ws.loc[movies_ws[\"movieId\"]==mid, \"Country\"] = country\n",
    "\n",
    "### Save movies dataframe to csv\n",
    "movies_ws.to_csv('movies_wc.csv', index=False)\n"
   ]
  },
  {
   "cell_type": "code",
   "execution_count": 66,
   "id": "3f8b80ca",
   "metadata": {},
   "outputs": [],
   "source": [
    "### Reading movies data set with country\n",
    "movies_wc = pd.read_csv('movies_wc.csv')"
   ]
  },
  {
   "cell_type": "markdown",
   "id": "0af871d1",
   "metadata": {},
   "source": [
    "#### Runtime"
   ]
  },
  {
   "cell_type": "code",
   "execution_count": 3,
   "id": "58fe4b93",
   "metadata": {},
   "outputs": [],
   "source": [
    "### Scraping Runtime\n",
    "# Takes a long time to run (about 115min) - Instead read movies_final.csv\n",
    "\n",
    "## Create new empty column for storylines\n",
    "movies_wc[\"Runtime\"] = \"\"\n",
    "ia = imdb.IMDb()\n",
    "infoneeded = 'technical' #til duration\n",
    "\n",
    "## Going trhough all movies \n",
    "for mid in movies_wc[\"movieId\"]:\n",
    "    # Get imdbId\n",
    "    imdbid = links.loc[links[\"movieId\"]==mid, \"imdbId\"].item()\n",
    "    try:\n",
    "        movie = ia.get_movie(\"0\"+str(imdbid), info = infoneeded)\n",
    "        runtime = int(movie[infoneeded]['runtime'][0].split('(')[1].split(\" \")[0])\n",
    "    except:\n",
    "        runtime = 0\n",
    "    # Add storyline to movies dataframe\n",
    "    movies_wc.loc[movies_wc[\"movieId\"]==mid, \"Runtime\"] = runtime\n",
    "\n",
    "### Save movies dataframe to csv\n",
    "movies_wc.to_csv('movies_final.csv', index=False)"
   ]
  },
  {
   "cell_type": "markdown",
   "id": "0288fde6",
   "metadata": {},
   "source": [
    "#### Genres"
   ]
  },
  {
   "cell_type": "markdown",
   "id": "3540d514",
   "metadata": {},
   "source": [
    "Here we create a separeted dataframe for genres. If a movie has multiple genres, then it would be duplicated into different rows, each row having just one genre."
   ]
  },
  {
   "cell_type": "code",
   "execution_count": 29,
   "id": "045dcc9d",
   "metadata": {},
   "outputs": [],
   "source": [
    "movies['genres_split'] = movies['genres'].str.split('|')\n",
    "movies_genres_df = movies.explode('genres_split')\n",
    "movies_genres_df = movies_genres_df[['movieId','title','genres_split','year','average_rating','degree','Runtime','Country','Storyline']]"
   ]
  },
  {
   "cell_type": "code",
   "execution_count": 30,
   "id": "9d70b078",
   "metadata": {},
   "outputs": [],
   "source": [
    "# Write to csv\n",
    "# movies_genres_df.to_csv('D:\\DTU\\Large Files\\Social Graphs\\Project\\ml-latest-small\\\\movies_genres_df.csv', index=False)"
   ]
  },
  {
   "cell_type": "markdown",
   "id": "17fed1dd",
   "metadata": {},
   "source": [
    "### Load all the Datasets"
   ]
  },
  {
   "cell_type": "markdown",
   "id": "2f35a81d",
   "metadata": {},
   "source": [
    "The data from previous parts have been saved into some files and by running the code below we can get all the data needed so that we would not run the previous parts again."
   ]
  },
  {
   "cell_type": "code",
   "execution_count": 15,
   "id": "4a06c66c",
   "metadata": {},
   "outputs": [],
   "source": [
    "movies = pd.read_csv('D:\\DTU\\Large Files\\Social Graphs\\Project\\ml-latest-small\\\\movies_final.csv')\n",
    "movies_genres_df  = pd.read_csv('D:\\DTU\\Large Files\\Social Graphs\\Project\\ml-latest-small\\\\movies_genres_df.csv')\n",
    "G = nx.read_gml( \"D:\\\\DTU\\\\Large Files\\\\Social Graphs\\\\G_project.edgelist\")\n",
    "links = pd.read_csv('D:\\DTU\\Large Files\\Social Graphs\\Project\\ml-latest-small\\\\filtered_links.csv')\n",
    "ratings = pd.read_csv('D:\\DTU\\Large Files\\Social Graphs\\Project\\ml-latest-small\\\\filtered_ratings.csv')\n",
    "tags = pd.read_csv('D:\\DTU\\Large Files\\Social Graphs\\Project\\ml-latest-small\\\\filtered_tags.csv')\n",
    "\n",
    "G = nx.relabel_nodes(G, lambda x: int(x))\n",
    "movies['genres_split'] = movies['genres'].str.split('|')"
   ]
  },
  {
   "cell_type": "code",
   "execution_count": 25,
   "id": "30dc7134",
   "metadata": {},
   "outputs": [],
   "source": [
    "movies.loc[747,'title'] = 'Raiders of the Lost Ark (1989)'"
   ]
  },
  {
   "cell_type": "markdown",
   "id": "65266b5b",
   "metadata": {},
   "source": [
    "# 2. Network Analysis"
   ]
  },
  {
   "cell_type": "code",
   "execution_count": 3,
   "id": "92f1b2aa",
   "metadata": {},
   "outputs": [
    {
     "name": "stdout",
     "output_type": "stream",
     "text": [
      "Number of Nodes: 5760\n",
      "Number of Edges: 1472512\n"
     ]
    }
   ],
   "source": [
    "N = G.number_of_nodes()\n",
    "L = G.number_of_edges()\n",
    "print('Number of Nodes:',N)\n",
    "print('Number of Edges:',L)"
   ]
  },
  {
   "cell_type": "markdown",
   "id": "9cbf8acf",
   "metadata": {},
   "source": [
    "As we can see, by implementing the disparity filter, out of 9742 nodes, 3982 nodes had 0 edges and thus removed from the network."
   ]
  },
  {
   "cell_type": "markdown",
   "id": "213de917",
   "metadata": {},
   "source": [
    "#### Power Law"
   ]
  },
  {
   "cell_type": "code",
   "execution_count": 6,
   "id": "a27dc10c",
   "metadata": {},
   "outputs": [
    {
     "name": "stdout",
     "output_type": "stream",
     "text": [
      "Degree Exponent:\n",
      "Calculating best minimal value for power law fit\n",
      "Total Degree: 3.7905687135021355\n"
     ]
    }
   ],
   "source": [
    "import powerlaw\n",
    "\n",
    "print('Degree Exponent:')\n",
    "print('Total Degree:',powerlaw.Fit([G.degree(n) for n in G.nodes()]).alpha)"
   ]
  },
  {
   "cell_type": "markdown",
   "id": "5b4dacd2",
   "metadata": {},
   "source": [
    "We can see that the alpha is higher than 3."
   ]
  },
  {
   "cell_type": "markdown",
   "id": "027d9565",
   "metadata": {},
   "source": [
    "#### Degree Distribution"
   ]
  },
  {
   "cell_type": "code",
   "execution_count": 26,
   "id": "f5e1d442",
   "metadata": {
    "scrolled": true
   },
   "outputs": [
    {
     "data": {
      "image/png": "[encoded data removed]",
      "text/plain": [
       "<Figure size 720x360 with 1 Axes>"
      ]
     },
     "metadata": {
      "needs_background": "light"
     },
     "output_type": "display_data"
    }
   ],
   "source": [
    "degrees = [G.degree(n) for n in G.nodes()]\n",
    "\n",
    "n,bins = np.histogram(degrees,bins=20)\n",
    "\n",
    "sum_degrees = np.sum(n)\n",
    "prob = n/sum_degrees\n",
    "max_prob = np.max(prob)\n",
    "\n",
    "center = (bins[:-1] + bins[1:]) / 2\n",
    "\n",
    "fig = plt.figure(figsize = (10, 5))\n",
    "\n",
    "plt.bar(center,prob,width=150,  edgecolor='black',color='darkgreen')\n",
    "plt.title(\"Degree Distribution\", fontweight='bold')\n",
    "plt.xlabel(\"D\", fontweight='bold')\n",
    "plt.ylabel(\"Probability\", fontweight='bold')\n",
    "plt.show()\n"
   ]
  },
  {
   "cell_type": "markdown",
   "id": "5c2e954b",
   "metadata": {},
   "source": [
    "Most of the nodes have few degrees but we can see some nodes with more than 4000 edges."
   ]
  },
  {
   "cell_type": "code",
   "execution_count": 28,
   "id": "bc1663c7",
   "metadata": {},
   "outputs": [],
   "source": [
    "BA = nx.Graph()\n",
    "BA.add_edges_from([(1, 2)])\n",
    "\n",
    "def add_nodes_BA(G,n):\n",
    "    \n",
    "    starting_node = np.max(list(G.nodes()))+1\n",
    "\n",
    "    for source in range(starting_node,n+1):\n",
    "\n",
    "        all_nodes = []\n",
    "\n",
    "        for e in list(G.edges()):\n",
    "            all_nodes.append(e[0]) \n",
    "            all_nodes.append(e[1]) \n",
    "\n",
    "        target = random.choice(all_nodes)\n",
    "\n",
    "        G.add_edges_from([(source,target)])\n",
    "#----------------------------------------------    \n",
    "    \n",
    "add_nodes_BA(G=BA,n=N)\n",
    "\n"
   ]
  },
  {
   "cell_type": "code",
   "execution_count": 29,
   "id": "d38067a2",
   "metadata": {
    "scrolled": false
   },
   "outputs": [
    {
     "data": {
      "image/png": "[encoded data removed]",
      "text/plain": [
       "<Figure size 720x360 with 1 Axes>"
      ]
     },
     "metadata": {
      "needs_background": "light"
     },
     "output_type": "display_data"
    }
   ],
   "source": [
    "BA_degrees = [BA.degree(n) for n in BA.nodes()]\n",
    "BA_n,BA_bins = np.histogram(BA_degrees,bins=40)\n",
    "BA_sum_degrees = np.sum(BA_n)\n",
    "BA_prob = BA_n/BA_sum_degrees\n",
    "BA_max_prob = np.max(BA_prob)\n",
    "BA_center = (BA_bins[:-1] + BA_bins[1:]) / 2\n",
    "\n",
    "fig = plt.figure(figsize = (10, 5))\n",
    "\n",
    "plt.bar(BA_center,BA_prob,width=2,edgecolor='black',color='darksalmon')\n",
    "plt.title(\"Distribution of the Barabasi-Albert Network\", fontweight='bold')\n",
    "plt.xlabel(\"D\", fontweight='bold')\n",
    "plt.ylabel(\"Probability\", fontweight='bold')\n",
    "plt.xlim((0,30))\n",
    "plt.show()"
   ]
  },
  {
   "cell_type": "markdown",
   "id": "0c20f51f",
   "metadata": {},
   "source": [
    "#### Average Degree "
   ]
  },
  {
   "cell_type": "markdown",
   "id": "a6e055c0",
   "metadata": {},
   "source": [
    "Our network:"
   ]
  },
  {
   "cell_type": "code",
   "execution_count": 17,
   "id": "ca58a603",
   "metadata": {
    "scrolled": false
   },
   "outputs": [
    {
     "name": "stdout",
     "output_type": "stream",
     "text": [
      "Mean Degrees: 511.2888888888889\n",
      "Standard Deviation of Degrees: 546.4780860086288\n",
      "Minimum of Degrees: 1\n",
      "Maximum of Degrees: 4067\n",
      "Median of Degrees: 329.0\n"
     ]
    }
   ],
   "source": [
    "K = np.mean(degrees)\n",
    "print('Mean Degrees:',K)\n",
    "\n",
    "K_std = np.std(degrees)\n",
    "print('Standard Deviation of Degrees:',K_std)\n",
    "\n",
    "K_min = np.min(degrees)\n",
    "print('Minimum of Degrees:',K_min)\n",
    "\n",
    "K_max = np.max(degrees)\n",
    "print('Maximum of Degrees:',K_max)\n",
    "\n",
    "K_median = np.median(degrees)\n",
    "print('Median of Degrees:',K_median)"
   ]
  },
  {
   "cell_type": "markdown",
   "id": "95b1c5f5",
   "metadata": {},
   "source": [
    "Barabasi-Albert network:"
   ]
  },
  {
   "cell_type": "code",
   "execution_count": 22,
   "id": "a555b43b",
   "metadata": {},
   "outputs": [
    {
     "name": "stdout",
     "output_type": "stream",
     "text": [
      "Mean Degrees: 1.9996527777777777\n",
      "Standard Deviation of Degrees: 3.4367802101341978\n",
      "Minimum of Degrees: 1\n",
      "Maximum of Degrees: 98\n",
      "Median of Degrees: 1.0\n"
     ]
    }
   ],
   "source": [
    "K = np.mean(BA_degrees)\n",
    "print('Mean Degrees:',K)\n",
    "\n",
    "K_std = np.std(BA_degrees)\n",
    "print('Standard Deviation of Degrees:',K_std)\n",
    "\n",
    "K_min = np.min(BA_degrees)\n",
    "print('Minimum of Degrees:',K_min)\n",
    "\n",
    "K_max = np.max(BA_degrees)\n",
    "print('Maximum of Degrees:',K_max)\n",
    "\n",
    "K_median = np.median(BA_degrees)\n",
    "print('Median of Degrees:',K_median)"
   ]
  },
  {
   "cell_type": "markdown",
   "id": "8872086e",
   "metadata": {},
   "source": [
    "#### Giant Connected Component"
   ]
  },
  {
   "cell_type": "code",
   "execution_count": 9,
   "id": "5589e3bd",
   "metadata": {},
   "outputs": [
    {
     "name": "stdout",
     "output_type": "stream",
     "text": [
      "Number of connected components:  1\n"
     ]
    }
   ],
   "source": [
    "Gcc = sorted(nx.connected_components(G), key=len, reverse=True)\n",
    "print('Number of connected components: ',len(Gcc))"
   ]
  },
  {
   "cell_type": "markdown",
   "id": "e7eae779",
   "metadata": {},
   "source": [
    "We can see that all the nodes in the network are connected together."
   ]
  },
  {
   "cell_type": "markdown",
   "id": "224a3741",
   "metadata": {},
   "source": [
    "#### Clustering Coefficient"
   ]
  },
  {
   "cell_type": "code",
   "execution_count": 21,
   "id": "12cc7a17",
   "metadata": {
    "scrolled": true
   },
   "outputs": [
    {
     "name": "stdout",
     "output_type": "stream",
     "text": [
      "Average Clustering Coefficient: 0.706984368838248\n"
     ]
    }
   ],
   "source": [
    "avg_cluster = nx.average_clustering(G)\n",
    "print('Average Clustering Coefficient:',avg_cluster)"
   ]
  },
  {
   "cell_type": "markdown",
   "id": "e31db69a",
   "metadata": {},
   "source": [
    "So the clustering in our network is pretty high and we can interpret that a lot of neighbor nodes are connected to each other."
   ]
  },
  {
   "cell_type": "markdown",
   "id": "7c889a2e",
   "metadata": {},
   "source": [
    "#### Finding the Regime"
   ]
  },
  {
   "cell_type": "code",
   "execution_count": 23,
   "id": "79705438",
   "metadata": {},
   "outputs": [],
   "source": [
    "def define_regime(K,N):\n",
    "    limit = math.log(N)\n",
    "    if K<1:\n",
    "        print(\"The Network is in Sub-Critical Regime\")\n",
    "    elif K>1 and K<limit:\n",
    "        print(\"The Network is in Super-Critical Regime\")\n",
    "    else:\n",
    "        print(\"The Network is in Fully Connected Regime\")"
   ]
  },
  {
   "cell_type": "code",
   "execution_count": 24,
   "id": "95115e18",
   "metadata": {},
   "outputs": [
    {
     "name": "stdout",
     "output_type": "stream",
     "text": [
      "The Network is in Fully Connected Regime\n"
     ]
    }
   ],
   "source": [
    "define_regime(K,N)"
   ]
  },
  {
   "cell_type": "markdown",
   "id": "ec79b6a6",
   "metadata": {},
   "source": [
    "#### Average Distance"
   ]
  },
  {
   "cell_type": "code",
   "execution_count": 25,
   "id": "d7c05c07",
   "metadata": {},
   "outputs": [
    {
     "name": "stdout",
     "output_type": "stream",
     "text": [
      "Average Distance based on the formula: 1.3882929791565044\n"
     ]
    }
   ],
   "source": [
    "Average_Distance_Formula = math.log(N) / math.log(K)\n",
    "\n",
    "print('Average Distance based on the formula:',Average_Distance_Formula)"
   ]
  },
  {
   "cell_type": "markdown",
   "id": "9e29f7d8",
   "metadata": {},
   "source": [
    "The average distance based on the formula indicates that in order to connect one node to another, on average they can be connected without any intermediary node or with just one node."
   ]
  },
  {
   "cell_type": "code",
   "execution_count": 26,
   "id": "64f4a071",
   "metadata": {},
   "outputs": [
    {
     "name": "stdout",
     "output_type": "stream",
     "text": [
      "Average Distance: 1.9344208822905211\n"
     ]
    }
   ],
   "source": [
    "Average_Distance = nx.average_shortest_path_length(G)\n",
    "print('Average Distance:',Average_Distance)"
   ]
  },
  {
   "cell_type": "markdown",
   "id": "b09ee736",
   "metadata": {},
   "source": [
    "As we can see there is not much difference between the theoretical number and the real one. The real average path for this network is almost 2"
   ]
  },
  {
   "cell_type": "markdown",
   "id": "ee916376",
   "metadata": {},
   "source": [
    "#### Highest Betweenness Centrality"
   ]
  },
  {
   "cell_type": "markdown",
   "id": "4f07b302",
   "metadata": {},
   "source": [
    "Here we find the most important nodes based on their betweenness centrality."
   ]
  },
  {
   "cell_type": "code",
   "execution_count": 31,
   "id": "934ee30a",
   "metadata": {},
   "outputs": [],
   "source": [
    "betweenness_centrality_dict = nx.betweenness_centrality(G)\n",
    "betweenness_centrality_ids = list({k: v for k, v in sorted(betweenness_centrality_dict.items(), key=lambda item: item[1],reverse=True)}.keys())[0:10]\n",
    "betweenness_centrality_val = list({k: v for k, v in sorted(betweenness_centrality_dict.items(), key=lambda item: item[1],reverse=True)}.values())[0:10]\n",
    "betweenness_centrality_titles = [movies[movies['movieId']==i]['title'].values[0] for i in betweenness_centrality_ids]"
   ]
  },
  {
   "cell_type": "code",
   "execution_count": 32,
   "id": "70848d9d",
   "metadata": {},
   "outputs": [
    {
     "data": {
      "image/png": "[encoded data removed]",
      "text/plain": [
       "<Figure size 720x360 with 1 Axes>"
      ]
     },
     "metadata": {
      "needs_background": "light"
     },
     "output_type": "display_data"
    }
   ],
   "source": [
    "\n",
    "fig, ax = plt.subplots(figsize=(10, 5))\n",
    "\n",
    "\n",
    "# Save the chart so we can loop through the bars below.\n",
    "bars = ax.bar(\n",
    "    x=betweenness_centrality_titles,\n",
    "    height=betweenness_centrality_val,\n",
    "    edgecolor='black',\n",
    "    color='peru'\n",
    ")\n",
    "\n",
    "# Axis formatting.\n",
    "ax.spines['top'].set_visible(False)\n",
    "ax.spines['right'].set_visible(False)\n",
    "ax.spines['left'].set_visible(False)\n",
    "ax.spines['bottom'].set_color('#DDDDDD')\n",
    "ax.tick_params(bottom=False, left=False)\n",
    "ax.set_axisbelow(True)\n",
    "ax.yaxis.grid(True, color='#EEEEEE')\n",
    "ax.xaxis.grid(False)\n",
    "\n",
    "# # Grab the color of the bars so we can make the\n",
    "# # text the same color.\n",
    "bar_color = bars[0].get_facecolor()\n",
    "\n",
    "# # Add text annotations to the top of the bars.\n",
    "# # Note, you'll have to adjust this slightly (the 0.3)\n",
    "# # with different data.\n",
    "for bar in bars:\n",
    "  ax.text(\n",
    "      bar.get_x() + bar.get_width() / 2,\n",
    "      bar.get_height() + 0.0001,\n",
    "      round(bar.get_height(), 5),\n",
    "      horizontalalignment='center',\n",
    "      color='black',\n",
    "      weight='bold'\n",
    "  )\n",
    "\n",
    "ax.tick_params(axis='x', rotation=90,labelsize=8)\n",
    "ax.set_title(\"Top 10 Movies with Highest Betweenness Centrality\", fontweight='bold')\n",
    "ax.set_ylabel(\"Betweenness Centrality Value\", fontweight='bold')\n",
    "ax.set_xlabel(\"Movies\", fontweight='bold')\n",
    "plt.show()\n"
   ]
  },
  {
   "cell_type": "markdown",
   "id": "9da06b42",
   "metadata": {},
   "source": [
    "#### Highest Degree Nodes"
   ]
  },
  {
   "cell_type": "markdown",
   "id": "d4d2f31f",
   "metadata": {},
   "source": [
    "Here we can see the nodes with highest degrees."
   ]
  },
  {
   "cell_type": "code",
   "execution_count": 33,
   "id": "bbe3f9a6",
   "metadata": {
    "scrolled": true
   },
   "outputs": [
    {
     "data": {
      "image/png": "[encoded data removed]",
      "text/plain": [
       "<Figure size 720x360 with 1 Axes>"
      ]
     },
     "metadata": {
      "needs_background": "light"
     },
     "output_type": "display_data"
    }
   ],
   "source": [
    "G_nodes = list(G.nodes())\n",
    "\n",
    "nodes_deg = {}\n",
    "for n in G_nodes:\n",
    "    nodes_deg[n] = G.degree(n)\n",
    "    \n",
    "nodes_deg_counter = Counter(nodes_deg)\n",
    "\n",
    "    \n",
    "\n",
    "top_movies_m = []\n",
    "top_movies_r = []\n",
    "top_movies_d = []\n",
    "\n",
    "for k, v in nodes_deg_counter.most_common(10):\n",
    "    \n",
    "    title = str(movies[movies['movieId']==k]['title'].values[0])\n",
    "    average_rating = str(movies[movies['movieId']==k]['average_rating'].values[0])\n",
    "    \n",
    "    top_movies_m.append(title)\n",
    "    top_movies_r.append(average_rating)\n",
    "    top_movies_d.append(v)\n",
    "    \n",
    "    \n",
    "\n",
    "fig, ax = plt.subplots(figsize=(10, 5))\n",
    "\n",
    "\n",
    "# Save the chart so we can loop through the bars below.\n",
    "bars = ax.bar(\n",
    "    x=top_movies_m,\n",
    "    height=top_movies_d,\n",
    "    edgecolor='black',\n",
    "    color='royalblue'\n",
    ")\n",
    "\n",
    "# Axis formatting.\n",
    "ax.spines['top'].set_visible(False)\n",
    "ax.spines['right'].set_visible(False)\n",
    "ax.spines['left'].set_visible(False)\n",
    "ax.spines['bottom'].set_color('#DDDDDD')\n",
    "ax.tick_params(bottom=False, left=False)\n",
    "ax.set_axisbelow(True)\n",
    "ax.yaxis.grid(True, color='#EEEEEE')\n",
    "ax.xaxis.grid(False)\n",
    "\n",
    "# Grab the color of the bars so we can make the\n",
    "# text the same color.\n",
    "bar_color = bars[0].get_facecolor()\n",
    "\n",
    "# Add text annotations to the top of the bars.\n",
    "# Note, you'll have to adjust this slightly (the 0.3)\n",
    "# with different data.\n",
    "for bar in bars:\n",
    "  ax.text(\n",
    "      bar.get_x() + bar.get_width() / 2,\n",
    "      bar.get_height() + 70,\n",
    "      round(bar.get_height(), 1),\n",
    "      horizontalalignment='center',\n",
    "      color='darkblue',\n",
    "      weight='bold'\n",
    "  )\n",
    "\n",
    "ax.tick_params(axis='x', rotation=90,labelsize=8)\n",
    "ax.set_title(\"Top 10 Movies with Highest Degrees\", fontweight='bold')\n",
    "ax.set_ylabel(\"Degree\", fontweight='bold')\n",
    "ax.set_xlabel(\"Movies\", fontweight='bold')\n",
    "plt.show()\n"
   ]
  },
  {
   "cell_type": "code",
   "execution_count": 158,
   "id": "e74d4d16",
   "metadata": {},
   "outputs": [],
   "source": [
    "def edges_genres(movieId):\n",
    "    \n",
    "    movies_pulp_fiction = []\n",
    "    for e in G.edges():\n",
    "        if e[0]==movieId:\n",
    "            movies_pulp_fiction.append(e[1])\n",
    "\n",
    "        if e[1]==movieId:\n",
    "            movies_pulp_fiction.append(e[0])\n",
    "            \n",
    "    genres_pulp_fiction = []\n",
    "    for i in movies_pulp_fiction:\n",
    "        genres_i = movies[movies['movieId']==i]['genres_split']\n",
    "        for g in genres_i:\n",
    "            for k in g:\n",
    "                genres_pulp_fiction.append(k)\n",
    "                \n",
    "    genres_pulp_fiction_count = Counter(genres_pulp_fiction)\n",
    "\n",
    "    genres_pulp_fiction_count_percent = sorted([(i, genres_pulp_fiction_count[i] / len(genres_pulp_fiction) * 100.0) for i in genres_pulp_fiction_count],key = lambda x: x[1],reverse=True)\n",
    "    \n",
    "    movie_title = movies[movies['movieId']==movieId]['title'].to_string(index=False)\n",
    "    genres = movies[movies['movieId']==movieId]['genres_split'].to_string(index=False)\n",
    "\n",
    "    return movie_title,genres_pulp_fiction_count_percent,genres\n",
    "              "
   ]
  },
  {
   "cell_type": "code",
   "execution_count": 163,
   "id": "8f273cbb",
   "metadata": {},
   "outputs": [
    {
     "name": "stdout",
     "output_type": "stream",
     "text": [
      "Pulp Fiction (1994)\n",
      "[('Drama', 22.323200668546956), ('Comedy', 14.67669487099133), ('Thriller', 9.046275984539852), ('Action', 8.691110414708033), ('Romance', 7.521153243497336), ('Crime', 6.06915282565549), ('Adventure', 5.870677948396532), ('Sci-Fi', 4.53358403844145), ('Fantasy', 3.3009505902016087), ('Horror', 3.0189073435704588), ('Mystery', 2.924892928026742), ('Animation', 2.517497127337303), ('Children', 2.130993418990912), ('War', 2.026532957275671), ('Documentary', 1.5251227410425154), ('Musical', 1.462446464013371), ('IMAX', 0.9505902016086911), ('Western', 0.8670218322364984), ('Film-Noir', 0.4700720777185835), ('(no genres listed)', 0.07312232320066855)]\n",
      "[Comedy, Crime, Drama, Thriller]\n",
      "Star Wars: Episode IV - A New Hope (1977)\n",
      "[('Drama', 20.316595030925676), ('Comedy', 14.571758045916763), ('Action', 9.372051577733515), ('Thriller', 8.774504665059231), ('Romance', 7.023797043715274), ('Adventure', 6.772198343641891), ('Crime', 5.640004193311668), ('Sci-Fi', 4.895691372261243), ('Fantasy', 3.5643149177062585), ('Children', 2.830485375825558), ('Mystery', 2.830485375825558), ('Animation', 2.788552259146661), ('Horror', 2.778068979976937), ('War', 1.9813397630778908), ('Documentary', 1.9498899255687179), ('Musical', 1.551525317119195), ('IMAX', 0.9959115211238075), ('Western', 0.8386623335779432), ('Film-Noir', 0.44029772512842014), ('(no genres listed)', 0.08386623335779432)]\n",
      "[Action, Adventure, Sci-Fi]\n",
      "Matrix, The (1999)\n",
      "[('Drama', 20.626440393882252), ('Comedy', 14.592499476220405), ('Action', 9.344227948879112), ('Thriller', 8.851875130944899), ('Romance', 7.186256023465326), ('Adventure', 6.557720511208884), ('Crime', 5.897758223339618), ('Sci-Fi', 5.007332914309658), ('Fantasy', 3.540750052377959), ('Horror', 3.0693484181856276), ('Mystery', 2.912214540121517), ('Animation', 2.80745862141211), ('Children', 2.587471192122355), ('War', 1.9798868636077938), ('Musical', 1.3094489838675885), ('Documentary', 1.2675466163838256), ('IMAX', 1.152315105803478), ('Western', 0.754242614707731), ('Film-Noir', 0.45045045045045046), ('(no genres listed)', 0.10475591870940709)]\n",
      "[Action, Sci-Fi, Thriller]\n"
     ]
    }
   ],
   "source": [
    "# Pulp Fiction\n",
    "movie_title,genres_pulp_fiction_count_percent,genres = edges_genres(296)\n",
    "print(movie_title)\n",
    "print(genres_pulp_fiction_count_percent)\n",
    "print(genres)\n",
    "\n",
    "# Star Wars: Episode IV - A New Hope (1977)\n",
    "movie_title,genres_pulp_fiction_count_percent,genres = edges_genres(260)\n",
    "print(movie_title)\n",
    "print(genres_pulp_fiction_count_percent)\n",
    "print(genres)\n",
    "\n",
    "\n",
    "# Matrix, The (1999)\n",
    "movie_title,genres_pulp_fiction_count_percent,genres = edges_genres(2571)\n",
    "print(movie_title)\n",
    "print(genres_pulp_fiction_count_percent)\n",
    "print(genres)"
   ]
  },
  {
   "cell_type": "markdown",
   "id": "b5f03bd3",
   "metadata": {},
   "source": [
    "For 3 main movies we showed their own genres and also the percentage of different genres which this node is connected to. So for instance the movie 'Pulp Fiction' has genres : [Comedy, Crime, Drama, Thriller] and the it is highly connected to nodes which their genres are : 'Drama', 'Comedy', 'Thriller' and 'Action'"
   ]
  },
  {
   "cell_type": "code",
   "execution_count": 180,
   "id": "dbc56288",
   "metadata": {
    "scrolled": false
   },
   "outputs": [
    {
     "name": "stdout",
     "output_type": "stream",
     "text": [
      "Mean of Ratings: 4.26\n",
      "Pulp Fiction (1994) : 4.62\n",
      "Star Wars: Episode IV - A New Hope (1977) : 4.59\n",
      "Matrix, The (1999) : 4.6\n",
      "Raiders of the Lost Ark (Indiana Jones and the Raiders of the Lost Ark) (1981) : 4.48\n",
      "Godfather, The (1972) : 4.67\n",
      "Reservoir Dogs (1992) : 4.5\n",
      "Silence of the Lambs, The (1991) : 4.49\n",
      "Fight Club (1999) : 4.62\n",
      "Toy Story (1995) : 4.36\n",
      "Star Wars: Episode VI - Return of the Jedi (1983) : 4.53\n"
     ]
    }
   ],
   "source": [
    "print('Mean of Ratings:',np.round_(np.mean(movies['average_rating']),2))\n",
    "for r,m in zip(top_movies_r, top_movies_m):\n",
    "    print(m,':',np.round_(float(r),2))"
   ]
  },
  {
   "cell_type": "markdown",
   "id": "7522b628",
   "metadata": {},
   "source": [
    "Here we can see the rating of the high degree movies. We can see that they are all above the average rating."
   ]
  },
  {
   "cell_type": "markdown",
   "id": "d166a0e7",
   "metadata": {},
   "source": [
    "#### Highest Degree Nodes in Each Genre "
   ]
  },
  {
   "cell_type": "markdown",
   "id": "5d688c77",
   "metadata": {},
   "source": [
    "Here we wanted to find the most important movies (in terms of degrees) for each genre."
   ]
  },
  {
   "cell_type": "code",
   "execution_count": 189,
   "id": "938d531a",
   "metadata": {},
   "outputs": [
    {
     "data": {
      "text/html": [
       "<div>\n",
       "<style scoped>\n",
       "    .dataframe tbody tr th:only-of-type {\n",
       "        vertical-align: middle;\n",
       "    }\n",
       "\n",
       "    .dataframe tbody tr th {\n",
       "        vertical-align: top;\n",
       "    }\n",
       "\n",
       "    .dataframe thead th {\n",
       "        text-align: right;\n",
       "    }\n",
       "</style>\n",
       "<table border=\"1\" class=\"dataframe\">\n",
       "  <thead>\n",
       "    <tr style=\"text-align: right;\">\n",
       "      <th></th>\n",
       "      <th>genres_split</th>\n",
       "      <th>title</th>\n",
       "    </tr>\n",
       "  </thead>\n",
       "  <tbody>\n",
       "    <tr>\n",
       "      <th>13291</th>\n",
       "      <td>(no genres listed)</td>\n",
       "      <td>The OA</td>\n",
       "    </tr>\n",
       "    <tr>\n",
       "      <th>13370</th>\n",
       "      <td>(no genres listed)</td>\n",
       "      <td>T2 3-D: Battle Across Time (1996)</td>\n",
       "    </tr>\n",
       "    <tr>\n",
       "      <th>13358</th>\n",
       "      <td>(no genres listed)</td>\n",
       "      <td>Cosmos</td>\n",
       "    </tr>\n",
       "    <tr>\n",
       "      <th>427</th>\n",
       "      <td>Action</td>\n",
       "      <td>Star Wars: Episode IV - A New Hope (1977)</td>\n",
       "    </tr>\n",
       "    <tr>\n",
       "      <th>3542</th>\n",
       "      <td>Action</td>\n",
       "      <td>Matrix, The (1999)</td>\n",
       "    </tr>\n",
       "    <tr>\n",
       "      <th>1696</th>\n",
       "      <td>Action</td>\n",
       "      <td>Raiders of the Lost Ark (Indiana Jones and the...</td>\n",
       "    </tr>\n",
       "    <tr>\n",
       "      <th>428</th>\n",
       "      <td>Adventure</td>\n",
       "      <td>Star Wars: Episode IV - A New Hope (1977)</td>\n",
       "    </tr>\n",
       "    <tr>\n",
       "      <th>1697</th>\n",
       "      <td>Adventure</td>\n",
       "      <td>Raiders of the Lost Ark (Indiana Jones and the...</td>\n",
       "    </tr>\n",
       "    <tr>\n",
       "      <th>0</th>\n",
       "      <td>Adventure</td>\n",
       "      <td>Toy Story (1995)</td>\n",
       "    </tr>\n",
       "    <tr>\n",
       "      <th>1</th>\n",
       "      <td>Animation</td>\n",
       "      <td>Toy Story (1995)</td>\n",
       "    </tr>\n",
       "    <tr>\n",
       "      <th>5483</th>\n",
       "      <td>Animation</td>\n",
       "      <td>Shrek (2001)</td>\n",
       "    </tr>\n",
       "    <tr>\n",
       "      <th>918</th>\n",
       "      <td>Animation</td>\n",
       "      <td>Aladdin (1992)</td>\n",
       "    </tr>\n",
       "    <tr>\n",
       "      <th>2</th>\n",
       "      <td>Children</td>\n",
       "      <td>Toy Story (1995)</td>\n",
       "    </tr>\n",
       "    <tr>\n",
       "      <th>1592</th>\n",
       "      <td>Children</td>\n",
       "      <td>E.T. the Extra-Terrestrial (1982)</td>\n",
       "    </tr>\n",
       "    <tr>\n",
       "      <th>5484</th>\n",
       "      <td>Children</td>\n",
       "      <td>Shrek (2001)</td>\n",
       "    </tr>\n",
       "    <tr>\n",
       "      <th>479</th>\n",
       "      <td>Comedy</td>\n",
       "      <td>Pulp Fiction (1994)</td>\n",
       "    </tr>\n",
       "    <tr>\n",
       "      <th>3</th>\n",
       "      <td>Comedy</td>\n",
       "      <td>Toy Story (1995)</td>\n",
       "    </tr>\n",
       "    <tr>\n",
       "      <th>960</th>\n",
       "      <td>Comedy</td>\n",
       "      <td>Fargo (1996)</td>\n",
       "    </tr>\n",
       "    <tr>\n",
       "      <th>480</th>\n",
       "      <td>Crime</td>\n",
       "      <td>Pulp Fiction (1994)</td>\n",
       "    </tr>\n",
       "    <tr>\n",
       "      <th>1230</th>\n",
       "      <td>Crime</td>\n",
       "      <td>Godfather, The (1972)</td>\n",
       "    </tr>\n",
       "    <tr>\n",
       "      <th>1577</th>\n",
       "      <td>Crime</td>\n",
       "      <td>Reservoir Dogs (1992)</td>\n",
       "    </tr>\n",
       "    <tr>\n",
       "      <th>6535</th>\n",
       "      <td>Documentary</td>\n",
       "      <td>Bowling for Columbine (2002)</td>\n",
       "    </tr>\n",
       "    <tr>\n",
       "      <th>8027</th>\n",
       "      <td>Documentary</td>\n",
       "      <td>Super Size Me (2004)</td>\n",
       "    </tr>\n",
       "    <tr>\n",
       "      <th>8090</th>\n",
       "      <td>Documentary</td>\n",
       "      <td>Fahrenheit 9/11 (2004)</td>\n",
       "    </tr>\n",
       "    <tr>\n",
       "      <th>481</th>\n",
       "      <td>Drama</td>\n",
       "      <td>Pulp Fiction (1994)</td>\n",
       "    </tr>\n",
       "    <tr>\n",
       "      <th>1231</th>\n",
       "      <td>Drama</td>\n",
       "      <td>Godfather, The (1972)</td>\n",
       "    </tr>\n",
       "    <tr>\n",
       "      <th>3987</th>\n",
       "      <td>Drama</td>\n",
       "      <td>Fight Club (1999)</td>\n",
       "    </tr>\n",
       "    <tr>\n",
       "      <th>4</th>\n",
       "      <td>Fantasy</td>\n",
       "      <td>Toy Story (1995)</td>\n",
       "    </tr>\n",
       "    <tr>\n",
       "      <th>1864</th>\n",
       "      <td>Fantasy</td>\n",
       "      <td>Groundhog Day (1993)</td>\n",
       "    </tr>\n",
       "    <tr>\n",
       "      <th>6035</th>\n",
       "      <td>Fantasy</td>\n",
       "      <td>Lord of the Rings: The Fellowship of the Ring,...</td>\n",
       "    </tr>\n",
       "    <tr>\n",
       "      <th>2315</th>\n",
       "      <td>Film-Noir</td>\n",
       "      <td>L.A. Confidential (1997)</td>\n",
       "    </tr>\n",
       "    <tr>\n",
       "      <th>1827</th>\n",
       "      <td>Film-Noir</td>\n",
       "      <td>Chinatown (1974)</td>\n",
       "    </tr>\n",
       "    <tr>\n",
       "      <th>5888</th>\n",
       "      <td>Film-Noir</td>\n",
       "      <td>Mulholland Drive (2001)</td>\n",
       "    </tr>\n",
       "    <tr>\n",
       "      <th>931</th>\n",
       "      <td>Horror</td>\n",
       "      <td>Silence of the Lambs, The (1991)</td>\n",
       "    </tr>\n",
       "    <tr>\n",
       "      <th>1734</th>\n",
       "      <td>Horror</td>\n",
       "      <td>Alien (1979)</td>\n",
       "    </tr>\n",
       "    <tr>\n",
       "      <th>3765</th>\n",
       "      <td>Horror</td>\n",
       "      <td>Sixth Sense, The (1999)</td>\n",
       "    </tr>\n",
       "    <tr>\n",
       "      <th>10926</th>\n",
       "      <td>IMAX</td>\n",
       "      <td>Inception (2010)</td>\n",
       "    </tr>\n",
       "    <tr>\n",
       "      <th>600</th>\n",
       "      <td>IMAX</td>\n",
       "      <td>Lion King, The (1994)</td>\n",
       "    </tr>\n",
       "    <tr>\n",
       "      <th>10006</th>\n",
       "      <td>IMAX</td>\n",
       "      <td>Dark Knight, The (2008)</td>\n",
       "    </tr>\n",
       "    <tr>\n",
       "      <th>921</th>\n",
       "      <td>Musical</td>\n",
       "      <td>Aladdin (1992)</td>\n",
       "    </tr>\n",
       "    <tr>\n",
       "      <th>1326</th>\n",
       "      <td>Musical</td>\n",
       "      <td>Wizard of Oz, The (1939)</td>\n",
       "    </tr>\n",
       "    <tr>\n",
       "      <th>1553</th>\n",
       "      <td>Musical</td>\n",
       "      <td>Willy Wonka &amp; the Chocolate Factory (1971)</td>\n",
       "    </tr>\n",
       "    <tr>\n",
       "      <th>1578</th>\n",
       "      <td>Mystery</td>\n",
       "      <td>Reservoir Dogs (1992)</td>\n",
       "    </tr>\n",
       "    <tr>\n",
       "      <th>97</th>\n",
       "      <td>Mystery</td>\n",
       "      <td>Seven (a.k.a. Se7en) (1995)</td>\n",
       "    </tr>\n",
       "    <tr>\n",
       "      <th>5406</th>\n",
       "      <td>Mystery</td>\n",
       "      <td>Memento (2000)</td>\n",
       "    </tr>\n",
       "    <tr>\n",
       "      <th>584</th>\n",
       "      <td>Romance</td>\n",
       "      <td>Forrest Gump (1994)</td>\n",
       "    </tr>\n",
       "    <tr>\n",
       "      <th>3851</th>\n",
       "      <td>Romance</td>\n",
       "      <td>American Beauty (1999)</td>\n",
       "    </tr>\n",
       "    <tr>\n",
       "      <th>1865</th>\n",
       "      <td>Romance</td>\n",
       "      <td>Groundhog Day (1993)</td>\n",
       "    </tr>\n",
       "    <tr>\n",
       "      <th>429</th>\n",
       "      <td>Sci-Fi</td>\n",
       "      <td>Star Wars: Episode IV - A New Hope (1977)</td>\n",
       "    </tr>\n",
       "    <tr>\n",
       "      <th>3543</th>\n",
       "      <td>Sci-Fi</td>\n",
       "      <td>Matrix, The (1999)</td>\n",
       "    </tr>\n",
       "    <tr>\n",
       "      <th>1725</th>\n",
       "      <td>Sci-Fi</td>\n",
       "      <td>Star Wars: Episode VI - Return of the Jedi (1983)</td>\n",
       "    </tr>\n",
       "    <tr>\n",
       "      <th>482</th>\n",
       "      <td>Thriller</td>\n",
       "      <td>Pulp Fiction (1994)</td>\n",
       "    </tr>\n",
       "    <tr>\n",
       "      <th>3544</th>\n",
       "      <td>Thriller</td>\n",
       "      <td>Matrix, The (1999)</td>\n",
       "    </tr>\n",
       "    <tr>\n",
       "      <th>1579</th>\n",
       "      <td>Thriller</td>\n",
       "      <td>Reservoir Dogs (1992)</td>\n",
       "    </tr>\n",
       "    <tr>\n",
       "      <th>585</th>\n",
       "      <td>War</td>\n",
       "      <td>Forrest Gump (1994)</td>\n",
       "    </tr>\n",
       "    <tr>\n",
       "      <th>2795</th>\n",
       "      <td>War</td>\n",
       "      <td>Saving Private Ryan (1998)</td>\n",
       "    </tr>\n",
       "    <tr>\n",
       "      <th>1719</th>\n",
       "      <td>War</td>\n",
       "      <td>Apocalypse Now (1979)</td>\n",
       "    </tr>\n",
       "    <tr>\n",
       "      <th>1706</th>\n",
       "      <td>Western</td>\n",
       "      <td>Good, the Bad and the Ugly, The (Buono, il bru...</td>\n",
       "    </tr>\n",
       "    <tr>\n",
       "      <th>1867</th>\n",
       "      <td>Western</td>\n",
       "      <td>Unforgiven (1992)</td>\n",
       "    </tr>\n",
       "    <tr>\n",
       "      <th>4820</th>\n",
       "      <td>Western</td>\n",
       "      <td>Blazing Saddles (1974)</td>\n",
       "    </tr>\n",
       "  </tbody>\n",
       "</table>\n",
       "</div>"
      ],
      "text/plain": [
       "             genres_split                                              title\n",
       "13291  (no genres listed)                                             The OA\n",
       "13370  (no genres listed)                  T2 3-D: Battle Across Time (1996)\n",
       "13358  (no genres listed)                                             Cosmos\n",
       "427                Action          Star Wars: Episode IV - A New Hope (1977)\n",
       "3542               Action                                 Matrix, The (1999)\n",
       "1696               Action  Raiders of the Lost Ark (Indiana Jones and the...\n",
       "428             Adventure          Star Wars: Episode IV - A New Hope (1977)\n",
       "1697            Adventure  Raiders of the Lost Ark (Indiana Jones and the...\n",
       "0               Adventure                                   Toy Story (1995)\n",
       "1               Animation                                   Toy Story (1995)\n",
       "5483            Animation                                       Shrek (2001)\n",
       "918             Animation                                     Aladdin (1992)\n",
       "2                Children                                   Toy Story (1995)\n",
       "1592             Children                  E.T. the Extra-Terrestrial (1982)\n",
       "5484             Children                                       Shrek (2001)\n",
       "479                Comedy                                Pulp Fiction (1994)\n",
       "3                  Comedy                                   Toy Story (1995)\n",
       "960                Comedy                                       Fargo (1996)\n",
       "480                 Crime                                Pulp Fiction (1994)\n",
       "1230                Crime                              Godfather, The (1972)\n",
       "1577                Crime                              Reservoir Dogs (1992)\n",
       "6535          Documentary                       Bowling for Columbine (2002)\n",
       "8027          Documentary                               Super Size Me (2004)\n",
       "8090          Documentary                             Fahrenheit 9/11 (2004)\n",
       "481                 Drama                                Pulp Fiction (1994)\n",
       "1231                Drama                              Godfather, The (1972)\n",
       "3987                Drama                                  Fight Club (1999)\n",
       "4                 Fantasy                                   Toy Story (1995)\n",
       "1864              Fantasy                               Groundhog Day (1993)\n",
       "6035              Fantasy  Lord of the Rings: The Fellowship of the Ring,...\n",
       "2315            Film-Noir                           L.A. Confidential (1997)\n",
       "1827            Film-Noir                                   Chinatown (1974)\n",
       "5888            Film-Noir                            Mulholland Drive (2001)\n",
       "931                Horror                   Silence of the Lambs, The (1991)\n",
       "1734               Horror                                       Alien (1979)\n",
       "3765               Horror                            Sixth Sense, The (1999)\n",
       "10926                IMAX                                   Inception (2010)\n",
       "600                  IMAX                              Lion King, The (1994)\n",
       "10006                IMAX                            Dark Knight, The (2008)\n",
       "921               Musical                                     Aladdin (1992)\n",
       "1326              Musical                           Wizard of Oz, The (1939)\n",
       "1553              Musical         Willy Wonka & the Chocolate Factory (1971)\n",
       "1578              Mystery                              Reservoir Dogs (1992)\n",
       "97                Mystery                        Seven (a.k.a. Se7en) (1995)\n",
       "5406              Mystery                                     Memento (2000)\n",
       "584               Romance                                Forrest Gump (1994)\n",
       "3851              Romance                             American Beauty (1999)\n",
       "1865              Romance                               Groundhog Day (1993)\n",
       "429                Sci-Fi          Star Wars: Episode IV - A New Hope (1977)\n",
       "3543               Sci-Fi                                 Matrix, The (1999)\n",
       "1725               Sci-Fi  Star Wars: Episode VI - Return of the Jedi (1983)\n",
       "482              Thriller                                Pulp Fiction (1994)\n",
       "3544             Thriller                                 Matrix, The (1999)\n",
       "1579             Thriller                              Reservoir Dogs (1992)\n",
       "585                   War                                Forrest Gump (1994)\n",
       "2795                  War                         Saving Private Ryan (1998)\n",
       "1719                  War                              Apocalypse Now (1979)\n",
       "1706              Western  Good, the Bad and the Ugly, The (Buono, il bru...\n",
       "1867              Western                                  Unforgiven (1992)\n",
       "4820              Western                             Blazing Saddles (1974)"
      ]
     },
     "execution_count": 189,
     "metadata": {},
     "output_type": "execute_result"
    }
   ],
   "source": [
    "genre_unique = np.unique(movies_genres_df['genres_split'] )\n",
    "\n",
    "genre_vs_degree_top = pd.DataFrame({'genres_split' : [],'degree':[],'count':[]})\n",
    "\n",
    "for g in genre_unique:\n",
    "    res = movies_genres_df[movies_genres_df['genres_split'] == g].sort_values(by=['degree'],ascending=False).head(3)\n",
    "    genre_vs_degree_top = pd.concat([genre_vs_degree_top,res])\n",
    "    \n",
    "genre_vs_degree_top[['genres_split','title']]"
   ]
  },
  {
   "cell_type": "markdown",
   "id": "e64605fb",
   "metadata": {},
   "source": [
    "#### Highest Average Rating Nodes"
   ]
  },
  {
   "cell_type": "code",
   "execution_count": 28,
   "id": "133cda71",
   "metadata": {
    "scrolled": true
   },
   "outputs": [
    {
     "name": "stdout",
     "output_type": "stream",
     "text": [
      "Title                                          Rating      Degree\n",
      "---------------------------------------------  --------  --------\n",
      "Tom and Huck (1995)                            [5.0]            1\n",
      "Now and Then (1995)                            [5.0]            1\n",
      "Cry, the Beloved Country (1995)                [5.0]            1\n",
      "Lamerica (1994)                                [5.0]            1\n",
      "Home for the Holidays (1995)                   [5.0]            1\n",
      "Angels and Insects (1995)                      [5.0]            1\n",
      "Heidi Fleiss: Hollywood Madam (1995)           [5.0]            1\n",
      "Anne Frank Remembered (1995)                   [5.0]            1\n",
      "Chungking Express (Chung Hing sam lam) (1994)  [5.0]            1\n",
      "Awfully Big Adventure, An (1995)               [5.0]            1\n"
     ]
    }
   ],
   "source": [
    "movies_avg_rating_dict = movies_avg_rating.set_index('movieId').T.to_dict('list')\n",
    "\n",
    "movie_deg_counter = Counter(movies_avg_rating_dict)\n",
    "\n",
    "\n",
    "movie_rating_deg = []\n",
    "for k, v in movie_deg_counter.most_common(10):\n",
    "    \n",
    "    title = str(movies[movies['movieId']==k]['title'].values[0])\n",
    "    deg = G.degree(n)\n",
    "    \n",
    "    movie_rating_deg.append([title,v,deg])\n",
    "\n",
    "print(tabulate(movie_rating_deg, headers=['Title', 'Rating','Degree']))"
   ]
  },
  {
   "cell_type": "markdown",
   "id": "02dad629",
   "metadata": {},
   "source": [
    "We can see that the highest rated movies are those with the lowest degree. That is because if a movie is famous and a lot of people have seen it, then it would definitely have some lower ratings as well and these ratings would diminish the overal degree."
   ]
  },
  {
   "cell_type": "code",
   "execution_count": 195,
   "id": "e7f90a10",
   "metadata": {},
   "outputs": [
    {
     "name": "stdout",
     "output_type": "stream",
     "text": [
      "0.05106013969249014\n"
     ]
    }
   ],
   "source": [
    "corr_deg_rat = np.corrcoef(movies['degree'],movies['average_rating'])[0,1]\n",
    "\n",
    "print(corr_deg_rat)"
   ]
  },
  {
   "cell_type": "markdown",
   "id": "deb8bed3",
   "metadata": {},
   "source": [
    "Here we can see that there is no relation between rating and degree"
   ]
  },
  {
   "cell_type": "markdown",
   "id": "f981826f",
   "metadata": {},
   "source": [
    "#### Year VS Degree & Rating"
   ]
  },
  {
   "cell_type": "markdown",
   "id": "0bd582ab",
   "metadata": {},
   "source": [
    "It is interesting to see the trends of the degrees and rating over time."
   ]
  },
  {
   "cell_type": "code",
   "execution_count": 34,
   "id": "65dbebc8",
   "metadata": {
    "scrolled": true
   },
   "outputs": [
    {
     "data": {
      "image/png": "[encoded data removed]",
      "text/plain": [
       "<Figure size 1440x360 with 2 Axes>"
      ]
     },
     "metadata": {
      "needs_background": "light"
     },
     "output_type": "display_data"
    }
   ],
   "source": [
    "year_vs_deg = movies.groupby('year')['degree'].mean().reset_index()\n",
    "year_vs_deg = year_vs_deg[ year_vs_deg['year'] != 0 ]\n",
    "\n",
    "fig = plt.figure(figsize = (20, 5))\n",
    "\n",
    "plt.subplot(121)\n",
    "\n",
    "plt.plot(year_vs_deg['year'],year_vs_deg['degree'],'-o', color = 'darkviolet')\n",
    "#plt.xticks(rotation=90)\n",
    "plt.title(\"Average Degree Through Years\", fontweight='bold')\n",
    "plt.ylabel(\"Average Degree\", fontweight='bold')\n",
    "plt.xlabel(\"Year\", fontweight='bold')\n",
    "\n",
    "plt.subplot(122)\n",
    "\n",
    "year_vs_deg = movies.groupby('year')['average_rating'].mean().reset_index()\n",
    "year_vs_deg = year_vs_deg[ year_vs_deg['year'] != 0 ]\n",
    "\n",
    "plt.plot(year_vs_deg['year'],year_vs_deg['average_rating'],'-o', color = 'orangered')\n",
    "#plt.xticks(rotation=90)\n",
    "plt.title(\"Average Rating Through Years\", fontweight='bold')\n",
    "plt.ylabel(\"Average Rating\", fontweight='bold')\n",
    "plt.xlabel(\"Year\", fontweight='bold')\n",
    "plt.show()"
   ]
  },
  {
   "cell_type": "markdown",
   "id": "58cd85b2",
   "metadata": {},
   "source": [
    "#### Genres vs Degree"
   ]
  },
  {
   "cell_type": "markdown",
   "id": "3b438c3e",
   "metadata": {},
   "source": [
    "And here we can compare different genres based on the average degree. We can see that movies with no genre and the genre 'Documentary' have the elast average degree."
   ]
  },
  {
   "cell_type": "code",
   "execution_count": 35,
   "id": "89a65032",
   "metadata": {},
   "outputs": [
    {
     "data": {
      "image/png": "[encoded data removed]",
      "text/plain": [
       "<Figure size 1080x360 with 1 Axes>"
      ]
     },
     "metadata": {
      "needs_background": "light"
     },
     "output_type": "display_data"
    }
   ],
   "source": [
    "genre_vs_deg = movies_genres_df.groupby('genres_split')['degree'].mean().reset_index()\n",
    "    \n",
    "\n",
    "fig, ax = plt.subplots(figsize=(15, 5))\n",
    "\n",
    "\n",
    "# Save the chart so we can loop through the bars below.\n",
    "bars = ax.bar(\n",
    "    x=genre_vs_deg['genres_split'],\n",
    "    height=genre_vs_deg['degree'],\n",
    "    edgecolor='black',\n",
    "    color='lightgreen'\n",
    ")\n",
    "\n",
    "# Axis formatting.\n",
    "ax.spines['top'].set_visible(False)\n",
    "ax.spines['right'].set_visible(False)\n",
    "ax.spines['left'].set_visible(False)\n",
    "ax.spines['bottom'].set_color('#DDDDDD')\n",
    "ax.tick_params(bottom=False, left=False)\n",
    "ax.set_axisbelow(True)\n",
    "ax.yaxis.grid(True, color='#EEEEEE')\n",
    "ax.xaxis.grid(False)\n",
    "\n",
    "# Grab the color of the bars so we can make the\n",
    "# text the same color.\n",
    "bar_color = bars[0].get_facecolor()\n",
    "\n",
    "# Add text annotations to the top of the bars.\n",
    "# Note, you'll have to adjust this slightly (the 0.3)\n",
    "# with different data.\n",
    "for bar in bars:\n",
    "  ax.text(\n",
    "      bar.get_x() + bar.get_width() / 2,\n",
    "      bar.get_height() + 10,\n",
    "      round(bar.get_height(), 1),\n",
    "      horizontalalignment='center',\n",
    "      color='black',\n",
    "      weight='bold'\n",
    "  )\n",
    "\n",
    "ax.tick_params(axis='x', rotation=90,labelsize=8)\n",
    "ax.set_title(\"Average Degree of Genres\", fontweight='bold')\n",
    "ax.set_ylabel(\"Degree\", fontweight='bold')\n",
    "ax.set_xlabel(\"Genres\", fontweight='bold')\n",
    "plt.show()\n"
   ]
  },
  {
   "cell_type": "markdown",
   "id": "ee7d79bf",
   "metadata": {},
   "source": [
    "### Genre vs Runtime"
   ]
  },
  {
   "cell_type": "markdown",
   "id": "99eb3e3f",
   "metadata": {},
   "source": [
    "Comparing genres based on the duration of the movie."
   ]
  },
  {
   "cell_type": "code",
   "execution_count": 36,
   "id": "3d11f8fe",
   "metadata": {},
   "outputs": [
    {
     "data": {
      "image/png": "[encoded data removed]",
      "text/plain": [
       "<Figure size 1080x576 with 1 Axes>"
      ]
     },
     "metadata": {
      "needs_background": "light"
     },
     "output_type": "display_data"
    }
   ],
   "source": [
    "props = dict(boxes=\"lightcoral\", whiskers=\"darkorange\", medians=\"black\", caps=\"black\")\n",
    "axes = movies_genres_df.plot.box(column='Runtime',by='genres_split',figsize=(15,8), rot=90,showfliers=False,color=props, patch_artist=True)\n",
    "plt.grid(True)\n",
    "plt.title('Runtime Per Genre', fontweight='bold')\n",
    "plt.xlabel(\"Genres\", fontweight='bold')\n",
    "plt.ylabel(\"Runtime\", fontweight='bold')\n",
    "plt.show()\n"
   ]
  },
  {
   "cell_type": "markdown",
   "id": "b08a7408",
   "metadata": {},
   "source": [
    "### Genre vs Country"
   ]
  },
  {
   "cell_type": "markdown",
   "id": "d1862451",
   "metadata": {},
   "source": [
    "Here we wanted to find the most movie making countries in each genre. As we can guess some famous countries are repeated in all different genres but there are some surprises for some genres. For instance we can see 'Argentina' is among the important countries in the genre 'IMAX' ."
   ]
  },
  {
   "cell_type": "code",
   "execution_count": 38,
   "id": "7b45346e",
   "metadata": {},
   "outputs": [],
   "source": [
    "genre_vs_country = movies_genres_df.groupby(['genres_split','Country']).count().reset_index()\n",
    "genre_vs_country = genre_vs_country[['genres_split','Country','title']]\n",
    "genre_vs_country.columns = ['genres_split','Country','count']"
   ]
  },
  {
   "cell_type": "code",
   "execution_count": 39,
   "id": "2c846b6f",
   "metadata": {},
   "outputs": [],
   "source": [
    "genre_unique = np.unique(genre_vs_country['genres_split'] )\n",
    "\n",
    "genre_vs_country_top = pd.DataFrame({'genres_split' : [],'Country':[],'count':[]})\n",
    "\n",
    "for g in genre_unique:\n",
    "    res = genre_vs_country[genre_vs_country['genres_split'] == g].sort_values(by=['count'],ascending=False).head(5)\n",
    "    genre_vs_country_top = pd.concat([genre_vs_country_top,res])\n",
    "    \n",
    "    \n",
    "Country_list = list(np.unique(genre_vs_country_top['Country']))\n",
    "genre_list = list(np.unique(genre_vs_country_top['genres_split']))"
   ]
  },
  {
   "cell_type": "code",
   "execution_count": 40,
   "id": "3296abed",
   "metadata": {},
   "outputs": [],
   "source": [
    "Country_dict ={}\n",
    "i=0\n",
    "for c in Country_list:\n",
    "    Country_dict[c] = i\n",
    "    i += 1\n",
    "    \n",
    "#-------------------------\n",
    "\n",
    "genre_dict ={}\n",
    "i=0\n",
    "for g in genre_list:\n",
    "    genre_dict[g] = i\n",
    "    i += 1\n",
    "    "
   ]
  },
  {
   "cell_type": "code",
   "execution_count": 41,
   "id": "ebff4ddd",
   "metadata": {},
   "outputs": [],
   "source": [
    "country_top_num = genre_vs_country_top['Country'].replace(Country_dict)\n",
    "genre_top_num = genre_vs_country_top['genres_split'].replace(genre_dict)\n",
    "\n",
    "genre_vs_country_top_num = pd.concat([genre_top_num,country_top_num],axis=1)\n",
    "\n",
    "xticks_genre = [i for i in range(len(genre_list))]\n",
    "xticks_Country = [i for i in range(len(Country_list))]"
   ]
  },
  {
   "cell_type": "code",
   "execution_count": 42,
   "id": "09a044a9",
   "metadata": {},
   "outputs": [
    {
     "data": {
      "image/png": "[encoded data removed]",
      "text/plain": [
       "<Figure size 720x360 with 1 Axes>"
      ]
     },
     "metadata": {
      "needs_background": "light"
     },
     "output_type": "display_data"
    }
   ],
   "source": [
    "fig = plt.figure(figsize = (10, 5))\n",
    "\n",
    "plt.scatter(genre_vs_country_top_num[\"genres_split\"],\n",
    "            genre_vs_country_top_num[\"Country\"],s=genre_vs_country_top['count']*0.45,c='teal')\n",
    "\n",
    "plt.xticks(xticks_genre, genre_list, rotation=90) \n",
    "plt.yticks(xticks_Country, Country_list)\n",
    "plt.title('Highest Movie Making Countries For Each Genre', fontweight='bold')\n",
    "plt.xlabel(\"Genres\", fontweight='bold')\n",
    "plt.ylabel(\"Countries\", fontweight='bold')\n",
    "\n",
    "plt.grid()\n"
   ]
  },
  {
   "cell_type": "markdown",
   "id": "eef93064",
   "metadata": {},
   "source": [
    "#### Edges Between the Genres"
   ]
  },
  {
   "cell_type": "markdown",
   "id": "c92b0fbd",
   "metadata": {},
   "source": [
    "We wanted to find which pair of genres have the most between edges. Here we can see that there are a lot of 'Comedy' movies which are connected to 'Drama' movies and this pair has the highest number of edges."
   ]
  },
  {
   "cell_type": "code",
   "execution_count": 47,
   "id": "a2fd5d73",
   "metadata": {},
   "outputs": [],
   "source": [
    "edges_between_genres = []\n",
    "for e in G.edges():\n",
    "    g0 = movies_genres_df[movies_genres_df['movieId']== e[0] ]['genres_split'].tolist()\n",
    "    g1 = movies_genres_df[movies_genres_df['movieId']== e[1] ]['genres_split'].tolist()  \n",
    "    \n",
    "    if set(g0) & set(g1) == set():\n",
    "        for i in g0:\n",
    "            for j in g1:\n",
    "                edges_between_genres.append((i,j))\n",
    "                edges_between_genres.append((j,i))\n",
    "                \n",
    "from collections import Counter\n",
    "count_edges_between_genres  = Counter(edges_between_genres)       "
   ]
  },
  {
   "cell_type": "code",
   "execution_count": 57,
   "id": "7acb00cc",
   "metadata": {},
   "outputs": [
    {
     "data": {
      "text/plain": [
       "[(('Comedy', 'Drama'), 211356),\n",
       " (('Drama', 'Comedy'), 211356),\n",
       " (('Action', 'Drama'), 126949),\n",
       " (('Drama', 'Action'), 126949),\n",
       " (('Comedy', 'Thriller'), 126598),\n",
       " (('Thriller', 'Comedy'), 126598),\n",
       " (('Adventure', 'Drama'), 113753),\n",
       " (('Drama', 'Adventure'), 113753),\n",
       " (('Comedy', 'Action'), 110816),\n",
       " (('Action', 'Comedy'), 110816)]"
      ]
     },
     "execution_count": 57,
     "metadata": {},
     "output_type": "execute_result"
    }
   ],
   "source": [
    "count_edges_between_genres.most_common(10)"
   ]
  },
  {
   "cell_type": "markdown",
   "id": "66f454f2",
   "metadata": {},
   "source": [
    "#### Similar Genres"
   ]
  },
  {
   "cell_type": "markdown",
   "id": "3a1686e4",
   "metadata": {},
   "source": [
    "As we know our movies can have multiple genres. So a movie can be 'Drama' and 'War'. Here we found the most repeated ones and we can see 'Drama' and 'Comedy' as the first pair followed by the pair 'Drama' and 'Romance'"
   ]
  },
  {
   "cell_type": "code",
   "execution_count": 74,
   "id": "35814b5e",
   "metadata": {},
   "outputs": [],
   "source": [
    "genres_together = []\n",
    "for index, row in movies.iterrows():\n",
    "    for i in row['genres_split']:\n",
    "        for j in row['genres_split']:\n",
    "            if i != j:\n",
    "                genres_together.append((i,j))\n",
    "                genres_together.append((j,i))\n",
    "            \n",
    "            \n",
    "count_genres_together  = Counter(genres_together)"
   ]
  },
  {
   "cell_type": "code",
   "execution_count": 75,
   "id": "06c3fbc9",
   "metadata": {},
   "outputs": [
    {
     "data": {
      "text/plain": [
       "[(('Comedy', 'Drama'), 1304),\n",
       " (('Drama', 'Comedy'), 1304),\n",
       " (('Drama', 'Romance'), 1296),\n",
       " (('Romance', 'Drama'), 1296),\n",
       " (('Comedy', 'Romance'), 1076),\n",
       " (('Romance', 'Comedy'), 1076),\n",
       " (('Drama', 'Thriller'), 1062),\n",
       " (('Thriller', 'Drama'), 1062),\n",
       " (('Action', 'Thriller'), 866),\n",
       " (('Thriller', 'Action'), 866)]"
      ]
     },
     "execution_count": 75,
     "metadata": {},
     "output_type": "execute_result"
    }
   ],
   "source": [
    "count_genres_together.most_common(10)"
   ]
  },
  {
   "cell_type": "markdown",
   "id": "4d60a06a",
   "metadata": {},
   "source": [
    "# 3. Community Detection"
   ]
  },
  {
   "cell_type": "markdown",
   "id": "0debe88f",
   "metadata": {},
   "source": [
    "We have created the the communities by using Louvain method from Networkx package."
   ]
  },
  {
   "cell_type": "code",
   "execution_count": 7,
   "id": "1bc755fa",
   "metadata": {},
   "outputs": [],
   "source": [
    "lemmatizer = WordNetLemmatizer()\n",
    "tokenizer = RegexpTokenizer(r'\\w+')"
   ]
  },
  {
   "cell_type": "markdown",
   "id": "66b328e7",
   "metadata": {},
   "source": [
    "The code for giving only one genres for every movies. And set genres as node attribute."
   ]
  },
  {
   "cell_type": "code",
   "execution_count": 8,
   "id": "be11d765",
   "metadata": {},
   "outputs": [],
   "source": [
    "def first(x):\n",
    "    y=x[0]\n",
    "    return y \n",
    "\n",
    "\n",
    "movies1=movies.reset_index()\n",
    "movies1['genres_first']=[first(x) for x in movies1.genres_split]\n",
    "\n",
    "codes, uniques = pd.factorize(movies1.genres_first)\n",
    "movies2=pd.DataFrame([codes,movies1.movieId]).T.rename(columns={0: \"genre\", 1: \"movieId\"})\n",
    "\n",
    "nodes_attr = movies2.set_index('movieId').to_dict(orient = 'index')\n",
    "nx.set_node_attributes(G, nodes_attr)"
   ]
  },
  {
   "cell_type": "markdown",
   "id": "9f35f4ed",
   "metadata": {},
   "source": [
    "## TF-IDF on Tags"
   ]
  },
  {
   "cell_type": "code",
   "execution_count": 9,
   "id": "85ae9362",
   "metadata": {},
   "outputs": [
    {
     "data": {
      "image/png": "[encoded data removed]",
      "text/plain": [
       "<Figure size 432x288 with 1 Axes>"
      ]
     },
     "metadata": {},
     "output_type": "display_data"
    },
    {
     "name": "stdout",
     "output_type": "stream",
     "text": [
      "Modularity: 0.2076256643731186\n",
      "Number of communities in Film-network: 8\n",
      "Community number 0 has 1200 nodes\n",
      "Community number 1 has 1100 nodes\n",
      "Community number 2 has 690 nodes\n",
      "Community number 3 has 1987 nodes\n",
      "Community number 4 has 476 nodes\n",
      "Community number 5 has 150 nodes\n",
      "Community number 6 has 25 nodes\n",
      "Community number 7 has 132 nodes\n"
     ]
    }
   ],
   "source": [
    "## Finding communities with the Python Louvain-algorithm\n",
    "# First compute the best partition\n",
    "\n",
    "partition = community_louvain.best_partition(G)\n",
    "# Drawing DC-network with communities\n",
    "size = float(len(set(partition.values())))\n",
    "pos = nx.spring_layout(G)\n",
    "count = 0.\n",
    "for com in set(partition.values()) :\n",
    "    count = count + 1.\n",
    "    list_nodes = [nodes for nodes in partition.keys()\n",
    "                                if partition[nodes] == com]\n",
    "    nx.draw_networkx_nodes(G, pos, list_nodes, node_size = 20,\n",
    "                                node_color = str(count / size))\n",
    "nx.draw_networkx_edges(G,pos, alpha=0.5)\n",
    "plt.show()\n",
    "\n",
    "## Defining nodes for each community\n",
    "Films = []\n",
    "for i in range(len(np.unique(list(partition.values())))): \n",
    "    i_com = []\n",
    "    for j in range(len(list(partition.values()))):\n",
    "        if list(partition.values())[j] == i:\n",
    "            i_com.append(list(partition.keys())[j])\n",
    "    Films.append(i_com)\n",
    "\n",
    "## Modularity\n",
    "print(\"Modularity:\", nx_comm.modularity(G, Films))\n",
    "\n",
    "## Number and size of communities\n",
    "N_com = len(set(partition.values()))\n",
    "print(\"Number of communities in Film-network:\", N_com)\n",
    "for i in range(N_com):\n",
    "    res = 0\n",
    "    for k in partition:\n",
    "        if partition[k] == i:\n",
    "            res += 1\n",
    "    print(\"Community number\", i, \"has\", res, \"nodes\")"
   ]
  },
  {
   "cell_type": "markdown",
   "id": "ff56dd59",
   "metadata": {},
   "source": [
    "First we have created the TF-IDFs for the tags words."
   ]
  },
  {
   "cell_type": "code",
   "execution_count": 10,
   "id": "9b3ddd9d",
   "metadata": {},
   "outputs": [
    {
     "name": "stdout",
     "output_type": "stream",
     "text": [
      "TF-IDF words for community: 0\n",
      "{'boxing': 4131.850343317834, 'story': 4131.850343317834}\n",
      "TF-IDF words for community: 1\n",
      "{'funny': 2495.329850015803}\n",
      "TF-IDF words for community: 2\n",
      "{'highly': 2287.3856958478195, 'quotable': 2287.3856958478195}\n",
      "TF-IDF words for community: 3\n",
      "{'will': 1434.8146637590867, 'ferrell': 1434.8146637590867}\n",
      "TF-IDF words for community: 4\n",
      "{'mma': 989.8141738396018}\n",
      "TF-IDF words for community: 5\n",
      "{'tom': 311.9162312519754, 'hardy': 311.9162312519754}\n",
      "TF-IDF words for community: 6\n",
      "{'leonardo': 274.48628350173834, 'dicaprio': 274.48628350173834}\n",
      "TF-IDF words for community: 7\n",
      "{'drug': 51.986038541995896}\n"
     ]
    }
   ],
   "source": [
    "com_size = []\n",
    "for i in range(len(Films)):\n",
    "    com_size.append(len(Films[i]))\n",
    "# Getting index for the 10 largest communities\n",
    "com_index = sorted(range(len(com_size)), key=lambda i: -com_size[i])\n",
    "## Getting all text from each community\n",
    "dc_com_tokens = []\n",
    "for c_ind in com_index:\n",
    "    com_i_tokens = []\n",
    "    for i in range(len(Films[c_ind])):\n",
    "        com_i_tokens.extend(tokenizer.tokenize(tags.tag[c_ind])) \n",
    "    com_i_tokens = [w.lower() for w in com_i_tokens]\n",
    "    com_i_tokens = [lemmatizer.lemmatize(w) for w in com_i_tokens]\n",
    "    dc_com_tokens.append(com_i_tokens)\n",
    "\n",
    "## Calculating TF list for each community\n",
    "TF_com_list = []\n",
    "for i in range(len(dc_com_tokens)):\n",
    "    fdist = FreqDist(dc_com_tokens[i])\n",
    "    TF_com_list.append(fdist)\n",
    "    #print(f\"Top 5 words for community: {i}\")\n",
    "    #print(fdist.most_common(5))\n",
    "\n",
    "## Calculating IDF for all words in all lists\n",
    "# Total documents\n",
    "N = len(dc_com_tokens)\n",
    "# All unique words\n",
    "unique_words = list(set(dc_com_tokens[0]))\n",
    "for i in range(1,N):\n",
    "    com_i_u_w = set(dc_com_tokens[i])\n",
    "    unique_words.extend(list(com_i_u_w))\n",
    "IDF_dict = dict()\n",
    "for word in unique_words:\n",
    "    nd = 0\n",
    "    for i in range(N):\n",
    "        if word in dc_com_tokens[i]:\n",
    "            nd += 1\n",
    "    IDF_dict[word] = np.log(N/nd)\n",
    "\n",
    "## Calculating TF-IDF\n",
    "w = 1000\n",
    "c = 0\n",
    "TF_IDF_all_com = []\n",
    "for c in range(N):\n",
    "    TF_IDF = dict()\n",
    "    for w in range(len(list(TF_com_list[c].keys()))):\n",
    "        tf_idf = TF_com_list[c][list(TF_com_list[c].keys())[w]]*IDF_dict[list(TF_com_list[c].keys())[w]]\n",
    "        TF_IDF[list(TF_com_list[c].keys())[w]] = tf_idf\n",
    "    TF_IDF_all_com.append(TF_IDF)\n",
    "\n",
    "## Printing top 10 TF-IDF words for each community \n",
    "for c in range(N):\n",
    "    print(f\"TF-IDF words for community: {c}\")\n",
    "    print(dict(sorted(TF_IDF_all_com[c].items(), key=lambda item: -item[1])))"
   ]
  },
  {
   "cell_type": "markdown",
   "id": "e755a888",
   "metadata": {},
   "source": [
    "## TF-IDF on Storyline"
   ]
  },
  {
   "cell_type": "markdown",
   "id": "cc2b6faf",
   "metadata": {},
   "source": [
    "The code giving the result when we created the TF-IDFs for the storylines, which was given in movie final csv."
   ]
  },
  {
   "cell_type": "code",
   "execution_count": 12,
   "id": "4034c2cd",
   "metadata": {},
   "outputs": [],
   "source": [
    "#final_movie=pd.read_csv('movies_final.csv')\n",
    "final_movie = pd.read_csv('D:\\DTU\\Large Files\\Social Graphs\\Project\\ml-latest-small\\\\movies_final.csv')"
   ]
  },
  {
   "cell_type": "code",
   "execution_count": 14,
   "id": "af22490c",
   "metadata": {},
   "outputs": [
    {
     "name": "stdout",
     "output_type": "stream",
     "text": [
      "TF-IDF words for community: 0\n",
      "{'with': 8263.700686635668, 'his': 5509.133791090445, 'george': 4131.850343317834, 'bank': 4131.850343317834, 'must': 4131.850343317834, 'deal': 4131.850343317834, 'daughter': 4131.850343317834, 'pregnancy': 4131.850343317834, 'also': 4131.850343317834, 'wife': 4131.850343317834, 's': 3897.8154514686, 'not': 2754.5668955452225, 'only': 2754.5668955452225, 'but': 2754.5668955452225}\n",
      "TF-IDF words for community: 1\n",
      "{'cowboy': 2495.329850015803, 'doll': 2495.329850015803, 'is': 2495.329850015803, 'profoundly': 2495.329850015803, 'threatened': 2495.329850015803, 'jealous': 2495.329850015803, 'spaceman': 2495.329850015803, 'action': 2495.329850015803, 'figure': 2495.329850015803, 'supplants': 2495.329850015803, 'him': 2495.329850015803, 'top': 2495.329850015803, 'toy': 2495.329850015803, 'boy': 2495.329850015803, 'bedroom': 2495.329850015803, 'new': 1663.5532333438687, 'when': 1176.9951036140715, 'in': 1176.9951036140715, 's': 1176.9951036140715, 'a': 640.9506845977083, 'and': 564.0043550948827}\n",
      "TF-IDF words for community: 2\n",
      "{'game': 3049.8475944637594, 'kid': 2287.3856958478195, 'find': 2287.3856958478195, 'play': 2287.3856958478195, 'magical': 2287.3856958478195, 'board': 2287.3856958478195, 'release': 2287.3856958478195, 'trapped': 2287.3856958478195, 'decade': 2287.3856958478195, 'host': 2287.3856958478195, 'danger': 2287.3856958478195, 'that': 2287.3856958478195, 'can': 2287.3856958478195, 'be': 2287.3856958478195, 'stopped': 2287.3856958478195, 'by': 2287.3856958478195, 'finishing': 2287.3856958478195, 'two': 1524.9237972318797, 'they': 1524.9237972318797, 'man': 1524.9237972318797, 'for': 1524.9237972318797, 'only': 1524.9237972318797, 'when': 1078.9121783128987, 'in': 1078.9121783128987, 'it': 1078.9121783128987, 'and': 1034.0079843406183, 'of': 762.4618986159398, 'the': 762.4618986159398, 'a': 440.6535956609245}\n",
      "TF-IDF words for community: 3\n",
      "{'max': 2869.6293275181733, 'john': 1434.8146637590867, 'resolve': 1434.8146637590867, 'save': 1434.8146637590867, 'beloved': 1434.8146637590867, 'bait': 1434.8146637590867, 'shop': 1434.8146637590867, 'turning': 1434.8146637590867, 'into': 1434.8146637590867, 'italian': 1434.8146637590867, 'restaurant': 1434.8146637590867, 'just': 1434.8146637590867, 'female': 1434.8146637590867, 'owner': 1434.8146637590867, 'catch': 1434.8146637590867, 'attention': 1434.8146637590867, 'their': 956.5431091727245, 'from': 956.5431091727245, 'an': 956.5431091727245, 'new': 956.5431091727245, 'it': 676.772184578091, 's': 676.772184578091, 'to': 478.27155458636224, 'and': 324.30250417955756, 'a': 92.13666091092057}\n",
      "TF-IDF words for community: 4\n",
      "{'high': 989.8141738396018, 'end': 989.8141738396018, 'professional': 989.8141738396018, 'thief': 989.8141738396018, 'start': 989.8141738396018, 'feel': 989.8141738396018, 'heat': 989.8141738396018, 'lapd': 989.8141738396018, 'unknowingly': 989.8141738396018, 'leave': 989.8141738396018, 'clue': 989.8141738396018, 'at': 989.8141738396018, 'latest': 989.8141738396018, 'heist': 989.8141738396018, 'group': 659.8761158930679, 'the': 659.8761158930679, 'from': 659.8761158930679, 'they': 659.8761158930679, 'their': 659.8761158930679, 'when': 466.87472443358166, 'of': 329.93805794653395, 'to': 329.93805794653395, 'a': 127.12188577854549}\n",
      "TF-IDF words for community: 5\n",
      "{'ugly': 311.9162312519754, 'duckling': 311.9162312519754, 'having': 311.9162312519754, 'undergone': 311.9162312519754, 'remarkable': 311.9162312519754, 'change': 311.9162312519754, 'still': 311.9162312519754, 'harbor': 311.9162312519754, 'feeling': 311.9162312519754, 'her': 311.9162312519754, 'crush': 311.9162312519754, 'carefree': 311.9162312519754, 'playboy': 311.9162312519754, 'before': 311.9162312519754, 'business': 311.9162312519754, 'focused': 311.9162312519754, 'brother': 311.9162312519754, 'ha': 311.9162312519754, 'something': 311.9162312519754, 'say': 311.9162312519754, 'about': 311.9162312519754, 'an': 207.94415416798358, 'for': 207.94415416798358, 'but': 207.94415416798358, 'not': 207.94415416798358, 'his': 207.94415416798358, 'it': 147.12438795175893, 'to': 103.97207708399179, 'a': 40.05941778735677}\n",
      "TF-IDF words for community: 6\n",
      "{'former': 274.48628350173834, 'fireman': 274.48628350173834, 'take': 274.48628350173834, 'terrorist': 274.48628350173834, 'holding': 274.48628350173834, 'the': 274.48628350173834, 'vice': 274.48628350173834, 'president': 274.48628350173834, 'others': 274.48628350173834, 'hostage': 274.48628350173834, 'during': 274.48628350173834, 'seventh': 274.48628350173834, 'nhl': 274.48628350173834, 'stanley': 274.48628350173834, 'cup': 274.48628350173834, 'final': 274.48628350173834, 'on': 182.99085566782554, 'group': 182.99085566782554, 'of': 182.99085566782554, 'game': 182.99085566782554, 'and': 62.0404790604371, 'a': 35.25228765287396}\n",
      "TF-IDF words for community: 7\n",
      "{'best': 51.986038541995896, 'friend': 51.986038541995896, 'witness': 51.986038541995896, 'murder': 51.986038541995896, 'embark': 51.986038541995896, 'series': 51.986038541995896, 'of': 51.986038541995896, 'adventure': 51.986038541995896, 'order': 51.986038541995896, 'prove': 51.986038541995896, 'the': 51.986038541995896, 'innocence': 51.986038541995896, 'wrongly': 51.986038541995896, 'accused': 51.986038541995896, 'crime': 51.986038541995896, 'two': 34.657359027997266, 'on': 34.657359027997266, 'man': 34.657359027997266, 'in': 24.520731325293156, 'to': 17.328679513998633, 'and': 11.750090731143391, 'a': 6.676569631226129}\n"
     ]
    }
   ],
   "source": [
    "com_size = []\n",
    "for i in range(len(Films)):\n",
    "    com_size.append(len(Films[i]))\n",
    "# Getting index for the 10 largest communities\n",
    "com_index = sorted(range(len(com_size)), key=lambda i: -com_size[i])\n",
    "## Getting all text from each community\n",
    "dc_com_tokens = []\n",
    "for c_ind in com_index:\n",
    "    com_i_tokens = []\n",
    "    for i in range(len(Films[c_ind])):\n",
    "        com_i_tokens.extend(tokenizer.tokenize(final_movie.Storyline[c_ind])) \n",
    "    com_i_tokens = [w.lower() for w in com_i_tokens]\n",
    "    com_i_tokens = [lemmatizer.lemmatize(w) for w in com_i_tokens]\n",
    "    dc_com_tokens.append(com_i_tokens)\n",
    "\n",
    "## Calculating TF list for each community\n",
    "TF_com_list = []\n",
    "for i in range(len(dc_com_tokens)):\n",
    "    fdist = FreqDist(dc_com_tokens[i])\n",
    "    TF_com_list.append(fdist)\n",
    "    #print(f\"Top 5 words for community: {i}\")\n",
    "    #print(fdist.most_common(5))\n",
    "\n",
    "## Calculating IDF for all words in all lists\n",
    "# Total documents\n",
    "N = len(dc_com_tokens)\n",
    "# All unique words\n",
    "unique_words = list(set(dc_com_tokens[0]))\n",
    "for i in range(1,N):\n",
    "    com_i_u_w = set(dc_com_tokens[i])\n",
    "    unique_words.extend(list(com_i_u_w))\n",
    "IDF_dict = dict()\n",
    "for word in unique_words:\n",
    "    nd = 0\n",
    "    for i in range(N):\n",
    "        if word in dc_com_tokens[i]:\n",
    "            nd += 1\n",
    "    IDF_dict[word] = np.log(N/nd)\n",
    "\n",
    "## Calculating TF-IDF\n",
    "w = 1000\n",
    "c = 0\n",
    "TF_IDF_all_com = []\n",
    "for c in range(N):\n",
    "    TF_IDF = dict()\n",
    "    for w in range(len(list(TF_com_list[c].keys()))):\n",
    "        tf_idf = TF_com_list[c][list(TF_com_list[c].keys())[w]]*IDF_dict[list(TF_com_list[c].keys())[w]]\n",
    "        TF_IDF[list(TF_com_list[c].keys())[w]] = tf_idf\n",
    "    TF_IDF_all_com.append(TF_IDF)\n",
    "\n",
    "## Printing top 10 TF-IDF words for each community \n",
    "for c in range(N):\n",
    "    print(f\"TF-IDF words for community: {c}\")\n",
    "    print(dict(sorted(TF_IDF_all_com[c].items(), key=lambda item: -item[1])))"
   ]
  },
  {
   "cell_type": "markdown",
   "id": "4834786e",
   "metadata": {},
   "source": [
    "## Connection Between the Found Communities and the Genres"
   ]
  },
  {
   "cell_type": "markdown",
   "id": "4c5c2e3d",
   "metadata": {},
   "source": [
    "We have compared the communities and the genres to find out is there any overlapping between the genres and the communities."
   ]
  },
  {
   "cell_type": "code",
   "execution_count": 15,
   "id": "33a82c9b",
   "metadata": {},
   "outputs": [],
   "source": [
    "from itertools import groupby\n",
    "\n",
    "# Sort the nodes by their role (this is required for the groupby to work)\n",
    "sorted_by_role = sorted(G.nodes(data=True), key=lambda node_data: node_data[1][\"genre\"])\n",
    "# Group objects with same role together\n",
    "grouped = groupby(sorted_by_role, key=lambda node_data: node_data[1][\"genre\"])\n",
    "\n",
    "subgraphs = dict()\n",
    "for key, group in grouped:\n",
    "     nodes_in_group, _ = zip(*list(group))  # We don't care about the data here, only the node names\n",
    "     subgraphs[key] = G.subgraph(nodes_in_group)"
   ]
  },
  {
   "cell_type": "code",
   "execution_count": 16,
   "id": "02c054ea",
   "metadata": {},
   "outputs": [],
   "source": [
    "empty={}\n",
    "for x in subgraphs.keys():\n",
    "    sub={}\n",
    "    values=[]\n",
    "    keys=range(len(list(subgraphs[x].nodes)))\n",
    "    for i in range(len(list(subgraphs[x].nodes))):\n",
    "        values.append(len(subgraphs[x].edges(list(subgraphs[x].nodes)[i])))\n",
    "    for i in keys:\n",
    "        sub[i] = x\n",
    "    for z in range(len(list(subgraphs[x].nodes))):\n",
    "        sub[list(subgraphs[x].nodes)[z]]=sub.pop(z)\n",
    "        empty.update(sub)"
   ]
  },
  {
   "cell_type": "markdown",
   "id": "7243def6",
   "metadata": {},
   "source": [
    "We take a look at is there any connection between the created communities and the genres. The Dataframe show us there are no connection between them."
   ]
  },
  {
   "cell_type": "code",
   "execution_count": 17,
   "id": "981c2425",
   "metadata": {},
   "outputs": [
    {
     "data": {
      "text/html": [
       "<div>\n",
       "<style scoped>\n",
       "    .dataframe tbody tr th:only-of-type {\n",
       "        vertical-align: middle;\n",
       "    }\n",
       "\n",
       "    .dataframe tbody tr th {\n",
       "        vertical-align: top;\n",
       "    }\n",
       "\n",
       "    .dataframe thead th {\n",
       "        text-align: right;\n",
       "    }\n",
       "</style>\n",
       "<table border=\"1\" class=\"dataframe\">\n",
       "  <thead>\n",
       "    <tr style=\"text-align: right;\">\n",
       "      <th></th>\n",
       "      <th></th>\n",
       "      <th>number of genre</th>\n",
       "    </tr>\n",
       "    <tr>\n",
       "      <th>community</th>\n",
       "      <th>genre</th>\n",
       "      <th></th>\n",
       "    </tr>\n",
       "  </thead>\n",
       "  <tbody>\n",
       "    <tr>\n",
       "      <th rowspan=\"5\" valign=\"top\">0</th>\n",
       "      <th>3</th>\n",
       "      <td>362</td>\n",
       "    </tr>\n",
       "    <tr>\n",
       "      <th>1</th>\n",
       "      <td>237</td>\n",
       "    </tr>\n",
       "    <tr>\n",
       "      <th>2</th>\n",
       "      <td>197</td>\n",
       "    </tr>\n",
       "    <tr>\n",
       "      <th>10</th>\n",
       "      <td>113</td>\n",
       "    </tr>\n",
       "    <tr>\n",
       "      <th>4</th>\n",
       "      <td>80</td>\n",
       "    </tr>\n",
       "    <tr>\n",
       "      <th>...</th>\n",
       "      <th>...</th>\n",
       "      <td>...</td>\n",
       "    </tr>\n",
       "    <tr>\n",
       "      <th rowspan=\"5\" valign=\"top\">7</th>\n",
       "      <th>0</th>\n",
       "      <td>8</td>\n",
       "    </tr>\n",
       "    <tr>\n",
       "      <th>2</th>\n",
       "      <td>6</td>\n",
       "    </tr>\n",
       "    <tr>\n",
       "      <th>4</th>\n",
       "      <td>5</td>\n",
       "    </tr>\n",
       "    <tr>\n",
       "      <th>10</th>\n",
       "      <td>3</td>\n",
       "    </tr>\n",
       "    <tr>\n",
       "      <th>18</th>\n",
       "      <td>1</td>\n",
       "    </tr>\n",
       "  </tbody>\n",
       "</table>\n",
       "<p>114 rows × 1 columns</p>\n",
       "</div>"
      ],
      "text/plain": [
       "                 number of genre\n",
       "community genre                 \n",
       "0         3                  362\n",
       "          1                  237\n",
       "          2                  197\n",
       "          10                 113\n",
       "          4                   80\n",
       "...                          ...\n",
       "7         0                    8\n",
       "          2                    6\n",
       "          4                    5\n",
       "          10                   3\n",
       "          18                   1\n",
       "\n",
       "[114 rows x 1 columns]"
      ]
     },
     "execution_count": 17,
     "metadata": {},
     "output_type": "execute_result"
    }
   ],
   "source": [
    "part=pd.DataFrame.from_dict(partition,orient='index')\n",
    "genre=pd.DataFrame.from_dict(empty,orient='index')\n",
    "Genres=pd.DataFrame(pd.merge(part, genre, left_index=True, right_index=True).rename(columns={'0_x':'community','0_y':'genre'}).groupby('community').value_counts(),columns=['number of genre'])\n",
    "Genres"
   ]
  },
  {
   "cell_type": "markdown",
   "id": "da8d457b",
   "metadata": {},
   "source": [
    "# 4. Multi-label Classification"
   ]
  },
  {
   "cell_type": "markdown",
   "id": "23771413",
   "metadata": {},
   "source": [
    "Creating a multi-label classification model to predict genres based on storylines"
   ]
  },
  {
   "cell_type": "markdown",
   "id": "ca7eb4ee",
   "metadata": {},
   "source": [
    "## Preparing the data"
   ]
  },
  {
   "cell_type": "markdown",
   "id": "5567d666",
   "metadata": {},
   "source": [
    "Preparing the data by one-hot-encoding the target, the genre variable"
   ]
  },
  {
   "cell_type": "code",
   "execution_count": 4,
   "id": "3b22dafe",
   "metadata": {},
   "outputs": [],
   "source": [
    "#### One hot encoding data\n",
    "\n",
    "## Taking only relevant columns\n",
    "final_movie = pd.read_csv('D:\\DTU\\Large Files\\Social Graphs\\Project\\ml-latest-small\\\\movies_final.csv')\n",
    "class_data = final_movie[[\"Storyline\", \"genres\"]]\n",
    "\n",
    "\n",
    "## Splitting genres into lists\n",
    "genres = []\n",
    "for i in range(len(class_data[\"genres\"])):\n",
    "    genres.append(class_data[\"genres\"][i].split(\"|\"))\n",
    "\n",
    "## One hot encoding\n",
    "one_hot = MultiLabelBinarizer()\n",
    "ohe_genres = pd.DataFrame(one_hot.fit_transform(genres), columns = one_hot.classes_)\n",
    "\n",
    "## Adding to dataframe\n",
    "class_data_ohe = pd.concat([class_data, ohe_genres], axis=1, join='inner')\n",
    "\n",
    "## Removing nan\n",
    "class_data_ohe = class_data_ohe.dropna()"
   ]
  },
  {
   "cell_type": "markdown",
   "id": "32b2268b",
   "metadata": {},
   "source": [
    "## Text processing"
   ]
  },
  {
   "cell_type": "markdown",
   "id": "5629d334",
   "metadata": {},
   "source": [
    "Preprocessing the input, the storyline text, by tokenizing, removing stop words and stemming  "
   ]
  },
  {
   "cell_type": "code",
   "execution_count": 5,
   "id": "bfcbb279",
   "metadata": {},
   "outputs": [
    {
     "name": "stderr",
     "output_type": "stream",
     "text": [
      "[nltk_data] Downloading package stopwords to\n",
      "[nltk_data]     /Users/simonknudsen/nltk_data...\n",
      "[nltk_data]   Package stopwords is already up-to-date!\n"
     ]
    }
   ],
   "source": [
    "### Downloading stem and stopwords\n",
    "stemmer = nltk.stem.SnowballStemmer('english')\n",
    "nltk.download('stopwords')\n",
    "stop_words = set(nltk.corpus.stopwords.words('english'))"
   ]
  },
  {
   "cell_type": "code",
   "execution_count": 6,
   "id": "7c4757b0",
   "metadata": {},
   "outputs": [],
   "source": [
    "### Preprocess function\n",
    "def preprocessing(text):\n",
    "   # Tokenize all words longer than 1 letter\n",
    "   tokens = [word for word in nltk.word_tokenize(text) if (len(word) > 1) ] \n",
    "   tokens = map(str.lower, tokens) # unique words\n",
    "   # Stems all tokens (stop words ignored)\n",
    "   stems = [stemmer.stem(item) for item in tokens if (item not in stop_words)]\n",
    "   return stems"
   ]
  },
  {
   "cell_type": "code",
   "execution_count": 7,
   "id": "87df2ddd",
   "metadata": {},
   "outputs": [],
   "source": [
    "vectorizer_tf = TfidfVectorizer(tokenizer=preprocessing, stop_words=None, max_df=0.75, max_features=2000, lowercase=False, ngram_range=(1,3))\n",
    "# Initial parameters:\n",
    "# max_feature=1000\n",
    "# n_gram =(1,2)\n",
    "# max_df=0.75"
   ]
  },
  {
   "cell_type": "markdown",
   "id": "7d3976c4",
   "metadata": {},
   "source": [
    "## Creating train and test data sets"
   ]
  },
  {
   "cell_type": "markdown",
   "id": "a9a6bbee",
   "metadata": {},
   "source": [
    "Splitting the input and target into train and test sets"
   ]
  },
  {
   "cell_type": "code",
   "execution_count": 9,
   "id": "cd448211",
   "metadata": {},
   "outputs": [],
   "source": [
    "### Creating data\n",
    "\n",
    "## Features, storylines  \n",
    "Xfeatures = vectorizer_tf.fit_transform(class_data_ohe.Storyline).toarray()\n",
    "\n",
    "## Classification classes, genres\n",
    "y = class_data_ohe[['(no genres listed)', 'Action', 'Adventure',\n",
    "       'Animation', 'Children', 'Comedy', 'Crime', 'Documentary', 'Drama',\n",
    "       'Fantasy', 'Film-Noir', 'Horror', 'IMAX', 'Musical', 'Mystery',\n",
    "       'Romance', 'Sci-Fi', 'Thriller', 'War', 'Western']]\n",
    "\n",
    "## Splitting in train and test\n",
    "X_train,X_test,y_train,y_test = train_test_split(Xfeatures,y,test_size=0.3,random_state=42)"
   ]
  },
  {
   "cell_type": "markdown",
   "id": "ecd7c2b6",
   "metadata": {},
   "source": [
    "## Building model"
   ]
  },
  {
   "cell_type": "markdown",
   "id": "e8f8a8ae",
   "metadata": {},
   "source": [
    "Building a Multinomial Naive Bayes classification model to a classifier chain to handle multi-labels "
   ]
  },
  {
   "cell_type": "code",
   "execution_count": 10,
   "id": "9325160c",
   "metadata": {},
   "outputs": [],
   "source": [
    "### Defining model\n",
    "def build_model(model,mlb_estimator,xtrain,ytrain,xtest,ytest):\n",
    "    clf = mlb_estimator(model)\n",
    "    clf.fit(xtrain,ytrain)\n",
    "    clf_predictions = clf.predict(xtest)\n",
    "    acc = accuracy_score(ytest,clf_predictions)\n",
    "    ham = hamming_loss(ytest,clf_predictions)\n",
    "    result = {\"accuracy:\":acc,\"hamming_score\":ham}\n",
    "    return result, clf"
   ]
  },
  {
   "cell_type": "code",
   "execution_count": 11,
   "id": "b2a2a555",
   "metadata": {},
   "outputs": [
    {
     "data": {
      "text/plain": [
       "{'accuracy:': 0.1568287037037037, 'hamming_score': 0.10081018518518518}"
      ]
     },
     "execution_count": 11,
     "metadata": {},
     "output_type": "execute_result"
    }
   ],
   "source": [
    "### Model 2\n",
    "clf_chain_model, clf_chain = build_model(MultinomialNB(),ClassifierChain,X_train,y_train,X_test,y_test)\n",
    "clf_chain_model"
   ]
  },
  {
   "cell_type": "markdown",
   "id": "85c3af66",
   "metadata": {},
   "source": [
    "## Evaluation"
   ]
  },
  {
   "cell_type": "markdown",
   "id": "92b10f2e",
   "metadata": {},
   "source": [
    "Evaluating the model with different scores, and comparing to baseline models"
   ]
  },
  {
   "cell_type": "code",
   "execution_count": 16,
   "id": "2392fd8b",
   "metadata": {},
   "outputs": [
    {
     "name": "stdout",
     "output_type": "stream",
     "text": [
      "Clf model predictions\n",
      "Exact matches, accuracy: 0.1568287037037037\n",
      "Each genre-match, accuracy: 0.8991898148148149\n",
      "Each genre-match, precision: 0.6420176297747306\n",
      "Each genre-match, recall: 0.32258858267716534\n",
      "Each genre-match, F1: 0.42941369145103175\n",
      "\n",
      "Baseline zero-model predictions\n",
      "Exact matches, accuracy: 0.0\n",
      "Each genre-match, accuracy: 0.8824074074074074\n",
      "Each genre-match, precision: '0', none predicted positive\n",
      "Each genre-match, recall: 0.0\n",
      "Each genre-match, F1: 0.0\n",
      "\n",
      "Baseline ones-model predictions\n",
      "Exact matches, accuracy: 0.0\n",
      "Each genre-match, accuracy: 0.1175925925925926\n",
      "Each genre-match, precision: 0.1175925925925926\n",
      "Each genre-match, recall: 1.0\n",
      "Each genre-match, F1: 0.2104391052195526\n"
     ]
    }
   ],
   "source": [
    "### Calculating different evaluation scores - Compared to baseline models\n",
    "\n",
    "## CLF model predictions for test data\n",
    "clf_predictions = clf_chain.predict(X_test)\n",
    "# Initializing  \n",
    "TP_each = 0\n",
    "TN_each = 0\n",
    "FP_each = 0\n",
    "FN_each = 0\n",
    "T_exact = 0\n",
    "# For loop through all predictions   \n",
    "for i in range(1728):\n",
    "    if((y_test.to_numpy()[i] == clf_predictions[i]).all()):\n",
    "        T_exact += 1\n",
    "    for j in range(20):\n",
    "        if(y_test.to_numpy()[i][j] == 1 and clf_predictions[i][j] == 1):\n",
    "            TP_each += 1\n",
    "        if(y_test.to_numpy()[i][j] == 0 and clf_predictions[i][j] == 0):\n",
    "            TN_each += 1\n",
    "        if(y_test.to_numpy()[i][j] == 0 and clf_predictions[i][j] == 1):\n",
    "            FP_each += 1 \n",
    "        if(y_test.to_numpy()[i][j] == 1 and clf_predictions[i][j] == 0):\n",
    "            FN_each += 1   \n",
    "# Printing scores\n",
    "print(\"Clf model predictions\")\n",
    "print(\"Exact matches, accuracy:\", T_exact/1728)\n",
    "print(\"Each genre-match, accuracy:\", (TP_each+TN_each)/(TP_each+TN_each+FP_each+FN_each))\n",
    "print(\"Each genre-match, precision:\", (TP_each)/(TP_each+FP_each))\n",
    "print(\"Each genre-match, recall:\", (TP_each)/(TP_each+FN_each))\n",
    "print(\"Each genre-match, F1:\", (2*TP_each)/(2*TP_each+FP_each+FN_each))\n",
    "\n",
    "## Baseline model, all zeros (no genre predicted for any movie)\n",
    "base_predictions = np.zeros((1728,20))\n",
    "# Initializing  \n",
    "TP_each_b = 0\n",
    "TN_each_b = 0\n",
    "FP_each_b = 0\n",
    "FN_each_b = 0\n",
    "T_exact_b = 0\n",
    "# For loop through all predictions   \n",
    "for i in range(1728):\n",
    "    if((y_test.to_numpy()[i] == base_predictions[i]).all()):\n",
    "        T_exact_b += 1\n",
    "    for j in range(20):\n",
    "        if(y_test.to_numpy()[i][j] == 1 and base_predictions[i][j] == 1):\n",
    "            TP_each_b += 1\n",
    "        if(y_test.to_numpy()[i][j] == 0 and base_predictions[i][j] == 0):\n",
    "            TN_each_b += 1\n",
    "        if(y_test.to_numpy()[i][j] == 0 and base_predictions[i][j] == 1):\n",
    "            FP_each_b += 1\n",
    "        if(y_test.to_numpy()[i][j] == 1 and base_predictions[i][j] == 0):\n",
    "            FN_each_b += 1\n",
    "# Printing scores\n",
    "print(\"\")\n",
    "print(\"Baseline zero-model predictions\")\n",
    "print(\"Exact matches, accuracy:\", T_exact_b/1728)\n",
    "print(\"Each genre-match, accuracy:\", (TP_each_b+TN_each_b)/(TP_each_b+TN_each_b+FP_each_b+FN_each_b))\n",
    "print(\"Each genre-match, precision: '0', none predicted positive\")\n",
    "print(\"Each genre-match, recall:\", (TP_each_b)/(TP_each_b+FN_each_b))\n",
    "print(\"Each genre-match, F1:\", (2*TP_each_b)/(2*TP_each_b+FP_each_b+FN_each_b))\n",
    "\n",
    "## Baseline model, all ones (all genres predicted for all movies)\n",
    "base1_predictions = np.ones((1728,20))\n",
    "# Initializing  \n",
    "TP_each_b1 = 0\n",
    "TN_each_b1 = 0\n",
    "FP_each_b1 = 0\n",
    "FN_each_b1 = 0\n",
    "T_exact_b1 = 0\n",
    "# For loop through all predictions   \n",
    "for i in range(1728):\n",
    "    if((y_test.to_numpy()[i] == base1_predictions[i]).all()):\n",
    "        T_exact_b1 += 1\n",
    "    for j in range(20):\n",
    "        if(y_test.to_numpy()[i][j] == 1 and base1_predictions[i][j] == 1):\n",
    "            TP_each_b1 += 1\n",
    "        if(y_test.to_numpy()[i][j] == 0 and base1_predictions[i][j] == 0):\n",
    "            TN_each_b1 += 1\n",
    "        if(y_test.to_numpy()[i][j] == 0 and base1_predictions[i][j] == 1):\n",
    "            FP_each_b1 += 1\n",
    "        if(y_test.to_numpy()[i][j] == 1 and base1_predictions[i][j] == 0):\n",
    "            FN_each_b1 += 1\n",
    "# Printing scores\n",
    "print(\"\")\n",
    "print(\"Baseline ones-model predictions\")\n",
    "print(\"Exact matches, accuracy:\", T_exact_b1/1728)\n",
    "print(\"Each genre-match, accuracy:\", (TP_each_b1+TN_each_b1)/(TP_each_b1+TN_each_b1+FP_each_b1+FN_each_b1))\n",
    "print(\"Each genre-match, precision:\", (TP_each_b1)/(TP_each_b1+FP_each_b1))\n",
    "print(\"Each genre-match, recall:\", (TP_each_b1)/(TP_each_b1+FN_each_b1))\n",
    "print(\"Each genre-match, F1:\", (2*TP_each_b1)/(2*TP_each_b1+FP_each_b1+FN_each_b1))"
   ]
  },
  {
   "cell_type": "markdown",
   "id": "67e10577",
   "metadata": {},
   "source": [
    "We see our model performs better than both baseline models within all the evaluation scores, except for the recall evaluation to the ones-model. But this will naturally always be 100% for a all ones-model, since it doesn't predict any zeros"
   ]
  },
  {
   "cell_type": "markdown",
   "id": "8f9d10dd",
   "metadata": {},
   "source": [
    "## Prediction example"
   ]
  },
  {
   "cell_type": "markdown",
   "id": "b6d7e177",
   "metadata": {},
   "source": [
    "An example of a prediction\n",
    "With this example (Toy Story), we see it has 5 genres, and the model predicts one of them correctly, Comedy "
   ]
  },
  {
   "cell_type": "code",
   "execution_count": 18,
   "id": "90471d20",
   "metadata": {},
   "outputs": [
    {
     "data": {
      "text/plain": [
       "array([[0., 0., 0., 0., 0., 1., 0., 0., 0., 0., 0., 0., 0., 0., 0., 0.,\n",
       "        0., 0., 0., 0.]])"
      ]
     },
     "execution_count": 18,
     "metadata": {},
     "output_type": "execute_result"
    }
   ],
   "source": [
    "ex1 = class_data_ohe['Storyline'].iloc[0]\n",
    "vec_example = vectorizer_tf.transform([ex1])\n",
    "clf_chain.predict(vec_example)"
   ]
  },
  {
   "cell_type": "code",
   "execution_count": 19,
   "id": "49609487",
   "metadata": {},
   "outputs": [
    {
     "data": {
      "text/plain": [
       "Storyline             A cowboy doll is profoundly threatened and jea...\n",
       "genres                      Adventure|Animation|Children|Comedy|Fantasy\n",
       "(no genres listed)                                                    0\n",
       "Action                                                                0\n",
       "Adventure                                                             1\n",
       "Animation                                                             1\n",
       "Children                                                              1\n",
       "Comedy                                                                1\n",
       "Crime                                                                 0\n",
       "Documentary                                                           0\n",
       "Drama                                                                 0\n",
       "Fantasy                                                               1\n",
       "Film-Noir                                                             0\n",
       "Horror                                                                0\n",
       "IMAX                                                                  0\n",
       "Musical                                                               0\n",
       "Mystery                                                               0\n",
       "Romance                                                               0\n",
       "Sci-Fi                                                                0\n",
       "Thriller                                                              0\n",
       "War                                                                   0\n",
       "Western                                                               0\n",
       "Name: 0, dtype: object"
      ]
     },
     "execution_count": 19,
     "metadata": {},
     "output_type": "execute_result"
    }
   ],
   "source": [
    "class_data_ohe.loc[0]"
   ]
  }
 ],
 "metadata": {
  "kernelspec": {
   "display_name": "Python 3 (ipykernel)",
   "language": "python",
   "name": "python3"
  },
  "language_info": {
   "codemirror_mode": {
    "name": "ipython",
    "version": 3
   },
   "file_extension": ".py",
   "mimetype": "text/x-python",
   "name": "python",
   "nbconvert_exporter": "python",
   "pygments_lexer": "ipython3",
   "version": "3.10.0"
  },
  "vscode": {
   "interpreter": {
    "hash": "0f8b8cbab426f04b260accaa8dc73a62bd3e882c794e5f99d5fd470f25f28dd2"
   }
  }
 },
 "nbformat": 4,
 "nbformat_minor": 5
}
